{
 "cells": [
  {
   "cell_type": "code",
   "execution_count": 475,
   "id": "8d8f36f1-3b10-4a9c-8c44-086fe73fdb2a",
   "metadata": {},
   "outputs": [],
   "source": [
    "import pandas as pd\n",
    "import numpy as np"
   ]
  },
  {
   "cell_type": "code",
   "execution_count": 476,
   "id": "8fe205aa-3352-4c55-9fbe-0f353ec92ddd",
   "metadata": {
    "jupyter": {
     "source_hidden": true
    }
   },
   "outputs": [],
   "source": [
    "df = pd.read_csv('Report Orders - Sheet1.csv')"
   ]
  },
  {
   "cell_type": "code",
   "execution_count": 477,
   "id": "4b9c5681-c887-42d7-9dc4-3f0127d2c570",
   "metadata": {
    "jupyter": {
     "source_hidden": true
    }
   },
   "outputs": [],
   "source": [
    "df = df.rename(columns={'User ID':'user_id',\n",
    "                  'Amount':'amount',\n",
    "                  'Currency':'currency',\n",
    "                  'Status':'status',\n",
    "                  'Payment Method': 'payment_method',\n",
    "                  'Created At': 'created_at',\n",
    "                  'Description': 'description'})"
   ]
  },
  {
   "cell_type": "code",
   "execution_count": 478,
   "id": "e1509ec1-f1d4-4d6a-9549-5215b9817339",
   "metadata": {
    "jupyter": {
     "source_hidden": true
    }
   },
   "outputs": [
    {
     "name": "stderr",
     "output_type": "stream",
     "text": [
      "/var/folders/dn/f65zy3pj4y9fm0d3kplg7n3r0000gn/T/ipykernel_49456/3146473016.py:1: UserWarning:\n",
      "\n",
      "Could not infer format, so each element will be parsed individually, falling back to `dateutil`. To ensure parsing is consistent and as-expected, please specify a format.\n",
      "\n"
     ]
    }
   ],
   "source": [
    "df['created_at'] = pd.to_datetime(df['created_at'])\n",
    "df['data_chunk_date'] = df.created_at.dt.date"
   ]
  },
  {
   "cell_type": "markdown",
   "id": "ae492a72-89cf-4666-a9df-2f0ea1a3fe63",
   "metadata": {},
   "source": [
    "## **0. ДОСЛІДЖЕННЯ ЛОГІКИ РОБОТИ ТРАНЗАКЦІЙНИХ СТАТУСІВ**"
   ]
  },
  {
   "cell_type": "code",
   "execution_count": 479,
   "id": "58bfc392-9137-4245-b5e1-6825d8d9d47c",
   "metadata": {
    "jupyter": {
     "source_hidden": true
    }
   },
   "outputs": [],
   "source": [
    "temp = df.copy()"
   ]
  },
  {
   "cell_type": "markdown",
   "id": "e50c7553-9f7a-4bf7-afd5-b38e12238a7d",
   "metadata": {},
   "source": [
    "### **0.1. Дослідимо які є статуси**"
   ]
  },
  {
   "cell_type": "code",
   "execution_count": 480,
   "id": "78fccfc6-7215-46e8-b0d7-f35308482ac4",
   "metadata": {
    "jupyter": {
     "source_hidden": true
    }
   },
   "outputs": [
    {
     "name": "stdout",
     "output_type": "stream",
     "text": [
      "Статуси які наявні в даних = ['success' 'declined' 'refunded']\n"
     ]
    }
   ],
   "source": [
    "print(f'Статуси які наявні в даних = {temp.status.unique()}')"
   ]
  },
  {
   "cell_type": "markdown",
   "id": "6618aa76-5217-49e9-99fb-7891e9560d28",
   "metadata": {},
   "source": [
    "### **0.2. Промаркуємо всі транзакції в залежності від їхнього статусі, для того щоб в подальшому оцінювати юзери з якими транзакціями зустрічаються, а також, чи можуть змінюватись транзакції**"
   ]
  },
  {
   "cell_type": "code",
   "execution_count": 481,
   "id": "8b0f0110-83ab-467b-917e-546a17d90856",
   "metadata": {
    "jupyter": {
     "source_hidden": true
    }
   },
   "outputs": [],
   "source": [
    "temp['have_success'] = temp.status == 'success'\n",
    "temp['have_declined'] = temp.status == 'declined'\n",
    "temp['have_refunded'] = temp.status == 'refunded'"
   ]
  },
  {
   "cell_type": "markdown",
   "id": "60ff90ed-b5b4-4601-8785-57a3fcefbc31",
   "metadata": {},
   "source": [
    "### **0.3. Просумуємо для кожного юзера кількість транзакцій з різними статусами**"
   ]
  },
  {
   "cell_type": "code",
   "execution_count": 482,
   "id": "6bb3a383-9487-46b3-af41-c13b6b7d5908",
   "metadata": {
    "jupyter": {
     "source_hidden": true
    }
   },
   "outputs": [
    {
     "data": {
      "text/html": [
       "<div>\n",
       "<style scoped>\n",
       "    .dataframe tbody tr th:only-of-type {\n",
       "        vertical-align: middle;\n",
       "    }\n",
       "\n",
       "    .dataframe tbody tr th {\n",
       "        vertical-align: top;\n",
       "    }\n",
       "\n",
       "    .dataframe thead th {\n",
       "        text-align: right;\n",
       "    }\n",
       "</style>\n",
       "<table border=\"1\" class=\"dataframe\">\n",
       "  <thead>\n",
       "    <tr style=\"text-align: right;\">\n",
       "      <th></th>\n",
       "      <th>user_id</th>\n",
       "      <th>number_of_success_transactions</th>\n",
       "      <th>number_of_declined_transactions</th>\n",
       "      <th>number_of_refunded_transactions</th>\n",
       "    </tr>\n",
       "  </thead>\n",
       "  <tbody>\n",
       "    <tr>\n",
       "      <th>0</th>\n",
       "      <td>USER_410001</td>\n",
       "      <td>3</td>\n",
       "      <td>0</td>\n",
       "      <td>0</td>\n",
       "    </tr>\n",
       "    <tr>\n",
       "      <th>1</th>\n",
       "      <td>USER_410004</td>\n",
       "      <td>1</td>\n",
       "      <td>0</td>\n",
       "      <td>0</td>\n",
       "    </tr>\n",
       "    <tr>\n",
       "      <th>2</th>\n",
       "      <td>USER_410006</td>\n",
       "      <td>2</td>\n",
       "      <td>4</td>\n",
       "      <td>0</td>\n",
       "    </tr>\n",
       "    <tr>\n",
       "      <th>3</th>\n",
       "      <td>USER_410033</td>\n",
       "      <td>0</td>\n",
       "      <td>1</td>\n",
       "      <td>0</td>\n",
       "    </tr>\n",
       "    <tr>\n",
       "      <th>4</th>\n",
       "      <td>USER_410035</td>\n",
       "      <td>0</td>\n",
       "      <td>2</td>\n",
       "      <td>0</td>\n",
       "    </tr>\n",
       "  </tbody>\n",
       "</table>\n",
       "</div>"
      ],
      "text/plain": [
       "       user_id  number_of_success_transactions  \\\n",
       "0  USER_410001                               3   \n",
       "1  USER_410004                               1   \n",
       "2  USER_410006                               2   \n",
       "3  USER_410033                               0   \n",
       "4  USER_410035                               0   \n",
       "\n",
       "   number_of_declined_transactions  number_of_refunded_transactions  \n",
       "0                                0                                0  \n",
       "1                                0                                0  \n",
       "2                                4                                0  \n",
       "3                                1                                0  \n",
       "4                                2                                0  "
      ]
     },
     "execution_count": 482,
     "metadata": {},
     "output_type": "execute_result"
    }
   ],
   "source": [
    "temp = temp.groupby('user_id').agg(number_of_success_transactions=('have_success','sum'),\n",
    "                           number_of_declined_transactions=('have_declined','sum'),\n",
    "                           number_of_refunded_transactions=('have_refunded','sum')).reset_index()\n",
    "temp.head()"
   ]
  },
  {
   "cell_type": "markdown",
   "id": "79d6fd28-7491-4ab6-b3d8-cb3ffdf52830",
   "metadata": {},
   "source": [
    "### **0.4. Дослідимо, чи є юзери з 0 успішних транзакцій в даних**"
   ]
  },
  {
   "cell_type": "code",
   "execution_count": 483,
   "id": "cc008179-51eb-49e1-9650-8ad4b7e25190",
   "metadata": {
    "jupyter": {
     "source_hidden": true
    }
   },
   "outputs": [
    {
     "data": {
      "text/html": [
       "<div>\n",
       "<style scoped>\n",
       "    .dataframe tbody tr th:only-of-type {\n",
       "        vertical-align: middle;\n",
       "    }\n",
       "\n",
       "    .dataframe tbody tr th {\n",
       "        vertical-align: top;\n",
       "    }\n",
       "\n",
       "    .dataframe thead th {\n",
       "        text-align: right;\n",
       "    }\n",
       "</style>\n",
       "<table border=\"1\" class=\"dataframe\">\n",
       "  <thead>\n",
       "    <tr style=\"text-align: right;\">\n",
       "      <th></th>\n",
       "      <th>user_id</th>\n",
       "      <th>number_of_success_transactions</th>\n",
       "      <th>number_of_declined_transactions</th>\n",
       "      <th>number_of_refunded_transactions</th>\n",
       "    </tr>\n",
       "  </thead>\n",
       "  <tbody>\n",
       "    <tr>\n",
       "      <th>3</th>\n",
       "      <td>USER_410033</td>\n",
       "      <td>0</td>\n",
       "      <td>1</td>\n",
       "      <td>0</td>\n",
       "    </tr>\n",
       "    <tr>\n",
       "      <th>4</th>\n",
       "      <td>USER_410035</td>\n",
       "      <td>0</td>\n",
       "      <td>2</td>\n",
       "      <td>0</td>\n",
       "    </tr>\n",
       "    <tr>\n",
       "      <th>17</th>\n",
       "      <td>USER_410120</td>\n",
       "      <td>0</td>\n",
       "      <td>1</td>\n",
       "      <td>0</td>\n",
       "    </tr>\n",
       "    <tr>\n",
       "      <th>21</th>\n",
       "      <td>USER_410137</td>\n",
       "      <td>0</td>\n",
       "      <td>0</td>\n",
       "      <td>1</td>\n",
       "    </tr>\n",
       "    <tr>\n",
       "      <th>22</th>\n",
       "      <td>USER_410151</td>\n",
       "      <td>0</td>\n",
       "      <td>1</td>\n",
       "      <td>0</td>\n",
       "    </tr>\n",
       "  </tbody>\n",
       "</table>\n",
       "</div>"
      ],
      "text/plain": [
       "        user_id  number_of_success_transactions  \\\n",
       "3   USER_410033                               0   \n",
       "4   USER_410035                               0   \n",
       "17  USER_410120                               0   \n",
       "21  USER_410137                               0   \n",
       "22  USER_410151                               0   \n",
       "\n",
       "    number_of_declined_transactions  number_of_refunded_transactions  \n",
       "3                                 1                                0  \n",
       "4                                 2                                0  \n",
       "17                                1                                0  \n",
       "21                                0                                1  \n",
       "22                                1                                0  "
      ]
     },
     "execution_count": 483,
     "metadata": {},
     "output_type": "execute_result"
    }
   ],
   "source": [
    "temp[(temp.number_of_success_transactions == 0)].head()"
   ]
  },
  {
   "cell_type": "code",
   "execution_count": 484,
   "id": "b35b2100-7ca2-4e2c-8e4e-5e8af6902843",
   "metadata": {
    "jupyter": {
     "source_hidden": true
    }
   },
   "outputs": [
    {
     "name": "stdout",
     "output_type": "stream",
     "text": [
      "Кількість користувачів з 0 успішних транзакцій = 623\n"
     ]
    }
   ],
   "source": [
    "print(f'Кількість користувачів з 0 успішних транзакцій = {temp[(temp.number_of_success_transactions == 0)].user_id.nunique()}')"
   ]
  },
  {
   "cell_type": "markdown",
   "id": "22e1f1d0-dbe9-43d9-b283-583cf54631f3",
   "metadata": {},
   "source": [
    "### **0.5. Бачимо що є 623 користувачів які мають 0 успішних транзакцій, виберемо їх з таблиці вище, і подивимось які в них транзакції і статуси бувають.**"
   ]
  },
  {
   "cell_type": "code",
   "execution_count": 485,
   "id": "88ea0757-003b-4b1b-b95f-c4f8e94a354e",
   "metadata": {
    "jupyter": {
     "source_hidden": true
    }
   },
   "outputs": [
    {
     "data": {
      "text/html": [
       "<div>\n",
       "<style scoped>\n",
       "    .dataframe tbody tr th:only-of-type {\n",
       "        vertical-align: middle;\n",
       "    }\n",
       "\n",
       "    .dataframe tbody tr th {\n",
       "        vertical-align: top;\n",
       "    }\n",
       "\n",
       "    .dataframe thead th {\n",
       "        text-align: right;\n",
       "    }\n",
       "</style>\n",
       "<table border=\"1\" class=\"dataframe\">\n",
       "  <thead>\n",
       "    <tr style=\"text-align: right;\">\n",
       "      <th></th>\n",
       "      <th>user_id</th>\n",
       "      <th>amount</th>\n",
       "      <th>currency</th>\n",
       "      <th>status</th>\n",
       "      <th>payment_method</th>\n",
       "      <th>created_at</th>\n",
       "      <th>description</th>\n",
       "      <th>data_chunk_date</th>\n",
       "    </tr>\n",
       "  </thead>\n",
       "  <tbody>\n",
       "    <tr>\n",
       "      <th>4573</th>\n",
       "      <td>USER_410033</td>\n",
       "      <td>69</td>\n",
       "      <td>USD</td>\n",
       "      <td>declined</td>\n",
       "      <td>Apple Pay</td>\n",
       "      <td>2022-09-17 01:47:00</td>\n",
       "      <td>Subscription for user 410033 by 2022_09</td>\n",
       "      <td>2022-09-17</td>\n",
       "    </tr>\n",
       "  </tbody>\n",
       "</table>\n",
       "</div>"
      ],
      "text/plain": [
       "          user_id  amount currency    status payment_method  \\\n",
       "4573  USER_410033      69      USD  declined      Apple Pay   \n",
       "\n",
       "              created_at                              description  \\\n",
       "4573 2022-09-17 01:47:00  Subscription for user 410033 by 2022_09   \n",
       "\n",
       "     data_chunk_date  \n",
       "4573      2022-09-17  "
      ]
     },
     "execution_count": 485,
     "metadata": {},
     "output_type": "execute_result"
    }
   ],
   "source": [
    "df[df.user_id == 'USER_410033']"
   ]
  },
  {
   "cell_type": "code",
   "execution_count": 486,
   "id": "43e4b561-04b5-4163-92e9-029438f12fbd",
   "metadata": {
    "jupyter": {
     "source_hidden": true
    }
   },
   "outputs": [
    {
     "data": {
      "text/html": [
       "<div>\n",
       "<style scoped>\n",
       "    .dataframe tbody tr th:only-of-type {\n",
       "        vertical-align: middle;\n",
       "    }\n",
       "\n",
       "    .dataframe tbody tr th {\n",
       "        vertical-align: top;\n",
       "    }\n",
       "\n",
       "    .dataframe thead th {\n",
       "        text-align: right;\n",
       "    }\n",
       "</style>\n",
       "<table border=\"1\" class=\"dataframe\">\n",
       "  <thead>\n",
       "    <tr style=\"text-align: right;\">\n",
       "      <th></th>\n",
       "      <th>user_id</th>\n",
       "      <th>amount</th>\n",
       "      <th>currency</th>\n",
       "      <th>status</th>\n",
       "      <th>payment_method</th>\n",
       "      <th>created_at</th>\n",
       "      <th>description</th>\n",
       "      <th>data_chunk_date</th>\n",
       "    </tr>\n",
       "  </thead>\n",
       "  <tbody>\n",
       "    <tr>\n",
       "      <th>4569</th>\n",
       "      <td>USER_410035</td>\n",
       "      <td>69</td>\n",
       "      <td>USD</td>\n",
       "      <td>declined</td>\n",
       "      <td>Apple Pay</td>\n",
       "      <td>2022-09-17 01:54:00</td>\n",
       "      <td>Subscription for user 410035 by 2022_09</td>\n",
       "      <td>2022-09-17</td>\n",
       "    </tr>\n",
       "    <tr>\n",
       "      <th>4570</th>\n",
       "      <td>USER_410035</td>\n",
       "      <td>69</td>\n",
       "      <td>USD</td>\n",
       "      <td>declined</td>\n",
       "      <td>Apple Pay</td>\n",
       "      <td>2022-09-17 01:54:00</td>\n",
       "      <td>Subscription for user 410035 by 2022_09</td>\n",
       "      <td>2022-09-17</td>\n",
       "    </tr>\n",
       "  </tbody>\n",
       "</table>\n",
       "</div>"
      ],
      "text/plain": [
       "          user_id  amount currency    status payment_method  \\\n",
       "4569  USER_410035      69      USD  declined      Apple Pay   \n",
       "4570  USER_410035      69      USD  declined      Apple Pay   \n",
       "\n",
       "              created_at                              description  \\\n",
       "4569 2022-09-17 01:54:00  Subscription for user 410035 by 2022_09   \n",
       "4570 2022-09-17 01:54:00  Subscription for user 410035 by 2022_09   \n",
       "\n",
       "     data_chunk_date  \n",
       "4569      2022-09-17  \n",
       "4570      2022-09-17  "
      ]
     },
     "execution_count": 486,
     "metadata": {},
     "output_type": "execute_result"
    }
   ],
   "source": [
    "df[df.user_id == 'USER_410035']"
   ]
  },
  {
   "cell_type": "code",
   "execution_count": 487,
   "id": "5f67989b-3207-4909-9eac-2d5374e625d6",
   "metadata": {
    "jupyter": {
     "source_hidden": true
    }
   },
   "outputs": [
    {
     "data": {
      "text/html": [
       "<div>\n",
       "<style scoped>\n",
       "    .dataframe tbody tr th:only-of-type {\n",
       "        vertical-align: middle;\n",
       "    }\n",
       "\n",
       "    .dataframe tbody tr th {\n",
       "        vertical-align: top;\n",
       "    }\n",
       "\n",
       "    .dataframe thead th {\n",
       "        text-align: right;\n",
       "    }\n",
       "</style>\n",
       "<table border=\"1\" class=\"dataframe\">\n",
       "  <thead>\n",
       "    <tr style=\"text-align: right;\">\n",
       "      <th></th>\n",
       "      <th>user_id</th>\n",
       "      <th>amount</th>\n",
       "      <th>currency</th>\n",
       "      <th>status</th>\n",
       "      <th>payment_method</th>\n",
       "      <th>created_at</th>\n",
       "      <th>description</th>\n",
       "      <th>data_chunk_date</th>\n",
       "    </tr>\n",
       "  </thead>\n",
       "  <tbody>\n",
       "    <tr>\n",
       "      <th>4543</th>\n",
       "      <td>USER_410137</td>\n",
       "      <td>69</td>\n",
       "      <td>USD</td>\n",
       "      <td>refunded</td>\n",
       "      <td>Card</td>\n",
       "      <td>2022-09-17 18:00:00</td>\n",
       "      <td>Subscription for user 410137 by 2022_09</td>\n",
       "      <td>2022-09-17</td>\n",
       "    </tr>\n",
       "  </tbody>\n",
       "</table>\n",
       "</div>"
      ],
      "text/plain": [
       "          user_id  amount currency    status payment_method  \\\n",
       "4543  USER_410137      69      USD  refunded           Card   \n",
       "\n",
       "              created_at                              description  \\\n",
       "4543 2022-09-17 18:00:00  Subscription for user 410137 by 2022_09   \n",
       "\n",
       "     data_chunk_date  \n",
       "4543      2022-09-17  "
      ]
     },
     "execution_count": 487,
     "metadata": {},
     "output_type": "execute_result"
    }
   ],
   "source": [
    "df[df.user_id == 'USER_410137']"
   ]
  },
  {
   "cell_type": "markdown",
   "id": "e0b1e42f-375a-40e9-975b-8f869de9a036",
   "metadata": {},
   "source": [
    "### **0.6. Обираючи рандомно, бачимо, що такі користувачі, мають як і refunded так і declined статуси але перевіримо чи можуть вони мати обидва.**"
   ]
  },
  {
   "cell_type": "code",
   "execution_count": 488,
   "id": "74e7d395-c23a-4c2f-bc7a-081fe8b4d559",
   "metadata": {
    "jupyter": {
     "source_hidden": true
    }
   },
   "outputs": [
    {
     "data": {
      "text/html": [
       "<div>\n",
       "<style scoped>\n",
       "    .dataframe tbody tr th:only-of-type {\n",
       "        vertical-align: middle;\n",
       "    }\n",
       "\n",
       "    .dataframe tbody tr th {\n",
       "        vertical-align: top;\n",
       "    }\n",
       "\n",
       "    .dataframe thead th {\n",
       "        text-align: right;\n",
       "    }\n",
       "</style>\n",
       "<table border=\"1\" class=\"dataframe\">\n",
       "  <thead>\n",
       "    <tr style=\"text-align: right;\">\n",
       "      <th></th>\n",
       "      <th>user_id</th>\n",
       "      <th>number_of_success_transactions</th>\n",
       "      <th>number_of_declined_transactions</th>\n",
       "      <th>number_of_refunded_transactions</th>\n",
       "    </tr>\n",
       "  </thead>\n",
       "  <tbody>\n",
       "    <tr>\n",
       "      <th>61</th>\n",
       "      <td>USER_410458</td>\n",
       "      <td>0</td>\n",
       "      <td>1</td>\n",
       "      <td>1</td>\n",
       "    </tr>\n",
       "    <tr>\n",
       "      <th>132</th>\n",
       "      <td>USER_410924</td>\n",
       "      <td>0</td>\n",
       "      <td>1</td>\n",
       "      <td>1</td>\n",
       "    </tr>\n",
       "    <tr>\n",
       "      <th>149</th>\n",
       "      <td>USER_411053</td>\n",
       "      <td>0</td>\n",
       "      <td>1</td>\n",
       "      <td>1</td>\n",
       "    </tr>\n",
       "    <tr>\n",
       "      <th>151</th>\n",
       "      <td>USER_411087</td>\n",
       "      <td>0</td>\n",
       "      <td>1</td>\n",
       "      <td>3</td>\n",
       "    </tr>\n",
       "    <tr>\n",
       "      <th>169</th>\n",
       "      <td>USER_411193</td>\n",
       "      <td>0</td>\n",
       "      <td>3</td>\n",
       "      <td>1</td>\n",
       "    </tr>\n",
       "  </tbody>\n",
       "</table>\n",
       "</div>"
      ],
      "text/plain": [
       "         user_id  number_of_success_transactions  \\\n",
       "61   USER_410458                               0   \n",
       "132  USER_410924                               0   \n",
       "149  USER_411053                               0   \n",
       "151  USER_411087                               0   \n",
       "169  USER_411193                               0   \n",
       "\n",
       "     number_of_declined_transactions  number_of_refunded_transactions  \n",
       "61                                 1                                1  \n",
       "132                                1                                1  \n",
       "149                                1                                1  \n",
       "151                                1                                3  \n",
       "169                                3                                1  "
      ]
     },
     "execution_count": 488,
     "metadata": {},
     "output_type": "execute_result"
    }
   ],
   "source": [
    "temp[(temp.number_of_success_transactions == 0) \n",
    "    & (temp.number_of_declined_transactions > 0) \n",
    "    & (temp.number_of_refunded_transactions > 0)].head()"
   ]
  },
  {
   "cell_type": "code",
   "execution_count": 489,
   "id": "6c4bd63c-caaf-4f08-8b50-dd536bb22560",
   "metadata": {
    "jupyter": {
     "source_hidden": true
    }
   },
   "outputs": [
    {
     "data": {
      "text/html": [
       "<div>\n",
       "<style scoped>\n",
       "    .dataframe tbody tr th:only-of-type {\n",
       "        vertical-align: middle;\n",
       "    }\n",
       "\n",
       "    .dataframe tbody tr th {\n",
       "        vertical-align: top;\n",
       "    }\n",
       "\n",
       "    .dataframe thead th {\n",
       "        text-align: right;\n",
       "    }\n",
       "</style>\n",
       "<table border=\"1\" class=\"dataframe\">\n",
       "  <thead>\n",
       "    <tr style=\"text-align: right;\">\n",
       "      <th></th>\n",
       "      <th>user_id</th>\n",
       "      <th>amount</th>\n",
       "      <th>currency</th>\n",
       "      <th>status</th>\n",
       "      <th>payment_method</th>\n",
       "      <th>created_at</th>\n",
       "      <th>description</th>\n",
       "      <th>data_chunk_date</th>\n",
       "    </tr>\n",
       "  </thead>\n",
       "  <tbody>\n",
       "    <tr>\n",
       "      <th>4446</th>\n",
       "      <td>USER_410458</td>\n",
       "      <td>69</td>\n",
       "      <td>USD</td>\n",
       "      <td>declined</td>\n",
       "      <td>Card</td>\n",
       "      <td>2022-09-19 11:02:00</td>\n",
       "      <td>Subscription for user 410458 by 2022_09</td>\n",
       "      <td>2022-09-19</td>\n",
       "    </tr>\n",
       "    <tr>\n",
       "      <th>4445</th>\n",
       "      <td>USER_410458</td>\n",
       "      <td>69</td>\n",
       "      <td>USD</td>\n",
       "      <td>refunded</td>\n",
       "      <td>Card</td>\n",
       "      <td>2022-09-19 11:03:00</td>\n",
       "      <td>Subscription for user 410458 by 2022_09</td>\n",
       "      <td>2022-09-19</td>\n",
       "    </tr>\n",
       "  </tbody>\n",
       "</table>\n",
       "</div>"
      ],
      "text/plain": [
       "          user_id  amount currency    status payment_method  \\\n",
       "4446  USER_410458      69      USD  declined           Card   \n",
       "4445  USER_410458      69      USD  refunded           Card   \n",
       "\n",
       "              created_at                              description  \\\n",
       "4446 2022-09-19 11:02:00  Subscription for user 410458 by 2022_09   \n",
       "4445 2022-09-19 11:03:00  Subscription for user 410458 by 2022_09   \n",
       "\n",
       "     data_chunk_date  \n",
       "4446      2022-09-19  \n",
       "4445      2022-09-19  "
      ]
     },
     "execution_count": 489,
     "metadata": {},
     "output_type": "execute_result"
    }
   ],
   "source": [
    "df[df.user_id == 'USER_410458'].sort_values(by='created_at')"
   ]
  },
  {
   "cell_type": "code",
   "execution_count": 490,
   "id": "b303a64e-a189-4393-934d-3bfdcfb3df9e",
   "metadata": {
    "jupyter": {
     "source_hidden": true
    }
   },
   "outputs": [
    {
     "data": {
      "text/html": [
       "<div>\n",
       "<style scoped>\n",
       "    .dataframe tbody tr th:only-of-type {\n",
       "        vertical-align: middle;\n",
       "    }\n",
       "\n",
       "    .dataframe tbody tr th {\n",
       "        vertical-align: top;\n",
       "    }\n",
       "\n",
       "    .dataframe thead th {\n",
       "        text-align: right;\n",
       "    }\n",
       "</style>\n",
       "<table border=\"1\" class=\"dataframe\">\n",
       "  <thead>\n",
       "    <tr style=\"text-align: right;\">\n",
       "      <th></th>\n",
       "      <th>user_id</th>\n",
       "      <th>amount</th>\n",
       "      <th>currency</th>\n",
       "      <th>status</th>\n",
       "      <th>payment_method</th>\n",
       "      <th>created_at</th>\n",
       "      <th>description</th>\n",
       "      <th>data_chunk_date</th>\n",
       "    </tr>\n",
       "  </thead>\n",
       "  <tbody>\n",
       "    <tr>\n",
       "      <th>4217</th>\n",
       "      <td>USER_410924</td>\n",
       "      <td>69</td>\n",
       "      <td>USD</td>\n",
       "      <td>refunded</td>\n",
       "      <td>Apple Pay</td>\n",
       "      <td>2022-09-22 03:24:00</td>\n",
       "      <td>Subscription for user 410924 by 2022_09</td>\n",
       "      <td>2022-09-22</td>\n",
       "    </tr>\n",
       "    <tr>\n",
       "      <th>4216</th>\n",
       "      <td>USER_410924</td>\n",
       "      <td>199</td>\n",
       "      <td>USD</td>\n",
       "      <td>declined</td>\n",
       "      <td>Apple Pay</td>\n",
       "      <td>2022-09-22 03:45:00</td>\n",
       "      <td>Upsell 1 for user 410924 by 2022_09</td>\n",
       "      <td>2022-09-22</td>\n",
       "    </tr>\n",
       "  </tbody>\n",
       "</table>\n",
       "</div>"
      ],
      "text/plain": [
       "          user_id  amount currency    status payment_method  \\\n",
       "4217  USER_410924      69      USD  refunded      Apple Pay   \n",
       "4216  USER_410924     199      USD  declined      Apple Pay   \n",
       "\n",
       "              created_at                              description  \\\n",
       "4217 2022-09-22 03:24:00  Subscription for user 410924 by 2022_09   \n",
       "4216 2022-09-22 03:45:00      Upsell 1 for user 410924 by 2022_09   \n",
       "\n",
       "     data_chunk_date  \n",
       "4217      2022-09-22  \n",
       "4216      2022-09-22  "
      ]
     },
     "execution_count": 490,
     "metadata": {},
     "output_type": "execute_result"
    }
   ],
   "source": [
    "df[df.user_id == 'USER_410924'].sort_values(by='created_at')"
   ]
  },
  {
   "cell_type": "markdown",
   "id": "c4b73526-6330-4725-8fa2-70b34ab59062",
   "metadata": {},
   "source": [
    "### **0.7. Дослідимо чи є користувачі котрі мають всі 3 статиси в історії**"
   ]
  },
  {
   "cell_type": "code",
   "execution_count": 491,
   "id": "12760fc9-0e36-4df6-a56d-2140b0d6c2f2",
   "metadata": {
    "jupyter": {
     "source_hidden": true
    }
   },
   "outputs": [
    {
     "data": {
      "text/html": [
       "<div>\n",
       "<style scoped>\n",
       "    .dataframe tbody tr th:only-of-type {\n",
       "        vertical-align: middle;\n",
       "    }\n",
       "\n",
       "    .dataframe tbody tr th {\n",
       "        vertical-align: top;\n",
       "    }\n",
       "\n",
       "    .dataframe thead th {\n",
       "        text-align: right;\n",
       "    }\n",
       "</style>\n",
       "<table border=\"1\" class=\"dataframe\">\n",
       "  <thead>\n",
       "    <tr style=\"text-align: right;\">\n",
       "      <th></th>\n",
       "      <th>user_id</th>\n",
       "      <th>number_of_success_transactions</th>\n",
       "      <th>number_of_declined_transactions</th>\n",
       "      <th>number_of_refunded_transactions</th>\n",
       "    </tr>\n",
       "  </thead>\n",
       "  <tbody>\n",
       "    <tr>\n",
       "      <th>129</th>\n",
       "      <td>USER_410915</td>\n",
       "      <td>2</td>\n",
       "      <td>2</td>\n",
       "      <td>1</td>\n",
       "    </tr>\n",
       "    <tr>\n",
       "      <th>1099</th>\n",
       "      <td>USER_417840</td>\n",
       "      <td>2</td>\n",
       "      <td>1</td>\n",
       "      <td>1</td>\n",
       "    </tr>\n",
       "    <tr>\n",
       "      <th>1408</th>\n",
       "      <td>USER_42961</td>\n",
       "      <td>2</td>\n",
       "      <td>1</td>\n",
       "      <td>1</td>\n",
       "    </tr>\n",
       "    <tr>\n",
       "      <th>1559</th>\n",
       "      <td>USER_43733</td>\n",
       "      <td>4</td>\n",
       "      <td>3</td>\n",
       "      <td>1</td>\n",
       "    </tr>\n",
       "    <tr>\n",
       "      <th>1619</th>\n",
       "      <td>USER_44077</td>\n",
       "      <td>2</td>\n",
       "      <td>5</td>\n",
       "      <td>1</td>\n",
       "    </tr>\n",
       "    <tr>\n",
       "      <th>1634</th>\n",
       "      <td>USER_44154</td>\n",
       "      <td>3</td>\n",
       "      <td>1</td>\n",
       "      <td>1</td>\n",
       "    </tr>\n",
       "    <tr>\n",
       "      <th>1660</th>\n",
       "      <td>USER_44363</td>\n",
       "      <td>3</td>\n",
       "      <td>1</td>\n",
       "      <td>1</td>\n",
       "    </tr>\n",
       "    <tr>\n",
       "      <th>1781</th>\n",
       "      <td>USER_45062</td>\n",
       "      <td>2</td>\n",
       "      <td>4</td>\n",
       "      <td>1</td>\n",
       "    </tr>\n",
       "    <tr>\n",
       "      <th>1809</th>\n",
       "      <td>USER_45243</td>\n",
       "      <td>3</td>\n",
       "      <td>4</td>\n",
       "      <td>1</td>\n",
       "    </tr>\n",
       "    <tr>\n",
       "      <th>1873</th>\n",
       "      <td>USER_45571</td>\n",
       "      <td>2</td>\n",
       "      <td>1</td>\n",
       "      <td>1</td>\n",
       "    </tr>\n",
       "  </tbody>\n",
       "</table>\n",
       "</div>"
      ],
      "text/plain": [
       "          user_id  number_of_success_transactions  \\\n",
       "129   USER_410915                               2   \n",
       "1099  USER_417840                               2   \n",
       "1408   USER_42961                               2   \n",
       "1559   USER_43733                               4   \n",
       "1619   USER_44077                               2   \n",
       "1634   USER_44154                               3   \n",
       "1660   USER_44363                               3   \n",
       "1781   USER_45062                               2   \n",
       "1809   USER_45243                               3   \n",
       "1873   USER_45571                               2   \n",
       "\n",
       "      number_of_declined_transactions  number_of_refunded_transactions  \n",
       "129                                 2                                1  \n",
       "1099                                1                                1  \n",
       "1408                                1                                1  \n",
       "1559                                3                                1  \n",
       "1619                                5                                1  \n",
       "1634                                1                                1  \n",
       "1660                                1                                1  \n",
       "1781                                4                                1  \n",
       "1809                                4                                1  \n",
       "1873                                1                                1  "
      ]
     },
     "execution_count": 491,
     "metadata": {},
     "output_type": "execute_result"
    }
   ],
   "source": [
    "temp[(temp.number_of_success_transactions > 1) \n",
    "    & (temp.number_of_declined_transactions > 0) \n",
    "    & (temp.number_of_refunded_transactions > 0)].head(10)"
   ]
  },
  {
   "cell_type": "code",
   "execution_count": 492,
   "id": "72e9bb70-f2ee-4f3f-87a1-b186594c9772",
   "metadata": {
    "jupyter": {
     "source_hidden": true
    }
   },
   "outputs": [
    {
     "data": {
      "text/html": [
       "<div>\n",
       "<style scoped>\n",
       "    .dataframe tbody tr th:only-of-type {\n",
       "        vertical-align: middle;\n",
       "    }\n",
       "\n",
       "    .dataframe tbody tr th {\n",
       "        vertical-align: top;\n",
       "    }\n",
       "\n",
       "    .dataframe thead th {\n",
       "        text-align: right;\n",
       "    }\n",
       "</style>\n",
       "<table border=\"1\" class=\"dataframe\">\n",
       "  <thead>\n",
       "    <tr style=\"text-align: right;\">\n",
       "      <th></th>\n",
       "      <th>user_id</th>\n",
       "      <th>amount</th>\n",
       "      <th>currency</th>\n",
       "      <th>status</th>\n",
       "      <th>payment_method</th>\n",
       "      <th>created_at</th>\n",
       "      <th>description</th>\n",
       "      <th>data_chunk_date</th>\n",
       "    </tr>\n",
       "  </thead>\n",
       "  <tbody>\n",
       "    <tr>\n",
       "      <th>4224</th>\n",
       "      <td>USER_410915</td>\n",
       "      <td>69</td>\n",
       "      <td>USD</td>\n",
       "      <td>success</td>\n",
       "      <td>Card</td>\n",
       "      <td>2022-09-22 02:00:00</td>\n",
       "      <td>Subscription for user 410915 by 2022_09</td>\n",
       "      <td>2022-09-22</td>\n",
       "    </tr>\n",
       "    <tr>\n",
       "      <th>4222</th>\n",
       "      <td>USER_410915</td>\n",
       "      <td>199</td>\n",
       "      <td>USD</td>\n",
       "      <td>refunded</td>\n",
       "      <td>Card</td>\n",
       "      <td>2022-09-22 02:02:00</td>\n",
       "      <td>Upsell 1 for user 410915 by 2022_09</td>\n",
       "      <td>2022-09-22</td>\n",
       "    </tr>\n",
       "    <tr>\n",
       "      <th>1520</th>\n",
       "      <td>USER_410915</td>\n",
       "      <td>69</td>\n",
       "      <td>USD</td>\n",
       "      <td>declined</td>\n",
       "      <td>Card</td>\n",
       "      <td>2022-10-22 02:00:00</td>\n",
       "      <td>Renew subscription</td>\n",
       "      <td>2022-10-22</td>\n",
       "    </tr>\n",
       "    <tr>\n",
       "      <th>1427</th>\n",
       "      <td>USER_410915</td>\n",
       "      <td>69</td>\n",
       "      <td>USD</td>\n",
       "      <td>declined</td>\n",
       "      <td>Card</td>\n",
       "      <td>2022-10-23 02:01:00</td>\n",
       "      <td>Retry to renew subscription</td>\n",
       "      <td>2022-10-23</td>\n",
       "    </tr>\n",
       "    <tr>\n",
       "      <th>1234</th>\n",
       "      <td>USER_410915</td>\n",
       "      <td>69</td>\n",
       "      <td>USD</td>\n",
       "      <td>success</td>\n",
       "      <td>Card</td>\n",
       "      <td>2022-10-25 02:01:00</td>\n",
       "      <td>Retry to renew subscription</td>\n",
       "      <td>2022-10-25</td>\n",
       "    </tr>\n",
       "  </tbody>\n",
       "</table>\n",
       "</div>"
      ],
      "text/plain": [
       "          user_id  amount currency    status payment_method  \\\n",
       "4224  USER_410915      69      USD   success           Card   \n",
       "4222  USER_410915     199      USD  refunded           Card   \n",
       "1520  USER_410915      69      USD  declined           Card   \n",
       "1427  USER_410915      69      USD  declined           Card   \n",
       "1234  USER_410915      69      USD   success           Card   \n",
       "\n",
       "              created_at                              description  \\\n",
       "4224 2022-09-22 02:00:00  Subscription for user 410915 by 2022_09   \n",
       "4222 2022-09-22 02:02:00      Upsell 1 for user 410915 by 2022_09   \n",
       "1520 2022-10-22 02:00:00                       Renew subscription   \n",
       "1427 2022-10-23 02:01:00              Retry to renew subscription   \n",
       "1234 2022-10-25 02:01:00              Retry to renew subscription   \n",
       "\n",
       "     data_chunk_date  \n",
       "4224      2022-09-22  \n",
       "4222      2022-09-22  \n",
       "1520      2022-10-22  \n",
       "1427      2022-10-23  \n",
       "1234      2022-10-25  "
      ]
     },
     "execution_count": 492,
     "metadata": {},
     "output_type": "execute_result"
    }
   ],
   "source": [
    "df[df.user_id == 'USER_410915'].sort_values(by='created_at')"
   ]
  },
  {
   "cell_type": "code",
   "execution_count": 493,
   "id": "93ff7fb4-92cd-4e74-8eb7-176c584f20d7",
   "metadata": {
    "jupyter": {
     "source_hidden": true
    }
   },
   "outputs": [
    {
     "data": {
      "text/html": [
       "<div>\n",
       "<style scoped>\n",
       "    .dataframe tbody tr th:only-of-type {\n",
       "        vertical-align: middle;\n",
       "    }\n",
       "\n",
       "    .dataframe tbody tr th {\n",
       "        vertical-align: top;\n",
       "    }\n",
       "\n",
       "    .dataframe thead th {\n",
       "        text-align: right;\n",
       "    }\n",
       "</style>\n",
       "<table border=\"1\" class=\"dataframe\">\n",
       "  <thead>\n",
       "    <tr style=\"text-align: right;\">\n",
       "      <th></th>\n",
       "      <th>user_id</th>\n",
       "      <th>number_of_success_transactions</th>\n",
       "      <th>number_of_declined_transactions</th>\n",
       "      <th>number_of_refunded_transactions</th>\n",
       "    </tr>\n",
       "  </thead>\n",
       "  <tbody>\n",
       "    <tr>\n",
       "      <th>21</th>\n",
       "      <td>USER_410137</td>\n",
       "      <td>0</td>\n",
       "      <td>0</td>\n",
       "      <td>1</td>\n",
       "    </tr>\n",
       "    <tr>\n",
       "      <th>23</th>\n",
       "      <td>USER_410161</td>\n",
       "      <td>0</td>\n",
       "      <td>0</td>\n",
       "      <td>1</td>\n",
       "    </tr>\n",
       "    <tr>\n",
       "      <th>103</th>\n",
       "      <td>USER_410764</td>\n",
       "      <td>0</td>\n",
       "      <td>0</td>\n",
       "      <td>1</td>\n",
       "    </tr>\n",
       "    <tr>\n",
       "      <th>167</th>\n",
       "      <td>USER_411180</td>\n",
       "      <td>0</td>\n",
       "      <td>0</td>\n",
       "      <td>1</td>\n",
       "    </tr>\n",
       "    <tr>\n",
       "      <th>213</th>\n",
       "      <td>USER_411496</td>\n",
       "      <td>0</td>\n",
       "      <td>0</td>\n",
       "      <td>1</td>\n",
       "    </tr>\n",
       "  </tbody>\n",
       "</table>\n",
       "</div>"
      ],
      "text/plain": [
       "         user_id  number_of_success_transactions  \\\n",
       "21   USER_410137                               0   \n",
       "23   USER_410161                               0   \n",
       "103  USER_410764                               0   \n",
       "167  USER_411180                               0   \n",
       "213  USER_411496                               0   \n",
       "\n",
       "     number_of_declined_transactions  number_of_refunded_transactions  \n",
       "21                                 0                                1  \n",
       "23                                 0                                1  \n",
       "103                                0                                1  \n",
       "167                                0                                1  \n",
       "213                                0                                1  "
      ]
     },
     "execution_count": 493,
     "metadata": {},
     "output_type": "execute_result"
    }
   ],
   "source": [
    "temp[(temp.number_of_success_transactions == 0)\n",
    "    & (temp.number_of_declined_transactions == 0)\n",
    "    & (temp.number_of_refunded_transactions > 0)].head()"
   ]
  },
  {
   "cell_type": "code",
   "execution_count": 494,
   "id": "883a51c9-d7da-4d25-bf2b-f026cfa63430",
   "metadata": {
    "jupyter": {
     "source_hidden": true
    }
   },
   "outputs": [
    {
     "data": {
      "text/html": [
       "<div>\n",
       "<style scoped>\n",
       "    .dataframe tbody tr th:only-of-type {\n",
       "        vertical-align: middle;\n",
       "    }\n",
       "\n",
       "    .dataframe tbody tr th {\n",
       "        vertical-align: top;\n",
       "    }\n",
       "\n",
       "    .dataframe thead th {\n",
       "        text-align: right;\n",
       "    }\n",
       "</style>\n",
       "<table border=\"1\" class=\"dataframe\">\n",
       "  <thead>\n",
       "    <tr style=\"text-align: right;\">\n",
       "      <th></th>\n",
       "      <th>user_id</th>\n",
       "      <th>amount</th>\n",
       "      <th>currency</th>\n",
       "      <th>status</th>\n",
       "      <th>payment_method</th>\n",
       "      <th>created_at</th>\n",
       "      <th>description</th>\n",
       "      <th>data_chunk_date</th>\n",
       "    </tr>\n",
       "  </thead>\n",
       "  <tbody>\n",
       "    <tr>\n",
       "      <th>4543</th>\n",
       "      <td>USER_410137</td>\n",
       "      <td>69</td>\n",
       "      <td>USD</td>\n",
       "      <td>refunded</td>\n",
       "      <td>Card</td>\n",
       "      <td>2022-09-17 18:00:00</td>\n",
       "      <td>Subscription for user 410137 by 2022_09</td>\n",
       "      <td>2022-09-17</td>\n",
       "    </tr>\n",
       "  </tbody>\n",
       "</table>\n",
       "</div>"
      ],
      "text/plain": [
       "          user_id  amount currency    status payment_method  \\\n",
       "4543  USER_410137      69      USD  refunded           Card   \n",
       "\n",
       "              created_at                              description  \\\n",
       "4543 2022-09-17 18:00:00  Subscription for user 410137 by 2022_09   \n",
       "\n",
       "     data_chunk_date  \n",
       "4543      2022-09-17  "
      ]
     },
     "execution_count": 494,
     "metadata": {},
     "output_type": "execute_result"
    }
   ],
   "source": [
    "df[df.user_id == 'USER_410137'].sort_values(by='created_at')"
   ]
  },
  {
   "cell_type": "markdown",
   "id": "c3ae0c8e-224a-46dc-b481-b4132ef886e8",
   "metadata": {},
   "source": [
    "## **0.8. Дослідимо чи є користувачі в яких транзакції refunded передують success**"
   ]
  },
  {
   "cell_type": "code",
   "execution_count": 495,
   "id": "bdcc10e6-ce0e-49c2-9c0e-97c2fabf06f7",
   "metadata": {
    "jupyter": {
     "source_hidden": true
    }
   },
   "outputs": [
    {
     "data": {
      "text/plain": [
       "['USER_411750', 'USER_412555', 'USER_416201', 'USER_43921']"
      ]
     },
     "execution_count": 495,
     "metadata": {},
     "output_type": "execute_result"
    }
   ],
   "source": [
    "import pandas as pd\n",
    "\n",
    "# Ensure the DataFrame is sorted by user_id and created_at\n",
    "temp = df.sort_values(by=['user_id', 'created_at'])\n",
    "\n",
    "# Initialize an empty list to store user_ids with refunded before success\n",
    "users_with_refunded_before_success = []\n",
    "\n",
    "# Iterate over each user group\n",
    "for user_id, group in temp.groupby('user_id'):\n",
    "    statuses = group['status'].tolist()\n",
    "    # Check if refunded appears before success in the status list\n",
    "    if 'refunded' in statuses and 'success' in statuses:\n",
    "        if statuses.index('refunded') < statuses.index('success'):\n",
    "            users_with_refunded_before_success.append(user_id)\n",
    "\n",
    "# Output the list of user_ids\n",
    "users_with_refunded_before_success"
   ]
  },
  {
   "cell_type": "code",
   "execution_count": 496,
   "id": "3809742a-d3d4-4acc-a927-b6df4e821a86",
   "metadata": {
    "jupyter": {
     "source_hidden": true
    }
   },
   "outputs": [
    {
     "data": {
      "text/html": [
       "<div>\n",
       "<style scoped>\n",
       "    .dataframe tbody tr th:only-of-type {\n",
       "        vertical-align: middle;\n",
       "    }\n",
       "\n",
       "    .dataframe tbody tr th {\n",
       "        vertical-align: top;\n",
       "    }\n",
       "\n",
       "    .dataframe thead th {\n",
       "        text-align: right;\n",
       "    }\n",
       "</style>\n",
       "<table border=\"1\" class=\"dataframe\">\n",
       "  <thead>\n",
       "    <tr style=\"text-align: right;\">\n",
       "      <th></th>\n",
       "      <th>user_id</th>\n",
       "      <th>amount</th>\n",
       "      <th>currency</th>\n",
       "      <th>status</th>\n",
       "      <th>payment_method</th>\n",
       "      <th>created_at</th>\n",
       "      <th>description</th>\n",
       "      <th>data_chunk_date</th>\n",
       "    </tr>\n",
       "  </thead>\n",
       "  <tbody>\n",
       "    <tr>\n",
       "      <th>3631</th>\n",
       "      <td>USER_411750</td>\n",
       "      <td>69</td>\n",
       "      <td>USD</td>\n",
       "      <td>declined</td>\n",
       "      <td>Card</td>\n",
       "      <td>2022-09-29 21:38:00</td>\n",
       "      <td>Subscription for user 411750 by 2022_09</td>\n",
       "      <td>2022-09-29</td>\n",
       "    </tr>\n",
       "    <tr>\n",
       "      <th>3630</th>\n",
       "      <td>USER_411750</td>\n",
       "      <td>69</td>\n",
       "      <td>USD</td>\n",
       "      <td>refunded</td>\n",
       "      <td>Apple Pay</td>\n",
       "      <td>2022-09-29 21:40:00</td>\n",
       "      <td>Subscription for user 411750 by 2022_09</td>\n",
       "      <td>2022-09-29</td>\n",
       "    </tr>\n",
       "    <tr>\n",
       "      <th>727</th>\n",
       "      <td>USER_411750</td>\n",
       "      <td>69</td>\n",
       "      <td>USD</td>\n",
       "      <td>success</td>\n",
       "      <td>Apple Pay</td>\n",
       "      <td>2022-10-29 21:40:00</td>\n",
       "      <td>Renew subscription</td>\n",
       "      <td>2022-10-29</td>\n",
       "    </tr>\n",
       "  </tbody>\n",
       "</table>\n",
       "</div>"
      ],
      "text/plain": [
       "          user_id  amount currency    status payment_method  \\\n",
       "3631  USER_411750      69      USD  declined           Card   \n",
       "3630  USER_411750      69      USD  refunded      Apple Pay   \n",
       "727   USER_411750      69      USD   success      Apple Pay   \n",
       "\n",
       "              created_at                              description  \\\n",
       "3631 2022-09-29 21:38:00  Subscription for user 411750 by 2022_09   \n",
       "3630 2022-09-29 21:40:00  Subscription for user 411750 by 2022_09   \n",
       "727  2022-10-29 21:40:00                       Renew subscription   \n",
       "\n",
       "     data_chunk_date  \n",
       "3631      2022-09-29  \n",
       "3630      2022-09-29  \n",
       "727       2022-10-29  "
      ]
     },
     "execution_count": 496,
     "metadata": {},
     "output_type": "execute_result"
    }
   ],
   "source": [
    "df[df.user_id == 'USER_411750'].sort_values(by='created_at')"
   ]
  },
  {
   "cell_type": "markdown",
   "id": "eee12d77-408b-4034-94a5-7e75cd90e4e6",
   "metadata": {},
   "source": [
    "# Аналіз логіки логування транзакцій\n",
    "\n",
    "## 1. Теоритична логіка логування транзакцій\n",
    "- Якщо транзакція **не пройшла**, вона отримує статус `declined`, і цей статус **неможливо змінити**.\n",
    "- Якщо транзакція **пройшла успішно**, вона отримує статус `success`, який може бути змінений на `refunded`, якщо транзакцію було скасовано.\n",
    "\n",
    "## 2. Підтвердження припущення\n",
    "Це припущення базується на аналізі даних, який показав такі особливості:\n",
    "- У датасеті є користувачі, які **не мають транзакцій зі статусом `success`**, але мають транзакції зі статусом `refunded`. \n",
    "- Також є користувачі, які мають **тільки транзакції зі статусом `declined`**.\n",
    "- Транзакції зі статусом `refunded` часто мають **іншу суму** (`amount`), ніж транзакції зі статусом `success`, які передують їм. Це свідчить про те, що `refunded` **не завжди прив'язаний до успішної транзакції**.\n",
    "- Є користувачі, які мають лише **одну транзакцію зі статусом `refunded`**, без інших транзакцій.\n",
    "\n",
    "## 3. Додатковий аналіз\n",
    "Щоб підтвердити припущення, було перевірено:\n",
    "- Чи є користувачі, у яких транзакція зі статусом `refunded` **передує** транзакції зі статусом `success`.\n",
    "\n",
    "### Результати аналізу:\n",
    "- Виявлено, що такі користувачі **існують**. Це означає, що транзакція зі статусом `refunded` **може передувати** транзакції зі статусом `success`.\n",
    "\n",
    "\n",
    "## 4. Висновки\n",
    "На основі даних можна зробити висновок, що:\n",
    "1. Транзакції зі статусом `refunded` можуть існувати без попередньої транзакції зі статусом `success`.\n",
    "2. Статус `declined` є кінцевим і не може змінюватися.\n",
    "3. Транзакції зі статусом `refunded`, що мають іншу суму, можуть бути окремими, а не зміною попередньої транзакції."
   ]
  },
  {
   "cell_type": "markdown",
   "id": "dc3afb7b-aa72-4f55-911b-5ee0753796f2",
   "metadata": {},
   "source": [
    "## **0.9. Дослідження логіки моделей для різних GEO**\n",
    "\n",
    "### **Спостереження:**\n",
    "- У даних присутні користувачі з **Канади** та **США**.\n",
    "\n",
    "### **Можливі сценарії:**\n",
    "1. **Незалежні моделі для різних GEO**:\n",
    "   - Можливо, кожна країна працює окремо, і транзакції не пов’язані між собою.\n",
    "2. **Оплата у двох валютах незалежно від GEO**:\n",
    "   - Користувачі можуть здійснювати транзакції в різних валютах (наприклад, USD і CAD), незалежно від свого географічного розташування.\n",
    "\n",
    "### **Рекомендації для подальшого аналізу:**\n",
    "- При майбутніх розрахунках необхідно враховувати **кількість користувачів у кожному GEO**, щоб уникнути **перекосів** у результатах через недостатній розмір вибірки."
   ]
  },
  {
   "cell_type": "markdown",
   "id": "9c6db2af-8598-460c-b4ae-d5f8455a29ad",
   "metadata": {},
   "source": [
    "## **0.10. Дослідження користувачів з транзакціями в CAD**\n",
    "\n",
    "### Постановка задачі:\n",
    "- Перевіримо, чи є користувачі, які мають транзакції у валюті **CAD**, а також транзакції в іншій валюті.\n"
   ]
  },
  {
   "cell_type": "code",
   "execution_count": 497,
   "id": "7092f8b3-01de-4395-bf3b-1509f076f703",
   "metadata": {
    "jupyter": {
     "source_hidden": true
    }
   },
   "outputs": [
    {
     "name": "stdout",
     "output_type": "stream",
     "text": [
      "Валюти та кількість транзакцій для користувачів, які мали хоча б одну транзакцію в CAD:\n",
      "  Currency  Transaction Count\n",
      "0      CAD                175\n"
     ]
    }
   ],
   "source": [
    "lst_of_users_w_CAD = df[df.currency == 'CAD'].user_id.unique()\n",
    "\n",
    "\n",
    "currency_counts = df[df.user_id.isin(lst_of_users_w_CAD)].currency.value_counts().reset_index()\n",
    "currency_counts.columns = ['Currency', 'Transaction Count']\n",
    "\n",
    "print(\"Валюти та кількість транзакцій для користувачів, які мали хоча б одну транзакцію в CAD:\")\n",
    "print(currency_counts)"
   ]
  },
  {
   "cell_type": "markdown",
   "id": "33a91ba3-9ab8-4c38-9fc9-e7700e78bff6",
   "metadata": {},
   "source": [
    "### Результати:\n",
    "- Виявлено, що користувачі, які мали хоча б одну транзакцію у валюті **CAD**, мали транзакції **лише у CAD**.\n",
    "- Загальна кількість таких транзакцій: **175**.\n",
    "\n",
    "### Висновки:\n",
    "- Користувачі, які використовують валюту CAD, не здійснюють транзакцій в інших валютах.\n",
    "- Це свідчить про можливу залежність валюти транзакції від географічного розташування користувача або інших обмежень."
   ]
  },
  {
   "cell_type": "code",
   "execution_count": 498,
   "id": "17ee524d-a78e-433b-84df-ea9d02ef6422",
   "metadata": {
    "jupyter": {
     "source_hidden": true
    }
   },
   "outputs": [
    {
     "name": "stdout",
     "output_type": "stream",
     "text": [
      "Загальна кількість користувачів, з Канади = 110\n",
      "Загальна кількість користувачів, які не з Канади = 2342\n"
     ]
    }
   ],
   "source": [
    "print(f'Загальна кількість користувачів, з Канади = {len(lst_of_users_w_CAD)}')\n",
    "print(f'Загальна кількість користувачів, які не з Канади = {df[~df.user_id.isin(lst_of_users_w_CAD)].user_id.nunique()}')"
   ]
  },
  {
   "cell_type": "markdown",
   "id": "86e683a2-2623-452d-8b3e-0397dac51bd1",
   "metadata": {},
   "source": [
    "## **0.12. Висновки щодо транзакцій у CAD та USD**\n",
    "\n",
    "### Результати аналізу:\n",
    "- **Користувачі, які здійснюють транзакції у валюті CAD**, не мають операцій в інших валютах.\n",
    "- Це свідчить про те, що:\n",
    "  - У **США** використовується лише валюта **USD**.\n",
    "  - У **Канаді** використовується лише валюта **CAD**.\n",
    "  - Мультивибір валюти відсутній.\n",
    "\n",
    "### Проблематика:\n",
    "- Було б корисно розділити метрики для кожного окремого GEO (США та Канада).\n",
    "- Однак, у нашому датасеті кількість користувачів значно відрізняється:\n",
    "  - **Канада**: лише **110 користувачів**.\n",
    "  - **США**: **2342 користувачі**.\n",
    "\n",
    "### Компромісне рішення:\n",
    "- **Об'єднати два GEO** для подальшого аналізу.\n",
    "- **Конвертувати транзакції у CAD до USD**:\n",
    "  - Використати фіксований коефіцієнт конвертації: **1 CAD = 0.75 USD**.\n",
    "  - (Примітка: У фінальній версії розрахунків можна враховувати **щоденні курси валют** для більш точної конвертації.)"
   ]
  },
  {
   "cell_type": "code",
   "execution_count": 499,
   "id": "0d60fbed-55c5-4557-965b-f5fbaf631846",
   "metadata": {
    "jupyter": {
     "source_hidden": true
    }
   },
   "outputs": [],
   "source": [
    "# Приведення стовпця amount до float перед виконанням операції\n",
    "df['amount'] = df['amount'].astype(float)\n",
    "\n",
    "# Застосування змін для рядків з currency == 'CAD'\n",
    "df.loc[df['currency'] == 'CAD', 'amount'] *= 0.75"
   ]
  },
  {
   "cell_type": "markdown",
   "id": "6c6462d2-4798-4e9c-a06a-c97b233f299d",
   "metadata": {},
   "source": [
    "## **1. Розрахунок ARPPU (Average Revenue Per Paying User) для кожної когорти**\n",
    "\n",
    "### **Як ми це зробимо:**\n",
    "\n",
    "1. **Очищення даних:**\n",
    "   - Видалимо транзакції зі статусами `refunded` і `declined`, оскільки вони не відображають дохід.\n",
    "   - Залишимо лише транзакції зі статусом `success` для точного розрахунку Revenue.\n",
    "\n",
    "2. **Відбір платоспроможних користувачів:**\n",
    "   - Залишимо тільки тих користувачів, які здійснили хоча б одну успішну покупку (`success`).\n",
    "   - Відфільтруємо дані, щоб враховувати лише цих користувачів.\n",
    "\n",
    "3. **Використання конвертації валюти:**\n",
    "   - Для об’єднаного аналізу **США** та **Канади** будемо працювати з валютою USD.\n",
    "   - Попередньо транзакції у CAD були конвертовані в USD за курсом **1 CAD = 0.75 USD**.\n",
    "\n",
    "4. **Дослідження оптимальної розбивки на когорти:**\n",
    "   - Виконаємо розрахунок ARPPU для трьох варіантів когорт:\n",
    "     1. **Денна когорта (Daily):**\n",
    "        - Користувачі групуються за першою транзакцією у межах одного дня.\n",
    "     2. **Тижнева когорта (Weekly):**\n",
    "        - Користувачі групуються за першою транзакцією у межах одного тижня.\n",
    "     3. **Місячна когорта (Monthly):**\n",
    "        - Користувачі групуються за першою транзакцією у межах одного місяця.\n",
    "   - Порівняємо отримані результати за розміром когорт, точністю та стабільністю метрик.\n",
    "\n",
    "> Примітка: Остаточний вибір типу когорти залежатиме від аналізу стабільності та варіативності метрик ARPPU у кожному підході."
   ]
  },
  {
   "cell_type": "code",
   "execution_count": 500,
   "id": "58cf4e7e-b168-4020-ab2a-d0f7cfc2f756",
   "metadata": {
    "jupyter": {
     "source_hidden": true
    }
   },
   "outputs": [],
   "source": [
    "temp = df.copy()"
   ]
  },
  {
   "cell_type": "code",
   "execution_count": 501,
   "id": "c0f000b6-1734-4af2-ac70-42b895e98c8d",
   "metadata": {
    "jupyter": {
     "source_hidden": true
    }
   },
   "outputs": [],
   "source": [
    "temp = temp[temp.status == 'success']"
   ]
  },
  {
   "cell_type": "markdown",
   "id": "a0eebac6-0ca1-4738-9452-5db4787bc0b0",
   "metadata": {},
   "source": [
    "Для аналізу даних користувачів потрібно визначити їхні когортні групи залежно від дати першої транзакції. Ми перетворимо дати транзакцій на три типи когорт:\n",
    "\n",
    "- **Daily cohort**:\n",
    "  - Користувачі групуються за першою транзакцією у межах одного дня.\n",
    "  - **Приклад**: транзакція 2023-12-05 потрапить у когорту 2023-12-05.\n",
    "\n",
    "- **Weekly cohort**:\n",
    "  - Транзакції групуються по тижнях, починаючи з понеділка.\n",
    "  - **Приклад**: транзакція 2023-12-06 потрапить у тиждень, який починається 2023-12-04.\n",
    "\n",
    "- **Monthly cohort**:\n",
    "  - Транзакції групуються по місяцях.\n",
    "  - **Приклад**: транзакція 2023-12-15 потрапить у місяць, що починається 2023-12-01.\n"
   ]
  },
  {
   "cell_type": "code",
   "execution_count": 502,
   "id": "42230452-60cc-4d09-a814-131ea247f87c",
   "metadata": {
    "jupyter": {
     "source_hidden": true
    }
   },
   "outputs": [],
   "source": [
    "# Перетворюємо дату транзакції на дату в днях, тижнях і місяцях\n",
    "\n",
    "# Daily cohort: Наприклад, транзакція 2023-12-05 потрапить у когорту 2023-12-05\n",
    "temp['daily_cohort'] = temp['created_at'].dt.date\n",
    "temp['daily_cohort'] = pd.to_datetime(temp['daily_cohort'])\n",
    "\n",
    "# Weekly cohort: Транзакції групуються по тижнях, починаючи з понеділка\n",
    "# Наприклад, транзакція 2023-12-06 потрапить у тиждень, який починається 2023-12-04\n",
    "temp['weekly_cohort'] = temp['created_at'].dt.to_period('W').apply(lambda r: r.start_time)\n",
    "\n",
    "# Monthly cohort: Транзакції групуються по місяцях\n",
    "# Наприклад, транзакція 2023-12-15 потрапить у місяць, що починається 2023-12-01\n",
    "temp['monthly_cohort'] = temp['created_at'].dt.to_period('M').apply(lambda r: r.start_time)"
   ]
  },
  {
   "cell_type": "markdown",
   "id": "87dbeb4c-6c2c-40e8-a100-f4553b2c4d70",
   "metadata": {},
   "source": [
    "Для кожного користувача визначимо час першої покупки, залежно від типу когорти. Це потрібно для точного групування даних.\n",
    "\n",
    "- **Daily cohort**:\n",
    "  - Додаємо дату першої покупки у денній когорті.\n",
    "  - **Приклад**: якщо користувач зробив першу покупку 2023-12-01, то `cohort_day` буде \"2023-12-01\".\n",
    "\n",
    "- **Weekly cohort**:\n",
    "  - Додаємо дату першої покупки у тижневій когорті.\n",
    "  - **Приклад**: якщо користувач зробив першу покупку 2023-12-01, то `cohort_week` буде \"2023-11-27\" (початок тижня).\n",
    "\n",
    "- **Monthly cohort**:\n",
    "  - Додаємо дату першої покупки у місячній когорті.\n",
    "  - **Приклад**: якщо користувач зробив першу покупку 2023-12-01, то `cohort_month` буде \"2023-12-01\" (початок місяця)."
   ]
  },
  {
   "cell_type": "code",
   "execution_count": 503,
   "id": "fbefe719-aff0-4332-9553-187b4cc730fc",
   "metadata": {
    "jupyter": {
     "source_hidden": true
    }
   },
   "outputs": [],
   "source": [
    "# Для кожного юзера додаємо час його першої покупки, в залежності від типу когорти\n",
    "\n",
    "# Додаємо дату першої покупки у денній когорті\n",
    "# Наприклад: якщо користувач зробив першу покупку 2023-12-01, то cohort_day буде \"2023-12-01\"\n",
    "temp = temp.merge(\n",
    "    temp.groupby('user_id').agg(cohort_day=('daily_cohort', 'min')).reset_index(),\n",
    "    how='inner',\n",
    "    on='user_id'\n",
    ")\n",
    "\n",
    "# Додаємо дату першої покупки у тижневій когорті\n",
    "# Наприклад: якщо користувач зробив першу покупку 2023-12-01, то cohort_week буде \"2023-11-27\" (початок тижня)\n",
    "temp = temp.merge(\n",
    "    temp.groupby('user_id').agg(cohort_week=('weekly_cohort', 'min')).reset_index(),\n",
    "    how='inner',\n",
    "    on='user_id'\n",
    ")\n",
    "\n",
    "# Додаємо дату першої покупки у місячній когорті\n",
    "# Наприклад: якщо користувач зробив першу покупку 2023-12-15, то cohort_month буде \"2023-12-01\" (початок місяця)\n",
    "temp = temp.merge(\n",
    "    temp.groupby('user_id').agg(cohort_month=('monthly_cohort', 'min')).reset_index(),\n",
    "    how='inner',\n",
    "    on='user_id'\n",
    ")"
   ]
  },
  {
   "cell_type": "code",
   "execution_count": 504,
   "id": "4fcd2e75-a639-445e-b9c7-aa348fca7113",
   "metadata": {
    "jupyter": {
     "source_hidden": true
    }
   },
   "outputs": [
    {
     "data": {
      "application/vnd.plotly.v1+json": {
       "config": {
        "plotlyServerURL": "https://plot.ly"
       },
       "data": [
        {
         "marker": {
          "cmax": 36,
          "cmin": 0,
          "color": [
           1,
           7,
           8,
           15,
           9,
           16,
           10,
           10,
           19,
           19,
           17,
           12,
           12,
           14,
           16,
           10,
           13,
           16,
           22,
           14,
           16,
           15,
           13,
           21,
           24,
           24,
           36,
           24,
           13,
           16,
           22,
           18,
           28,
           20,
           17,
           21,
           21,
           18,
           20,
           8,
           1,
           10,
           16,
           36,
           23,
           20,
           16,
           19,
           24,
           12,
           24,
           20,
           11,
           21,
           20,
           23,
           23,
           19,
           12,
           17,
           14,
           21,
           21,
           27,
           23,
           17,
           17,
           20,
           26,
           22,
           23,
           23,
           27,
           30,
           22,
           18,
           21,
           35,
           35,
           30,
           24,
           24,
           19,
           20,
           23,
           25,
           17,
           12,
           20,
           21,
           26,
           27,
           31,
           19,
           22,
           5
          ],
          "colorscale": [
           [
            0,
            "rgb(247,251,255)"
           ],
           [
            0.125,
            "rgb(222,235,247)"
           ],
           [
            0.25,
            "rgb(198,219,239)"
           ],
           [
            0.375,
            "rgb(158,202,225)"
           ],
           [
            0.5,
            "rgb(107,174,214)"
           ],
           [
            0.625,
            "rgb(66,146,198)"
           ],
           [
            0.75,
            "rgb(33,113,181)"
           ],
           [
            0.875,
            "rgb(8,81,156)"
           ],
           [
            1,
            "rgb(8,48,107)"
           ]
          ]
         },
         "name": "Daily Cohort",
         "text": [
          0,
          60,
          31,
          90,
          60,
          91,
          91,
          90,
          61,
          69,
          79,
          60,
          60,
          60,
          61,
          60,
          60,
          60,
          61,
          63,
          62,
          72,
          60,
          66,
          60,
          64,
          60,
          64,
          60,
          60,
          60,
          65,
          66,
          60,
          62,
          60,
          60,
          60,
          60,
          60,
          0,
          30,
          42,
          35,
          34,
          33,
          32,
          31,
          37,
          36,
          33,
          30,
          41,
          41,
          38,
          37,
          30,
          31,
          30,
          33,
          32,
          31,
          30,
          31,
          31,
          30,
          0,
          0,
          20,
          0,
          2,
          11,
          13,
          0,
          17,
          10,
          0,
          8,
          0,
          0,
          0,
          1,
          8,
          0,
          8,
          8,
          6,
          0,
          0,
          0,
          0,
          2,
          0,
          0,
          0,
          0
         ],
         "textposition": "outside",
         "type": "bar",
         "x": [
          "2022-07-27T00:00:00",
          "2022-07-29T00:00:00",
          "2022-07-30T00:00:00",
          "2022-07-31T00:00:00",
          "2022-08-01T00:00:00",
          "2022-08-02T00:00:00",
          "2022-08-03T00:00:00",
          "2022-08-04T00:00:00",
          "2022-08-05T00:00:00",
          "2022-08-06T00:00:00",
          "2022-08-07T00:00:00",
          "2022-08-08T00:00:00",
          "2022-08-09T00:00:00",
          "2022-08-10T00:00:00",
          "2022-08-11T00:00:00",
          "2022-08-12T00:00:00",
          "2022-08-13T00:00:00",
          "2022-08-14T00:00:00",
          "2022-08-15T00:00:00",
          "2022-08-16T00:00:00",
          "2022-08-17T00:00:00",
          "2022-08-18T00:00:00",
          "2022-08-19T00:00:00",
          "2022-08-20T00:00:00",
          "2022-08-21T00:00:00",
          "2022-08-22T00:00:00",
          "2022-08-23T00:00:00",
          "2022-08-24T00:00:00",
          "2022-08-25T00:00:00",
          "2022-08-26T00:00:00",
          "2022-08-27T00:00:00",
          "2022-08-28T00:00:00",
          "2022-08-29T00:00:00",
          "2022-08-30T00:00:00",
          "2022-08-31T00:00:00",
          "2022-09-01T00:00:00",
          "2022-09-02T00:00:00",
          "2022-09-03T00:00:00",
          "2022-09-04T00:00:00",
          "2022-09-05T00:00:00",
          "2022-09-08T00:00:00",
          "2022-09-11T00:00:00",
          "2022-09-12T00:00:00",
          "2022-09-13T00:00:00",
          "2022-09-14T00:00:00",
          "2022-09-15T00:00:00",
          "2022-09-16T00:00:00",
          "2022-09-17T00:00:00",
          "2022-09-18T00:00:00",
          "2022-09-19T00:00:00",
          "2022-09-20T00:00:00",
          "2022-09-21T00:00:00",
          "2022-09-22T00:00:00",
          "2022-09-23T00:00:00",
          "2022-09-24T00:00:00",
          "2022-09-25T00:00:00",
          "2022-09-26T00:00:00",
          "2022-09-27T00:00:00",
          "2022-09-28T00:00:00",
          "2022-09-29T00:00:00",
          "2022-09-30T00:00:00",
          "2022-10-01T00:00:00",
          "2022-10-02T00:00:00",
          "2022-10-03T00:00:00",
          "2022-10-04T00:00:00",
          "2022-10-05T00:00:00",
          "2022-10-06T00:00:00",
          "2022-10-07T00:00:00",
          "2022-10-08T00:00:00",
          "2022-10-09T00:00:00",
          "2022-10-10T00:00:00",
          "2022-10-11T00:00:00",
          "2022-10-12T00:00:00",
          "2022-10-13T00:00:00",
          "2022-10-14T00:00:00",
          "2022-10-15T00:00:00",
          "2022-10-16T00:00:00",
          "2022-10-17T00:00:00",
          "2022-10-18T00:00:00",
          "2022-10-19T00:00:00",
          "2022-10-20T00:00:00",
          "2022-10-21T00:00:00",
          "2022-10-22T00:00:00",
          "2022-10-23T00:00:00",
          "2022-10-24T00:00:00",
          "2022-10-25T00:00:00",
          "2022-10-26T00:00:00",
          "2022-10-27T00:00:00",
          "2022-10-28T00:00:00",
          "2022-10-29T00:00:00",
          "2022-10-30T00:00:00",
          "2022-10-31T00:00:00",
          "2022-11-01T00:00:00",
          "2022-11-02T00:00:00",
          "2022-11-03T00:00:00",
          "2022-11-04T00:00:00"
         ],
         "xaxis": "x",
         "y": [
          0,
          60,
          31,
          90,
          60,
          91,
          91,
          90,
          61,
          69,
          79,
          60,
          60,
          60,
          61,
          60,
          60,
          60,
          61,
          63,
          62,
          72,
          60,
          66,
          60,
          64,
          60,
          64,
          60,
          60,
          60,
          65,
          66,
          60,
          62,
          60,
          60,
          60,
          60,
          60,
          0,
          30,
          42,
          35,
          34,
          33,
          32,
          31,
          37,
          36,
          33,
          30,
          41,
          41,
          38,
          37,
          30,
          31,
          30,
          33,
          32,
          31,
          30,
          31,
          31,
          30,
          0,
          0,
          20,
          0,
          2,
          11,
          13,
          0,
          17,
          10,
          0,
          8,
          0,
          0,
          0,
          1,
          8,
          0,
          8,
          8,
          6,
          0,
          0,
          0,
          0,
          2,
          0,
          0,
          0,
          0
         ],
         "yaxis": "y"
        },
        {
         "marker": {
          "cmax": 187,
          "cmin": 0,
          "color": [
           31,
           100,
           93,
           125,
           153,
           145,
           19,
           154,
           131,
           127,
           152,
           164,
           187,
           144,
           104
          ],
          "colorscale": [
           [
            0,
            "rgb(247,252,245)"
           ],
           [
            0.125,
            "rgb(229,245,224)"
           ],
           [
            0.25,
            "rgb(199,233,192)"
           ],
           [
            0.375,
            "rgb(161,217,155)"
           ],
           [
            0.5,
            "rgb(116,196,118)"
           ],
           [
            0.625,
            "rgb(65,171,93)"
           ],
           [
            0.75,
            "rgb(35,139,69)"
           ],
           [
            0.875,
            "rgb(0,109,44)"
           ],
           [
            1,
            "rgb(0,68,27)"
           ]
          ]
         },
         "name": "Weekly Cohort",
         "text": [
          31,
          100,
          93,
          125,
          153,
          145,
          19,
          154,
          131,
          127,
          152,
          164,
          187,
          144,
          104
         ],
         "textposition": "inside",
         "type": "bar",
         "x": [
          "2022-07-25T00:00:00",
          "2022-08-01T00:00:00",
          "2022-08-08T00:00:00",
          "2022-08-15T00:00:00",
          "2022-08-22T00:00:00",
          "2022-08-29T00:00:00",
          "2022-09-05T00:00:00",
          "2022-09-12T00:00:00",
          "2022-09-19T00:00:00",
          "2022-09-26T00:00:00",
          "2022-10-03T00:00:00",
          "2022-10-10T00:00:00",
          "2022-10-17T00:00:00",
          "2022-10-24T00:00:00",
          "2022-10-31T00:00:00"
         ],
         "xaxis": "x2",
         "y": [
          94,
          93,
          66,
          75,
          71,
          66,
          60,
          43,
          45,
          36,
          32,
          21,
          13,
          9,
          4
         ],
         "yaxis": "y2"
        },
        {
         "marker": {
          "cmax": 716,
          "cmin": 0,
          "color": [
           31,
           536,
           469,
           716,
           77
          ],
          "colorscale": [
           [
            0,
            "rgb(255,245,235)"
           ],
           [
            0.125,
            "rgb(254,230,206)"
           ],
           [
            0.25,
            "rgb(253,208,162)"
           ],
           [
            0.375,
            "rgb(253,174,107)"
           ],
           [
            0.5,
            "rgb(253,141,60)"
           ],
           [
            0.625,
            "rgb(241,105,19)"
           ],
           [
            0.75,
            "rgb(217,72,1)"
           ],
           [
            0.875,
            "rgb(166,54,3)"
           ],
           [
            1,
            "rgb(127,39,4)"
           ]
          ]
         },
         "name": "Monthly Cohort",
         "text": [
          31,
          536,
          469,
          716,
          77
         ],
         "textposition": "inside",
         "type": "bar",
         "x": [
          "2022-07-01T00:00:00",
          "2022-08-01T00:00:00",
          "2022-09-01T00:00:00",
          "2022-10-01T00:00:00",
          "2022-11-01T00:00:00"
         ],
         "xaxis": "x3",
         "y": [
          94,
          94,
          64,
          34,
          3
         ],
         "yaxis": "y3"
        }
       ],
       "layout": {
        "annotations": [
         {
          "font": {
           "size": 16
          },
          "showarrow": false,
          "text": "Daily Cohort",
          "x": 0.13333333333333333,
          "xanchor": "center",
          "xref": "paper",
          "y": 1,
          "yanchor": "bottom",
          "yref": "paper"
         },
         {
          "font": {
           "size": 16
          },
          "showarrow": false,
          "text": "Weekly Cohort",
          "x": 0.5,
          "xanchor": "center",
          "xref": "paper",
          "y": 1,
          "yanchor": "bottom",
          "yref": "paper"
         },
         {
          "font": {
           "size": 16
          },
          "showarrow": false,
          "text": "Monthly Cohort",
          "x": 0.8666666666666667,
          "xanchor": "center",
          "xref": "paper",
          "y": 1,
          "yanchor": "bottom",
          "yref": "paper"
         }
        ],
        "height": 500,
        "showlegend": false,
        "template": {
         "data": {
          "bar": [
           {
            "error_x": {
             "color": "#2a3f5f"
            },
            "error_y": {
             "color": "#2a3f5f"
            },
            "marker": {
             "line": {
              "color": "#E5ECF6",
              "width": 0.5
             },
             "pattern": {
              "fillmode": "overlay",
              "size": 10,
              "solidity": 0.2
             }
            },
            "type": "bar"
           }
          ],
          "barpolar": [
           {
            "marker": {
             "line": {
              "color": "#E5ECF6",
              "width": 0.5
             },
             "pattern": {
              "fillmode": "overlay",
              "size": 10,
              "solidity": 0.2
             }
            },
            "type": "barpolar"
           }
          ],
          "carpet": [
           {
            "aaxis": {
             "endlinecolor": "#2a3f5f",
             "gridcolor": "white",
             "linecolor": "white",
             "minorgridcolor": "white",
             "startlinecolor": "#2a3f5f"
            },
            "baxis": {
             "endlinecolor": "#2a3f5f",
             "gridcolor": "white",
             "linecolor": "white",
             "minorgridcolor": "white",
             "startlinecolor": "#2a3f5f"
            },
            "type": "carpet"
           }
          ],
          "choropleth": [
           {
            "colorbar": {
             "outlinewidth": 0,
             "ticks": ""
            },
            "type": "choropleth"
           }
          ],
          "contour": [
           {
            "colorbar": {
             "outlinewidth": 0,
             "ticks": ""
            },
            "colorscale": [
             [
              0,
              "#0d0887"
             ],
             [
              0.1111111111111111,
              "#46039f"
             ],
             [
              0.2222222222222222,
              "#7201a8"
             ],
             [
              0.3333333333333333,
              "#9c179e"
             ],
             [
              0.4444444444444444,
              "#bd3786"
             ],
             [
              0.5555555555555556,
              "#d8576b"
             ],
             [
              0.6666666666666666,
              "#ed7953"
             ],
             [
              0.7777777777777778,
              "#fb9f3a"
             ],
             [
              0.8888888888888888,
              "#fdca26"
             ],
             [
              1,
              "#f0f921"
             ]
            ],
            "type": "contour"
           }
          ],
          "contourcarpet": [
           {
            "colorbar": {
             "outlinewidth": 0,
             "ticks": ""
            },
            "type": "contourcarpet"
           }
          ],
          "heatmap": [
           {
            "colorbar": {
             "outlinewidth": 0,
             "ticks": ""
            },
            "colorscale": [
             [
              0,
              "#0d0887"
             ],
             [
              0.1111111111111111,
              "#46039f"
             ],
             [
              0.2222222222222222,
              "#7201a8"
             ],
             [
              0.3333333333333333,
              "#9c179e"
             ],
             [
              0.4444444444444444,
              "#bd3786"
             ],
             [
              0.5555555555555556,
              "#d8576b"
             ],
             [
              0.6666666666666666,
              "#ed7953"
             ],
             [
              0.7777777777777778,
              "#fb9f3a"
             ],
             [
              0.8888888888888888,
              "#fdca26"
             ],
             [
              1,
              "#f0f921"
             ]
            ],
            "type": "heatmap"
           }
          ],
          "heatmapgl": [
           {
            "colorbar": {
             "outlinewidth": 0,
             "ticks": ""
            },
            "colorscale": [
             [
              0,
              "#0d0887"
             ],
             [
              0.1111111111111111,
              "#46039f"
             ],
             [
              0.2222222222222222,
              "#7201a8"
             ],
             [
              0.3333333333333333,
              "#9c179e"
             ],
             [
              0.4444444444444444,
              "#bd3786"
             ],
             [
              0.5555555555555556,
              "#d8576b"
             ],
             [
              0.6666666666666666,
              "#ed7953"
             ],
             [
              0.7777777777777778,
              "#fb9f3a"
             ],
             [
              0.8888888888888888,
              "#fdca26"
             ],
             [
              1,
              "#f0f921"
             ]
            ],
            "type": "heatmapgl"
           }
          ],
          "histogram": [
           {
            "marker": {
             "pattern": {
              "fillmode": "overlay",
              "size": 10,
              "solidity": 0.2
             }
            },
            "type": "histogram"
           }
          ],
          "histogram2d": [
           {
            "colorbar": {
             "outlinewidth": 0,
             "ticks": ""
            },
            "colorscale": [
             [
              0,
              "#0d0887"
             ],
             [
              0.1111111111111111,
              "#46039f"
             ],
             [
              0.2222222222222222,
              "#7201a8"
             ],
             [
              0.3333333333333333,
              "#9c179e"
             ],
             [
              0.4444444444444444,
              "#bd3786"
             ],
             [
              0.5555555555555556,
              "#d8576b"
             ],
             [
              0.6666666666666666,
              "#ed7953"
             ],
             [
              0.7777777777777778,
              "#fb9f3a"
             ],
             [
              0.8888888888888888,
              "#fdca26"
             ],
             [
              1,
              "#f0f921"
             ]
            ],
            "type": "histogram2d"
           }
          ],
          "histogram2dcontour": [
           {
            "colorbar": {
             "outlinewidth": 0,
             "ticks": ""
            },
            "colorscale": [
             [
              0,
              "#0d0887"
             ],
             [
              0.1111111111111111,
              "#46039f"
             ],
             [
              0.2222222222222222,
              "#7201a8"
             ],
             [
              0.3333333333333333,
              "#9c179e"
             ],
             [
              0.4444444444444444,
              "#bd3786"
             ],
             [
              0.5555555555555556,
              "#d8576b"
             ],
             [
              0.6666666666666666,
              "#ed7953"
             ],
             [
              0.7777777777777778,
              "#fb9f3a"
             ],
             [
              0.8888888888888888,
              "#fdca26"
             ],
             [
              1,
              "#f0f921"
             ]
            ],
            "type": "histogram2dcontour"
           }
          ],
          "mesh3d": [
           {
            "colorbar": {
             "outlinewidth": 0,
             "ticks": ""
            },
            "type": "mesh3d"
           }
          ],
          "parcoords": [
           {
            "line": {
             "colorbar": {
              "outlinewidth": 0,
              "ticks": ""
             }
            },
            "type": "parcoords"
           }
          ],
          "pie": [
           {
            "automargin": true,
            "type": "pie"
           }
          ],
          "scatter": [
           {
            "fillpattern": {
             "fillmode": "overlay",
             "size": 10,
             "solidity": 0.2
            },
            "type": "scatter"
           }
          ],
          "scatter3d": [
           {
            "line": {
             "colorbar": {
              "outlinewidth": 0,
              "ticks": ""
             }
            },
            "marker": {
             "colorbar": {
              "outlinewidth": 0,
              "ticks": ""
             }
            },
            "type": "scatter3d"
           }
          ],
          "scattercarpet": [
           {
            "marker": {
             "colorbar": {
              "outlinewidth": 0,
              "ticks": ""
             }
            },
            "type": "scattercarpet"
           }
          ],
          "scattergeo": [
           {
            "marker": {
             "colorbar": {
              "outlinewidth": 0,
              "ticks": ""
             }
            },
            "type": "scattergeo"
           }
          ],
          "scattergl": [
           {
            "marker": {
             "colorbar": {
              "outlinewidth": 0,
              "ticks": ""
             }
            },
            "type": "scattergl"
           }
          ],
          "scattermapbox": [
           {
            "marker": {
             "colorbar": {
              "outlinewidth": 0,
              "ticks": ""
             }
            },
            "type": "scattermapbox"
           }
          ],
          "scatterpolar": [
           {
            "marker": {
             "colorbar": {
              "outlinewidth": 0,
              "ticks": ""
             }
            },
            "type": "scatterpolar"
           }
          ],
          "scatterpolargl": [
           {
            "marker": {
             "colorbar": {
              "outlinewidth": 0,
              "ticks": ""
             }
            },
            "type": "scatterpolargl"
           }
          ],
          "scatterternary": [
           {
            "marker": {
             "colorbar": {
              "outlinewidth": 0,
              "ticks": ""
             }
            },
            "type": "scatterternary"
           }
          ],
          "surface": [
           {
            "colorbar": {
             "outlinewidth": 0,
             "ticks": ""
            },
            "colorscale": [
             [
              0,
              "#0d0887"
             ],
             [
              0.1111111111111111,
              "#46039f"
             ],
             [
              0.2222222222222222,
              "#7201a8"
             ],
             [
              0.3333333333333333,
              "#9c179e"
             ],
             [
              0.4444444444444444,
              "#bd3786"
             ],
             [
              0.5555555555555556,
              "#d8576b"
             ],
             [
              0.6666666666666666,
              "#ed7953"
             ],
             [
              0.7777777777777778,
              "#fb9f3a"
             ],
             [
              0.8888888888888888,
              "#fdca26"
             ],
             [
              1,
              "#f0f921"
             ]
            ],
            "type": "surface"
           }
          ],
          "table": [
           {
            "cells": {
             "fill": {
              "color": "#EBF0F8"
             },
             "line": {
              "color": "white"
             }
            },
            "header": {
             "fill": {
              "color": "#C8D4E3"
             },
             "line": {
              "color": "white"
             }
            },
            "type": "table"
           }
          ]
         },
         "layout": {
          "annotationdefaults": {
           "arrowcolor": "#2a3f5f",
           "arrowhead": 0,
           "arrowwidth": 1
          },
          "autotypenumbers": "strict",
          "coloraxis": {
           "colorbar": {
            "outlinewidth": 0,
            "ticks": ""
           }
          },
          "colorscale": {
           "diverging": [
            [
             0,
             "#8e0152"
            ],
            [
             0.1,
             "#c51b7d"
            ],
            [
             0.2,
             "#de77ae"
            ],
            [
             0.3,
             "#f1b6da"
            ],
            [
             0.4,
             "#fde0ef"
            ],
            [
             0.5,
             "#f7f7f7"
            ],
            [
             0.6,
             "#e6f5d0"
            ],
            [
             0.7,
             "#b8e186"
            ],
            [
             0.8,
             "#7fbc41"
            ],
            [
             0.9,
             "#4d9221"
            ],
            [
             1,
             "#276419"
            ]
           ],
           "sequential": [
            [
             0,
             "#0d0887"
            ],
            [
             0.1111111111111111,
             "#46039f"
            ],
            [
             0.2222222222222222,
             "#7201a8"
            ],
            [
             0.3333333333333333,
             "#9c179e"
            ],
            [
             0.4444444444444444,
             "#bd3786"
            ],
            [
             0.5555555555555556,
             "#d8576b"
            ],
            [
             0.6666666666666666,
             "#ed7953"
            ],
            [
             0.7777777777777778,
             "#fb9f3a"
            ],
            [
             0.8888888888888888,
             "#fdca26"
            ],
            [
             1,
             "#f0f921"
            ]
           ],
           "sequentialminus": [
            [
             0,
             "#0d0887"
            ],
            [
             0.1111111111111111,
             "#46039f"
            ],
            [
             0.2222222222222222,
             "#7201a8"
            ],
            [
             0.3333333333333333,
             "#9c179e"
            ],
            [
             0.4444444444444444,
             "#bd3786"
            ],
            [
             0.5555555555555556,
             "#d8576b"
            ],
            [
             0.6666666666666666,
             "#ed7953"
            ],
            [
             0.7777777777777778,
             "#fb9f3a"
            ],
            [
             0.8888888888888888,
             "#fdca26"
            ],
            [
             1,
             "#f0f921"
            ]
           ]
          },
          "colorway": [
           "#636efa",
           "#EF553B",
           "#00cc96",
           "#ab63fa",
           "#FFA15A",
           "#19d3f3",
           "#FF6692",
           "#B6E880",
           "#FF97FF",
           "#FECB52"
          ],
          "font": {
           "color": "#2a3f5f"
          },
          "geo": {
           "bgcolor": "white",
           "lakecolor": "white",
           "landcolor": "#E5ECF6",
           "showlakes": true,
           "showland": true,
           "subunitcolor": "white"
          },
          "hoverlabel": {
           "align": "left"
          },
          "hovermode": "closest",
          "mapbox": {
           "style": "light"
          },
          "paper_bgcolor": "white",
          "plot_bgcolor": "#E5ECF6",
          "polar": {
           "angularaxis": {
            "gridcolor": "white",
            "linecolor": "white",
            "ticks": ""
           },
           "bgcolor": "#E5ECF6",
           "radialaxis": {
            "gridcolor": "white",
            "linecolor": "white",
            "ticks": ""
           }
          },
          "scene": {
           "xaxis": {
            "backgroundcolor": "#E5ECF6",
            "gridcolor": "white",
            "gridwidth": 2,
            "linecolor": "white",
            "showbackground": true,
            "ticks": "",
            "zerolinecolor": "white"
           },
           "yaxis": {
            "backgroundcolor": "#E5ECF6",
            "gridcolor": "white",
            "gridwidth": 2,
            "linecolor": "white",
            "showbackground": true,
            "ticks": "",
            "zerolinecolor": "white"
           },
           "zaxis": {
            "backgroundcolor": "#E5ECF6",
            "gridcolor": "white",
            "gridwidth": 2,
            "linecolor": "white",
            "showbackground": true,
            "ticks": "",
            "zerolinecolor": "white"
           }
          },
          "shapedefaults": {
           "line": {
            "color": "#2a3f5f"
           }
          },
          "ternary": {
           "aaxis": {
            "gridcolor": "white",
            "linecolor": "white",
            "ticks": ""
           },
           "baxis": {
            "gridcolor": "white",
            "linecolor": "white",
            "ticks": ""
           },
           "bgcolor": "#E5ECF6",
           "caxis": {
            "gridcolor": "white",
            "linecolor": "white",
            "ticks": ""
           }
          },
          "title": {
           "x": 0.05
          },
          "xaxis": {
           "automargin": true,
           "gridcolor": "white",
           "linecolor": "white",
           "ticks": "",
           "title": {
            "standoff": 15
           },
           "zerolinecolor": "white",
           "zerolinewidth": 2
          },
          "yaxis": {
           "automargin": true,
           "gridcolor": "white",
           "linecolor": "white",
           "ticks": "",
           "title": {
            "standoff": 15
           },
           "zerolinecolor": "white",
           "zerolinewidth": 2
          }
         }
        },
        "title": {
         "text": "Period of Living for Daily, Weekly, and Monthly Cohorts (Vertical)"
        },
        "width": 1200,
        "xaxis": {
         "anchor": "y",
         "autorange": true,
         "domain": [
          0,
          0.26666666666666666
         ],
         "range": [
          "2022-07-26 12:00",
          "2022-11-04 12:00"
         ],
         "type": "date"
        },
        "xaxis2": {
         "anchor": "y2",
         "autorange": true,
         "domain": [
          0.3666666666666667,
          0.6333333333333333
         ],
         "range": [
          "2022-07-21 12:00",
          "2022-11-03 12:00"
         ],
         "type": "date"
        },
        "xaxis3": {
         "anchor": "y3",
         "autorange": true,
         "domain": [
          0.7333333333333334,
          1
         ],
         "range": [
          "2022-06-16",
          "2022-11-16"
         ],
         "type": "date"
        },
        "yaxis": {
         "anchor": "x",
         "autorange": true,
         "domain": [
          0,
          1
         ],
         "range": [
          0,
          95.78947368421052
         ],
         "type": "linear"
        },
        "yaxis2": {
         "anchor": "x2",
         "autorange": true,
         "domain": [
          0,
          1
         ],
         "range": [
          0,
          98.94736842105263
         ],
         "type": "linear"
        },
        "yaxis3": {
         "anchor": "x3",
         "autorange": true,
         "domain": [
          0,
          1
         ],
         "range": [
          0,
          98.94736842105263
         ],
         "type": "linear"
        }
       }
      },
      "image/png": "[encoded data removed]",
      "text/html": [
       "<div>                            <div id=\"2a1e3a50-516d-4a10-bc2e-73752f479487\" class=\"plotly-graph-div\" style=\"height:500px; width:1200px;\"></div>            <script type=\"text/javascript\">                require([\"plotly\"], function(Plotly) {                    window.PLOTLYENV=window.PLOTLYENV || {};                                    if (document.getElementById(\"2a1e3a50-516d-4a10-bc2e-73752f479487\")) {                    Plotly.newPlot(                        \"2a1e3a50-516d-4a10-bc2e-73752f479487\",                        [{\"marker\":{\"cmax\":36,\"cmin\":0,\"color\":[1,7,8,15,9,16,10,10,19,19,17,12,12,14,16,10,13,16,22,14,16,15,13,21,24,24,36,24,13,16,22,18,28,20,17,21,21,18,20,8,1,10,16,36,23,20,16,19,24,12,24,20,11,21,20,23,23,19,12,17,14,21,21,27,23,17,17,20,26,22,23,23,27,30,22,18,21,35,35,30,24,24,19,20,23,25,17,12,20,21,26,27,31,19,22,5],\"colorscale\":[[0.0,\"rgb(247,251,255)\"],[0.125,\"rgb(222,235,247)\"],[0.25,\"rgb(198,219,239)\"],[0.375,\"rgb(158,202,225)\"],[0.5,\"rgb(107,174,214)\"],[0.625,\"rgb(66,146,198)\"],[0.75,\"rgb(33,113,181)\"],[0.875,\"rgb(8,81,156)\"],[1.0,\"rgb(8,48,107)\"]]},\"name\":\"Daily Cohort\",\"text\":[0.0,60.0,31.0,90.0,60.0,91.0,91.0,90.0,61.0,69.0,79.0,60.0,60.0,60.0,61.0,60.0,60.0,60.0,61.0,63.0,62.0,72.0,60.0,66.0,60.0,64.0,60.0,64.0,60.0,60.0,60.0,65.0,66.0,60.0,62.0,60.0,60.0,60.0,60.0,60.0,0.0,30.0,42.0,35.0,34.0,33.0,32.0,31.0,37.0,36.0,33.0,30.0,41.0,41.0,38.0,37.0,30.0,31.0,30.0,33.0,32.0,31.0,30.0,31.0,31.0,30.0,0.0,0.0,20.0,0.0,2.0,11.0,13.0,0.0,17.0,10.0,0.0,8.0,0.0,0.0,0.0,1.0,8.0,0.0,8.0,8.0,6.0,0.0,0.0,0.0,0.0,2.0,0.0,0.0,0.0,0.0],\"textposition\":\"outside\",\"x\":[\"2022-07-27T00:00:00\",\"2022-07-29T00:00:00\",\"2022-07-30T00:00:00\",\"2022-07-31T00:00:00\",\"2022-08-01T00:00:00\",\"2022-08-02T00:00:00\",\"2022-08-03T00:00:00\",\"2022-08-04T00:00:00\",\"2022-08-05T00:00:00\",\"2022-08-06T00:00:00\",\"2022-08-07T00:00:00\",\"2022-08-08T00:00:00\",\"2022-08-09T00:00:00\",\"2022-08-10T00:00:00\",\"2022-08-11T00:00:00\",\"2022-08-12T00:00:00\",\"2022-08-13T00:00:00\",\"2022-08-14T00:00:00\",\"2022-08-15T00:00:00\",\"2022-08-16T00:00:00\",\"2022-08-17T00:00:00\",\"2022-08-18T00:00:00\",\"2022-08-19T00:00:00\",\"2022-08-20T00:00:00\",\"2022-08-21T00:00:00\",\"2022-08-22T00:00:00\",\"2022-08-23T00:00:00\",\"2022-08-24T00:00:00\",\"2022-08-25T00:00:00\",\"2022-08-26T00:00:00\",\"2022-08-27T00:00:00\",\"2022-08-28T00:00:00\",\"2022-08-29T00:00:00\",\"2022-08-30T00:00:00\",\"2022-08-31T00:00:00\",\"2022-09-01T00:00:00\",\"2022-09-02T00:00:00\",\"2022-09-03T00:00:00\",\"2022-09-04T00:00:00\",\"2022-09-05T00:00:00\",\"2022-09-08T00:00:00\",\"2022-09-11T00:00:00\",\"2022-09-12T00:00:00\",\"2022-09-13T00:00:00\",\"2022-09-14T00:00:00\",\"2022-09-15T00:00:00\",\"2022-09-16T00:00:00\",\"2022-09-17T00:00:00\",\"2022-09-18T00:00:00\",\"2022-09-19T00:00:00\",\"2022-09-20T00:00:00\",\"2022-09-21T00:00:00\",\"2022-09-22T00:00:00\",\"2022-09-23T00:00:00\",\"2022-09-24T00:00:00\",\"2022-09-25T00:00:00\",\"2022-09-26T00:00:00\",\"2022-09-27T00:00:00\",\"2022-09-28T00:00:00\",\"2022-09-29T00:00:00\",\"2022-09-30T00:00:00\",\"2022-10-01T00:00:00\",\"2022-10-02T00:00:00\",\"2022-10-03T00:00:00\",\"2022-10-04T00:00:00\",\"2022-10-05T00:00:00\",\"2022-10-06T00:00:00\",\"2022-10-07T00:00:00\",\"2022-10-08T00:00:00\",\"2022-10-09T00:00:00\",\"2022-10-10T00:00:00\",\"2022-10-11T00:00:00\",\"2022-10-12T00:00:00\",\"2022-10-13T00:00:00\",\"2022-10-14T00:00:00\",\"2022-10-15T00:00:00\",\"2022-10-16T00:00:00\",\"2022-10-17T00:00:00\",\"2022-10-18T00:00:00\",\"2022-10-19T00:00:00\",\"2022-10-20T00:00:00\",\"2022-10-21T00:00:00\",\"2022-10-22T00:00:00\",\"2022-10-23T00:00:00\",\"2022-10-24T00:00:00\",\"2022-10-25T00:00:00\",\"2022-10-26T00:00:00\",\"2022-10-27T00:00:00\",\"2022-10-28T00:00:00\",\"2022-10-29T00:00:00\",\"2022-10-30T00:00:00\",\"2022-10-31T00:00:00\",\"2022-11-01T00:00:00\",\"2022-11-02T00:00:00\",\"2022-11-03T00:00:00\",\"2022-11-04T00:00:00\"],\"y\":[0,60,31,90,60,91,91,90,61,69,79,60,60,60,61,60,60,60,61,63,62,72,60,66,60,64,60,64,60,60,60,65,66,60,62,60,60,60,60,60,0,30,42,35,34,33,32,31,37,36,33,30,41,41,38,37,30,31,30,33,32,31,30,31,31,30,0,0,20,0,2,11,13,0,17,10,0,8,0,0,0,1,8,0,8,8,6,0,0,0,0,2,0,0,0,0],\"type\":\"bar\",\"xaxis\":\"x\",\"yaxis\":\"y\"},{\"marker\":{\"cmax\":187,\"cmin\":0,\"color\":[31,100,93,125,153,145,19,154,131,127,152,164,187,144,104],\"colorscale\":[[0.0,\"rgb(247,252,245)\"],[0.125,\"rgb(229,245,224)\"],[0.25,\"rgb(199,233,192)\"],[0.375,\"rgb(161,217,155)\"],[0.5,\"rgb(116,196,118)\"],[0.625,\"rgb(65,171,93)\"],[0.75,\"rgb(35,139,69)\"],[0.875,\"rgb(0,109,44)\"],[1.0,\"rgb(0,68,27)\"]]},\"name\":\"Weekly Cohort\",\"text\":[31.0,100.0,93.0,125.0,153.0,145.0,19.0,154.0,131.0,127.0,152.0,164.0,187.0,144.0,104.0],\"textposition\":\"inside\",\"x\":[\"2022-07-25T00:00:00\",\"2022-08-01T00:00:00\",\"2022-08-08T00:00:00\",\"2022-08-15T00:00:00\",\"2022-08-22T00:00:00\",\"2022-08-29T00:00:00\",\"2022-09-05T00:00:00\",\"2022-09-12T00:00:00\",\"2022-09-19T00:00:00\",\"2022-09-26T00:00:00\",\"2022-10-03T00:00:00\",\"2022-10-10T00:00:00\",\"2022-10-17T00:00:00\",\"2022-10-24T00:00:00\",\"2022-10-31T00:00:00\"],\"y\":[94,93,66,75,71,66,60,43,45,36,32,21,13,9,4],\"type\":\"bar\",\"xaxis\":\"x2\",\"yaxis\":\"y2\"},{\"marker\":{\"cmax\":716,\"cmin\":0,\"color\":[31,536,469,716,77],\"colorscale\":[[0.0,\"rgb(255,245,235)\"],[0.125,\"rgb(254,230,206)\"],[0.25,\"rgb(253,208,162)\"],[0.375,\"rgb(253,174,107)\"],[0.5,\"rgb(253,141,60)\"],[0.625,\"rgb(241,105,19)\"],[0.75,\"rgb(217,72,1)\"],[0.875,\"rgb(166,54,3)\"],[1.0,\"rgb(127,39,4)\"]]},\"name\":\"Monthly Cohort\",\"text\":[31.0,536.0,469.0,716.0,77.0],\"textposition\":\"inside\",\"x\":[\"2022-07-01T00:00:00\",\"2022-08-01T00:00:00\",\"2022-09-01T00:00:00\",\"2022-10-01T00:00:00\",\"2022-11-01T00:00:00\"],\"y\":[94,94,64,34,3],\"type\":\"bar\",\"xaxis\":\"x3\",\"yaxis\":\"y3\"}],                        {\"template\":{\"data\":{\"histogram2dcontour\":[{\"type\":\"histogram2dcontour\",\"colorbar\":{\"outlinewidth\":0,\"ticks\":\"\"},\"colorscale\":[[0.0,\"#0d0887\"],[0.1111111111111111,\"#46039f\"],[0.2222222222222222,\"#7201a8\"],[0.3333333333333333,\"#9c179e\"],[0.4444444444444444,\"#bd3786\"],[0.5555555555555556,\"#d8576b\"],[0.6666666666666666,\"#ed7953\"],[0.7777777777777778,\"#fb9f3a\"],[0.8888888888888888,\"#fdca26\"],[1.0,\"#f0f921\"]]}],\"choropleth\":[{\"type\":\"choropleth\",\"colorbar\":{\"outlinewidth\":0,\"ticks\":\"\"}}],\"histogram2d\":[{\"type\":\"histogram2d\",\"colorbar\":{\"outlinewidth\":0,\"ticks\":\"\"},\"colorscale\":[[0.0,\"#0d0887\"],[0.1111111111111111,\"#46039f\"],[0.2222222222222222,\"#7201a8\"],[0.3333333333333333,\"#9c179e\"],[0.4444444444444444,\"#bd3786\"],[0.5555555555555556,\"#d8576b\"],[0.6666666666666666,\"#ed7953\"],[0.7777777777777778,\"#fb9f3a\"],[0.8888888888888888,\"#fdca26\"],[1.0,\"#f0f921\"]]}],\"heatmap\":[{\"type\":\"heatmap\",\"colorbar\":{\"outlinewidth\":0,\"ticks\":\"\"},\"colorscale\":[[0.0,\"#0d0887\"],[0.1111111111111111,\"#46039f\"],[0.2222222222222222,\"#7201a8\"],[0.3333333333333333,\"#9c179e\"],[0.4444444444444444,\"#bd3786\"],[0.5555555555555556,\"#d8576b\"],[0.6666666666666666,\"#ed7953\"],[0.7777777777777778,\"#fb9f3a\"],[0.8888888888888888,\"#fdca26\"],[1.0,\"#f0f921\"]]}],\"heatmapgl\":[{\"type\":\"heatmapgl\",\"colorbar\":{\"outlinewidth\":0,\"ticks\":\"\"},\"colorscale\":[[0.0,\"#0d0887\"],[0.1111111111111111,\"#46039f\"],[0.2222222222222222,\"#7201a8\"],[0.3333333333333333,\"#9c179e\"],[0.4444444444444444,\"#bd3786\"],[0.5555555555555556,\"#d8576b\"],[0.6666666666666666,\"#ed7953\"],[0.7777777777777778,\"#fb9f3a\"],[0.8888888888888888,\"#fdca26\"],[1.0,\"#f0f921\"]]}],\"contourcarpet\":[{\"type\":\"contourcarpet\",\"colorbar\":{\"outlinewidth\":0,\"ticks\":\"\"}}],\"contour\":[{\"type\":\"contour\",\"colorbar\":{\"outlinewidth\":0,\"ticks\":\"\"},\"colorscale\":[[0.0,\"#0d0887\"],[0.1111111111111111,\"#46039f\"],[0.2222222222222222,\"#7201a8\"],[0.3333333333333333,\"#9c179e\"],[0.4444444444444444,\"#bd3786\"],[0.5555555555555556,\"#d8576b\"],[0.6666666666666666,\"#ed7953\"],[0.7777777777777778,\"#fb9f3a\"],[0.8888888888888888,\"#fdca26\"],[1.0,\"#f0f921\"]]}],\"surface\":[{\"type\":\"surface\",\"colorbar\":{\"outlinewidth\":0,\"ticks\":\"\"},\"colorscale\":[[0.0,\"#0d0887\"],[0.1111111111111111,\"#46039f\"],[0.2222222222222222,\"#7201a8\"],[0.3333333333333333,\"#9c179e\"],[0.4444444444444444,\"#bd3786\"],[0.5555555555555556,\"#d8576b\"],[0.6666666666666666,\"#ed7953\"],[0.7777777777777778,\"#fb9f3a\"],[0.8888888888888888,\"#fdca26\"],[1.0,\"#f0f921\"]]}],\"mesh3d\":[{\"type\":\"mesh3d\",\"colorbar\":{\"outlinewidth\":0,\"ticks\":\"\"}}],\"scatter\":[{\"fillpattern\":{\"fillmode\":\"overlay\",\"size\":10,\"solidity\":0.2},\"type\":\"scatter\"}],\"parcoords\":[{\"type\":\"parcoords\",\"line\":{\"colorbar\":{\"outlinewidth\":0,\"ticks\":\"\"}}}],\"scatterpolargl\":[{\"type\":\"scatterpolargl\",\"marker\":{\"colorbar\":{\"outlinewidth\":0,\"ticks\":\"\"}}}],\"bar\":[{\"error_x\":{\"color\":\"#2a3f5f\"},\"error_y\":{\"color\":\"#2a3f5f\"},\"marker\":{\"line\":{\"color\":\"#E5ECF6\",\"width\":0.5},\"pattern\":{\"fillmode\":\"overlay\",\"size\":10,\"solidity\":0.2}},\"type\":\"bar\"}],\"scattergeo\":[{\"type\":\"scattergeo\",\"marker\":{\"colorbar\":{\"outlinewidth\":0,\"ticks\":\"\"}}}],\"scatterpolar\":[{\"type\":\"scatterpolar\",\"marker\":{\"colorbar\":{\"outlinewidth\":0,\"ticks\":\"\"}}}],\"histogram\":[{\"marker\":{\"pattern\":{\"fillmode\":\"overlay\",\"size\":10,\"solidity\":0.2}},\"type\":\"histogram\"}],\"scattergl\":[{\"type\":\"scattergl\",\"marker\":{\"colorbar\":{\"outlinewidth\":0,\"ticks\":\"\"}}}],\"scatter3d\":[{\"type\":\"scatter3d\",\"line\":{\"colorbar\":{\"outlinewidth\":0,\"ticks\":\"\"}},\"marker\":{\"colorbar\":{\"outlinewidth\":0,\"ticks\":\"\"}}}],\"scattermapbox\":[{\"type\":\"scattermapbox\",\"marker\":{\"colorbar\":{\"outlinewidth\":0,\"ticks\":\"\"}}}],\"scatterternary\":[{\"type\":\"scatterternary\",\"marker\":{\"colorbar\":{\"outlinewidth\":0,\"ticks\":\"\"}}}],\"scattercarpet\":[{\"type\":\"scattercarpet\",\"marker\":{\"colorbar\":{\"outlinewidth\":0,\"ticks\":\"\"}}}],\"carpet\":[{\"aaxis\":{\"endlinecolor\":\"#2a3f5f\",\"gridcolor\":\"white\",\"linecolor\":\"white\",\"minorgridcolor\":\"white\",\"startlinecolor\":\"#2a3f5f\"},\"baxis\":{\"endlinecolor\":\"#2a3f5f\",\"gridcolor\":\"white\",\"linecolor\":\"white\",\"minorgridcolor\":\"white\",\"startlinecolor\":\"#2a3f5f\"},\"type\":\"carpet\"}],\"table\":[{\"cells\":{\"fill\":{\"color\":\"#EBF0F8\"},\"line\":{\"color\":\"white\"}},\"header\":{\"fill\":{\"color\":\"#C8D4E3\"},\"line\":{\"color\":\"white\"}},\"type\":\"table\"}],\"barpolar\":[{\"marker\":{\"line\":{\"color\":\"#E5ECF6\",\"width\":0.5},\"pattern\":{\"fillmode\":\"overlay\",\"size\":10,\"solidity\":0.2}},\"type\":\"barpolar\"}],\"pie\":[{\"automargin\":true,\"type\":\"pie\"}]},\"layout\":{\"autotypenumbers\":\"strict\",\"colorway\":[\"#636efa\",\"#EF553B\",\"#00cc96\",\"#ab63fa\",\"#FFA15A\",\"#19d3f3\",\"#FF6692\",\"#B6E880\",\"#FF97FF\",\"#FECB52\"],\"font\":{\"color\":\"#2a3f5f\"},\"hovermode\":\"closest\",\"hoverlabel\":{\"align\":\"left\"},\"paper_bgcolor\":\"white\",\"plot_bgcolor\":\"#E5ECF6\",\"polar\":{\"bgcolor\":\"#E5ECF6\",\"angularaxis\":{\"gridcolor\":\"white\",\"linecolor\":\"white\",\"ticks\":\"\"},\"radialaxis\":{\"gridcolor\":\"white\",\"linecolor\":\"white\",\"ticks\":\"\"}},\"ternary\":{\"bgcolor\":\"#E5ECF6\",\"aaxis\":{\"gridcolor\":\"white\",\"linecolor\":\"white\",\"ticks\":\"\"},\"baxis\":{\"gridcolor\":\"white\",\"linecolor\":\"white\",\"ticks\":\"\"},\"caxis\":{\"gridcolor\":\"white\",\"linecolor\":\"white\",\"ticks\":\"\"}},\"coloraxis\":{\"colorbar\":{\"outlinewidth\":0,\"ticks\":\"\"}},\"colorscale\":{\"sequential\":[[0.0,\"#0d0887\"],[0.1111111111111111,\"#46039f\"],[0.2222222222222222,\"#7201a8\"],[0.3333333333333333,\"#9c179e\"],[0.4444444444444444,\"#bd3786\"],[0.5555555555555556,\"#d8576b\"],[0.6666666666666666,\"#ed7953\"],[0.7777777777777778,\"#fb9f3a\"],[0.8888888888888888,\"#fdca26\"],[1.0,\"#f0f921\"]],\"sequentialminus\":[[0.0,\"#0d0887\"],[0.1111111111111111,\"#46039f\"],[0.2222222222222222,\"#7201a8\"],[0.3333333333333333,\"#9c179e\"],[0.4444444444444444,\"#bd3786\"],[0.5555555555555556,\"#d8576b\"],[0.6666666666666666,\"#ed7953\"],[0.7777777777777778,\"#fb9f3a\"],[0.8888888888888888,\"#fdca26\"],[1.0,\"#f0f921\"]],\"diverging\":[[0,\"#8e0152\"],[0.1,\"#c51b7d\"],[0.2,\"#de77ae\"],[0.3,\"#f1b6da\"],[0.4,\"#fde0ef\"],[0.5,\"#f7f7f7\"],[0.6,\"#e6f5d0\"],[0.7,\"#b8e186\"],[0.8,\"#7fbc41\"],[0.9,\"#4d9221\"],[1,\"#276419\"]]},\"xaxis\":{\"gridcolor\":\"white\",\"linecolor\":\"white\",\"ticks\":\"\",\"title\":{\"standoff\":15},\"zerolinecolor\":\"white\",\"automargin\":true,\"zerolinewidth\":2},\"yaxis\":{\"gridcolor\":\"white\",\"linecolor\":\"white\",\"ticks\":\"\",\"title\":{\"standoff\":15},\"zerolinecolor\":\"white\",\"automargin\":true,\"zerolinewidth\":2},\"scene\":{\"xaxis\":{\"backgroundcolor\":\"#E5ECF6\",\"gridcolor\":\"white\",\"linecolor\":\"white\",\"showbackground\":true,\"ticks\":\"\",\"zerolinecolor\":\"white\",\"gridwidth\":2},\"yaxis\":{\"backgroundcolor\":\"#E5ECF6\",\"gridcolor\":\"white\",\"linecolor\":\"white\",\"showbackground\":true,\"ticks\":\"\",\"zerolinecolor\":\"white\",\"gridwidth\":2},\"zaxis\":{\"backgroundcolor\":\"#E5ECF6\",\"gridcolor\":\"white\",\"linecolor\":\"white\",\"showbackground\":true,\"ticks\":\"\",\"zerolinecolor\":\"white\",\"gridwidth\":2}},\"shapedefaults\":{\"line\":{\"color\":\"#2a3f5f\"}},\"annotationdefaults\":{\"arrowcolor\":\"#2a3f5f\",\"arrowhead\":0,\"arrowwidth\":1},\"geo\":{\"bgcolor\":\"white\",\"landcolor\":\"#E5ECF6\",\"subunitcolor\":\"white\",\"showland\":true,\"showlakes\":true,\"lakecolor\":\"white\"},\"title\":{\"x\":0.05},\"mapbox\":{\"style\":\"light\"}}},\"xaxis\":{\"anchor\":\"y\",\"domain\":[0.0,0.26666666666666666]},\"yaxis\":{\"anchor\":\"x\",\"domain\":[0.0,1.0]},\"xaxis2\":{\"anchor\":\"y2\",\"domain\":[0.3666666666666667,0.6333333333333333]},\"yaxis2\":{\"anchor\":\"x2\",\"domain\":[0.0,1.0]},\"xaxis3\":{\"anchor\":\"y3\",\"domain\":[0.7333333333333334,1.0]},\"yaxis3\":{\"anchor\":\"x3\",\"domain\":[0.0,1.0]},\"annotations\":[{\"font\":{\"size\":16},\"showarrow\":false,\"text\":\"Daily Cohort\",\"x\":0.13333333333333333,\"xanchor\":\"center\",\"xref\":\"paper\",\"y\":1.0,\"yanchor\":\"bottom\",\"yref\":\"paper\"},{\"font\":{\"size\":16},\"showarrow\":false,\"text\":\"Weekly Cohort\",\"x\":0.5,\"xanchor\":\"center\",\"xref\":\"paper\",\"y\":1.0,\"yanchor\":\"bottom\",\"yref\":\"paper\"},{\"font\":{\"size\":16},\"showarrow\":false,\"text\":\"Monthly Cohort\",\"x\":0.8666666666666667,\"xanchor\":\"center\",\"xref\":\"paper\",\"y\":1.0,\"yanchor\":\"bottom\",\"yref\":\"paper\"}],\"title\":{\"text\":\"Period of Living for Daily, Weekly, and Monthly Cohorts (Vertical)\"},\"height\":500,\"width\":1200,\"showlegend\":false},                        {\"responsive\": true}                    ).then(function(){\n",
       "                            \n",
       "var gd = document.getElementById('2a1e3a50-516d-4a10-bc2e-73752f479487');\n",
       "var x = new MutationObserver(function (mutations, observer) {{\n",
       "        var display = window.getComputedStyle(gd).display;\n",
       "        if (!display || display === 'none') {{\n",
       "            console.log([gd, 'removed!']);\n",
       "            Plotly.purge(gd);\n",
       "            observer.disconnect();\n",
       "        }}\n",
       "}});\n",
       "\n",
       "// Listen for the removal of the full notebook cells\n",
       "var notebookContainer = gd.closest('#notebook-container');\n",
       "if (notebookContainer) {{\n",
       "    x.observe(notebookContainer, {childList: true});\n",
       "}}\n",
       "\n",
       "// Listen for the clearing of the current output cell\n",
       "var outputEl = gd.closest('.output');\n",
       "if (outputEl) {{\n",
       "    x.observe(outputEl, {childList: true});\n",
       "}}\n",
       "\n",
       "                        })                };                });            </script>        </div>"
      ]
     },
     "metadata": {},
     "output_type": "display_data"
    }
   ],
   "source": [
    "import plotly.graph_objects as go\n",
    "from plotly.subplots import make_subplots\n",
    "\n",
    "# Дані для денної, тижневої та місячної когорт\n",
    "temp_daily = temp.groupby('cohort_day').agg(\n",
    "    first_transaction_day=('daily_cohort', 'min'),\n",
    "    last_transaction_day=('daily_cohort', 'max'),\n",
    "    number_of_buyers=('user_id', 'nunique'),\n",
    "    number_of_transaction=('user_id', 'count')\n",
    ").reset_index()\n",
    "temp_daily['period_of_living'] = (temp_daily.last_transaction_day - temp_daily.first_transaction_day).dt.days\n",
    "\n",
    "temp_weekly = temp.groupby('cohort_week').agg(\n",
    "    first_transaction_day=('daily_cohort', 'min'),\n",
    "    last_transaction_day=('daily_cohort', 'max'),\n",
    "    number_of_buyers=('user_id', 'nunique'),\n",
    "    number_of_transaction=('user_id', 'count')\n",
    ").reset_index()\n",
    "temp_weekly['period_of_living'] = (temp_weekly.last_transaction_day - temp_weekly.first_transaction_day).dt.days\n",
    "\n",
    "temp_monthly = temp.groupby('cohort_month').agg(\n",
    "    first_transaction_day=('daily_cohort', 'min'),\n",
    "    last_transaction_day=('daily_cohort', 'max'),\n",
    "    number_of_buyers=('user_id', 'nunique'),\n",
    "    number_of_transaction=('user_id', 'count')\n",
    ").reset_index()\n",
    "temp_monthly['period_of_living'] = (temp_monthly.last_transaction_day - temp_monthly.first_transaction_day).dt.days\n",
    "\n",
    "# Визначення максимумів для кількості покупців\n",
    "max_buyers_daily = temp_daily['number_of_buyers'].max()\n",
    "max_buyers_weekly = temp_weekly['number_of_buyers'].max()\n",
    "max_buyers_monthly = temp_monthly['number_of_buyers'].max()\n",
    "\n",
    "# Створення subplot\n",
    "fig = make_subplots(\n",
    "    rows=1, cols=3,\n",
    "    subplot_titles=(\"Daily Cohort\", \"Weekly Cohort\", \"Monthly Cohort\"),\n",
    "    shared_yaxes=False,\n",
    "    horizontal_spacing=0.1\n",
    ")\n",
    "\n",
    "# Додавання графіка для денної когорти (без тексту покупців)\n",
    "fig.add_trace(\n",
    "    go.Bar(\n",
    "        x=temp_daily['cohort_day'],\n",
    "        y=temp_daily['period_of_living'],\n",
    "        marker=dict(\n",
    "            color=temp_daily['number_of_buyers'],\n",
    "            colorscale=\"Blues\",\n",
    "            cmin=0,\n",
    "            cmax=max_buyers_daily\n",
    "        ),\n",
    "        name=\"Daily Cohort\",\n",
    "        text=temp_daily['period_of_living'],  # Додано текст періоду життя\n",
    "        textposition='outside'\n",
    "    ),\n",
    "    row=1, col=1\n",
    ")\n",
    "\n",
    "# Додавання графіка для тижневої когорти\n",
    "fig.add_trace(\n",
    "    go.Bar(\n",
    "        x=temp_weekly['cohort_week'],\n",
    "        y=temp_weekly['period_of_living'],\n",
    "        marker=dict(\n",
    "            color=temp_weekly['number_of_buyers'],\n",
    "            colorscale=\"Greens\",\n",
    "            cmin=0,\n",
    "            cmax=max_buyers_weekly\n",
    "        ),\n",
    "        name=\"Weekly Cohort\",\n",
    "        text=temp_weekly['number_of_buyers'],  # Додано текст із кількістю покупців\n",
    "        textposition='inside'\n",
    "    ),\n",
    "    row=1, col=2\n",
    ")\n",
    "\n",
    "# Додавання графіка для місячної когорти\n",
    "fig.add_trace(\n",
    "    go.Bar(\n",
    "        x=temp_monthly['cohort_month'],\n",
    "        y=temp_monthly['period_of_living'],\n",
    "        marker=dict(\n",
    "            color=temp_monthly['number_of_buyers'],\n",
    "            colorscale=\"Oranges\",\n",
    "            cmin=0,\n",
    "            cmax=max_buyers_monthly\n",
    "        ),\n",
    "        name=\"Monthly Cohort\",\n",
    "        text=temp_monthly['number_of_buyers'],  # Додано текст із кількістю покупців\n",
    "        textposition='inside'\n",
    "    ),\n",
    "    row=1, col=3\n",
    ")\n",
    "\n",
    "# Налаштування загального вигляду\n",
    "fig.update_layout(\n",
    "    height=500,  # Висота графіка\n",
    "    width=1200,  # Ширина графіка\n",
    "    title_text=\"Period of Living for Daily, Weekly, and Monthly Cohorts (Vertical)\",\n",
    "    showlegend=False\n",
    ")\n",
    "\n",
    "# Відображення графіка\n",
    "fig.show()"
   ]
  },
  {
   "cell_type": "markdown",
   "id": "84fd8f0b-0f90-4873-990c-cd9602945b2f",
   "metadata": {},
   "source": [
    "### Висновки:\n",
    "\n",
    "Для завдання розрахунку ARPPU (Average Revenue Per Paying User) оптимальною буде **тижнева розбивка** з таких причин:\n",
    "1. Вона дозволяє враховувати як короткострокові зміни (зміни цін, вплив акцій), так і довгострокові тренди.\n",
    "2. Тиждень є достатньо широким періодом для акумуляції покупок, але не настільки довгим, щоб втратити деталізацію.\n",
    "3. **Оптимальний розмір вибірки користувачів**:\n",
    "   - Кожного тижня є достатня кількість користувачів для розрахунків ~ 100+. \n",
    "   - Винятком є тиждень **5 вересня**, де кількість користувачів становить лише **19**, що може призвести до статистичних перекосів у результатах. А також перший тиждень де 31 користувач."
   ]
  },
  {
   "cell_type": "markdown",
   "id": "fccc3d72-4a23-47da-80f0-87bf9c5e6a07",
   "metadata": {},
   "source": [
    "## **Опис коду нижче**\n",
    "\n",
    "Цей код використовується для оцінки мінімальної кількості днів, які прожили всі користувачі у кожній когорті. Мета – визначити, за яким часовим проміжком можна чесно порівнювати показники між когортами.\n",
    "\n",
    "### **Основна логіка:**\n",
    "1. Для кожного користувача обчислюється кількість днів з моменту його останньої транзакції до часу останньої транзакції в даних.\n",
    "2. Для кожної когорти визначається мінімальна кількість днів, які прожили всі користувачі.\n",
    "3. Це дозволяє вирішити:\n",
    "   - **Які когорти можна порівнювати на певний день.**\n",
    "   - Наприклад, усі когорти можна коректно порівнювати на 0 день, але лише ті, які мають мінімум 30 днів проживання, можна аналізувати на 30 день."
   ]
  },
  {
   "cell_type": "code",
   "execution_count": 505,
   "id": "26c3c65c-13b1-4297-ac0f-fe601f98615b",
   "metadata": {},
   "outputs": [],
   "source": [
    "temp['diff'] = (pd.to_datetime(temp.data_chunk_date.max()) - pd.to_datetime(temp.data_chunk_date)).dt.days"
   ]
  },
  {
   "cell_type": "code",
   "execution_count": 506,
   "id": "f2cfc871-0f4d-426b-8255-d415b8fc21d3",
   "metadata": {
    "jupyter": {
     "source_hidden": true
    }
   },
   "outputs": [],
   "source": [
    "temp1 = temp.groupby(['user_id', 'cohort_week']).agg(days_leaving=('diff','max')).reset_index()"
   ]
  },
  {
   "cell_type": "code",
   "execution_count": 507,
   "id": "1555dd7e-217b-47d6-8475-93cd3f135f21",
   "metadata": {},
   "outputs": [
    {
     "data": {
      "text/html": [
       "<div>\n",
       "<style scoped>\n",
       "    .dataframe tbody tr th:only-of-type {\n",
       "        vertical-align: middle;\n",
       "    }\n",
       "\n",
       "    .dataframe tbody tr th {\n",
       "        vertical-align: top;\n",
       "    }\n",
       "\n",
       "    .dataframe thead th {\n",
       "        text-align: right;\n",
       "    }\n",
       "</style>\n",
       "<table border=\"1\" class=\"dataframe\">\n",
       "  <thead>\n",
       "    <tr style=\"text-align: right;\">\n",
       "      <th></th>\n",
       "      <th>cohort_week</th>\n",
       "      <th>max_value_live_all_buyer_in_cohort</th>\n",
       "    </tr>\n",
       "  </thead>\n",
       "  <tbody>\n",
       "    <tr>\n",
       "      <th>0</th>\n",
       "      <td>2022-07-25</td>\n",
       "      <td>96</td>\n",
       "    </tr>\n",
       "    <tr>\n",
       "      <th>1</th>\n",
       "      <td>2022-08-01</td>\n",
       "      <td>89</td>\n",
       "    </tr>\n",
       "    <tr>\n",
       "      <th>2</th>\n",
       "      <td>2022-08-08</td>\n",
       "      <td>82</td>\n",
       "    </tr>\n",
       "    <tr>\n",
       "      <th>3</th>\n",
       "      <td>2022-08-15</td>\n",
       "      <td>75</td>\n",
       "    </tr>\n",
       "    <tr>\n",
       "      <th>4</th>\n",
       "      <td>2022-08-22</td>\n",
       "      <td>68</td>\n",
       "    </tr>\n",
       "    <tr>\n",
       "      <th>5</th>\n",
       "      <td>2022-08-29</td>\n",
       "      <td>61</td>\n",
       "    </tr>\n",
       "    <tr>\n",
       "      <th>6</th>\n",
       "      <td>2022-09-05</td>\n",
       "      <td>54</td>\n",
       "    </tr>\n",
       "    <tr>\n",
       "      <th>7</th>\n",
       "      <td>2022-09-12</td>\n",
       "      <td>47</td>\n",
       "    </tr>\n",
       "    <tr>\n",
       "      <th>8</th>\n",
       "      <td>2022-09-19</td>\n",
       "      <td>40</td>\n",
       "    </tr>\n",
       "    <tr>\n",
       "      <th>9</th>\n",
       "      <td>2022-09-26</td>\n",
       "      <td>33</td>\n",
       "    </tr>\n",
       "    <tr>\n",
       "      <th>10</th>\n",
       "      <td>2022-10-03</td>\n",
       "      <td>26</td>\n",
       "    </tr>\n",
       "    <tr>\n",
       "      <th>11</th>\n",
       "      <td>2022-10-10</td>\n",
       "      <td>19</td>\n",
       "    </tr>\n",
       "    <tr>\n",
       "      <th>12</th>\n",
       "      <td>2022-10-17</td>\n",
       "      <td>12</td>\n",
       "    </tr>\n",
       "    <tr>\n",
       "      <th>13</th>\n",
       "      <td>2022-10-24</td>\n",
       "      <td>5</td>\n",
       "    </tr>\n",
       "    <tr>\n",
       "      <th>14</th>\n",
       "      <td>2022-10-31</td>\n",
       "      <td>0</td>\n",
       "    </tr>\n",
       "  </tbody>\n",
       "</table>\n",
       "</div>"
      ],
      "text/plain": [
       "   cohort_week  max_value_live_all_buyer_in_cohort\n",
       "0   2022-07-25                                  96\n",
       "1   2022-08-01                                  89\n",
       "2   2022-08-08                                  82\n",
       "3   2022-08-15                                  75\n",
       "4   2022-08-22                                  68\n",
       "5   2022-08-29                                  61\n",
       "6   2022-09-05                                  54\n",
       "7   2022-09-12                                  47\n",
       "8   2022-09-19                                  40\n",
       "9   2022-09-26                                  33\n",
       "10  2022-10-03                                  26\n",
       "11  2022-10-10                                  19\n",
       "12  2022-10-17                                  12\n",
       "13  2022-10-24                                   5\n",
       "14  2022-10-31                                   0"
      ]
     },
     "execution_count": 507,
     "metadata": {},
     "output_type": "execute_result"
    }
   ],
   "source": [
    "temp1.groupby('cohort_week').agg(max_value_live_all_buyer_in_cohort=('days_leaving','min')).reset_index()"
   ]
  },
  {
   "cell_type": "markdown",
   "id": "38935388-3584-4443-819e-fe194b883e6b",
   "metadata": {},
   "source": [
    "### **Висновок:**\n",
    "На основі цього аналізу ми бачимо що є когорти які довго прожили, а які прожили тільки 1 день. \n",
    "\n",
    "Оскільки наразі немає чітких бізнес-запитів та глибшого розуміння особливостей продукту, підписок, потреб команди та їхніх цілей, оптимальним є розрахунок для 0, 30 та 60 днів. Це дозволить отримати базові метрики та провести первинний аналіз, на основі якого можна буде приймати подальші рішення."
   ]
  },
  {
   "cell_type": "markdown",
   "id": "3d0eca3b-a464-42ae-99ad-9b9deb6d9820",
   "metadata": {},
   "source": [
    "## **Опис коду нижче**\n",
    "\n",
    "Цей код використовується для розрахунку ARPPU (Average Revenue Per Paying User) для кожної когорти на основі різних часових проміжків (0, 30, 60 днів). Мета – визначити, які когорти можна коректно порівнювати залежно від їхнього часу життя.\n",
    "\n",
    "### **Основна логіка:**\n",
    "1. **Попередня обробка даних:**\n",
    "   - Додається інформація про мінімальний час життя користувачів у кожній когорті.\n",
    "   - Обчислюється кількість днів між транзакцією користувача та його першою транзакцією.\n",
    "\n",
    "2. **Фільтрація даних:**\n",
    "   - Для кожного часовго проміжку (0, 30, 60 днів):\n",
    "     - Залишаються тільки ті когорти, в яких мінімальний час життя всіх користувачів більший або дорівнює поточному часовому проміжку.\n",
    "     - Враховуються транзакції, що відбулися не пізніше ніж через 0, 30 або 60 днів після першої транзакції користувача.\n",
    "\n",
    "3. **Розрахунок метрик:**\n",
    "   - Для кожної когорти розраховується:\n",
    "     - **Кількість платоспроможних користувачів** (`buyers`).\n",
    "     - **Сумарний дохід** (`revenue`).\n",
    "     - **ARPPU** – середній дохід на одного платоспроможного користувача.\n",
    "\n",
    "4. **Результати:**\n",
    "   - Для кожного періоду (0, 30, 60 днів) формується таблиця з метриками.\n",
    "   - Дані об'єднуються в єдиний результат, що дозволяє порівнювати ARPPU між когортами для різних періодів часу."
   ]
  },
  {
   "cell_type": "code",
   "execution_count": 508,
   "id": "9b36e975-89d3-4906-9a72-2992957d0acc",
   "metadata": {
    "jupyter": {
     "source_hidden": true
    }
   },
   "outputs": [
    {
     "data": {
      "application/vnd.plotly.v1+json": {
       "config": {
        "plotlyServerURL": "https://plot.ly"
       },
       "data": [
        {
         "marker": {
          "cmax": 98.74,
          "cmin": 0,
          "color": [
           73.1,
           56.96,
           66.12,
           63.33,
           59.08,
           58.27,
           66.37,
           81.92,
           85.71,
           81.01,
           82.18,
           84.98,
           90.42,
           94.47,
           98.74
          ],
          "colorscale": [
           [
            0,
            "rgb(247,251,255)"
           ],
           [
            0.125,
            "rgb(222,235,247)"
           ],
           [
            0.25,
            "rgb(198,219,239)"
           ],
           [
            0.375,
            "rgb(158,202,225)"
           ],
           [
            0.5,
            "rgb(107,174,214)"
           ],
           [
            0.625,
            "rgb(66,146,198)"
           ],
           [
            0.75,
            "rgb(33,113,181)"
           ],
           [
            0.875,
            "rgb(8,81,156)"
           ],
           [
            1,
            "rgb(8,48,107)"
           ]
          ]
         },
         "name": "Day 0",
         "orientation": "h",
         "text": [
          73.1,
          56.96,
          66.12,
          63.33,
          59.08,
          58.27,
          66.37,
          81.92,
          85.71,
          81.01,
          82.18,
          84.98,
          90.42,
          94.47,
          98.74
         ],
         "textfont": {
          "color": "white"
         },
         "textposition": "inside",
         "type": "bar",
         "x": [
          73.1,
          56.96,
          66.12,
          63.33,
          59.08,
          58.27,
          66.37,
          81.92,
          85.71,
          81.01,
          82.18,
          84.98,
          90.42,
          94.47,
          98.74
         ],
         "xaxis": "x",
         "y": [
          "Jul 25, 2022",
          "Aug 01, 2022",
          "Aug 08, 2022",
          "Aug 15, 2022",
          "Aug 22, 2022",
          "Aug 29, 2022",
          "Sep 05, 2022",
          "Sep 12, 2022",
          "Sep 19, 2022",
          "Sep 26, 2022",
          "Oct 03, 2022",
          "Oct 10, 2022",
          "Oct 17, 2022",
          "Oct 24, 2022",
          "Oct 31, 2022"
         ],
         "yaxis": "y"
        },
        {
         "marker": {
          "cmax": 114.11,
          "cmin": 0,
          "color": [
           111.32,
           81.03,
           85.09,
           87.31,
           85.75,
           76.9,
           114.11,
           113.63,
           112.92,
           107.47
          ],
          "colorscale": [
           [
            0,
            "rgb(255,245,240)"
           ],
           [
            0.125,
            "rgb(254,224,210)"
           ],
           [
            0.25,
            "rgb(252,187,161)"
           ],
           [
            0.375,
            "rgb(252,146,114)"
           ],
           [
            0.5,
            "rgb(251,106,74)"
           ],
           [
            0.625,
            "rgb(239,59,44)"
           ],
           [
            0.75,
            "rgb(203,24,29)"
           ],
           [
            0.875,
            "rgb(165,15,21)"
           ],
           [
            1,
            "rgb(103,0,13)"
           ]
          ]
         },
         "name": "Day 30",
         "orientation": "h",
         "showlegend": false,
         "text": [
          111.32,
          81.03,
          85.09,
          87.31,
          85.75,
          76.9,
          114.11,
          113.63,
          112.92,
          107.47
         ],
         "textfont": {
          "color": "white"
         },
         "textposition": "inside",
         "type": "bar",
         "x": [
          111.32,
          81.03,
          85.09,
          87.31,
          85.75,
          76.9,
          114.11,
          113.63,
          112.92,
          107.47
         ],
         "xaxis": "x2",
         "y": [
          "Jul 25, 2022",
          "Aug 01, 2022",
          "Aug 08, 2022",
          "Aug 15, 2022",
          "Aug 22, 2022",
          "Aug 29, 2022",
          "Sep 05, 2022",
          "Sep 12, 2022",
          "Sep 19, 2022",
          "Sep 26, 2022"
         ],
         "yaxis": "y2"
        },
        {
         "marker": {
          "cmax": 122.39,
          "cmin": 0,
          "color": [
           122.39,
           95.24,
           95.62,
           99.46,
           99.22,
           88.95
          ],
          "colorscale": [
           [
            0,
            "rgb(247,252,245)"
           ],
           [
            0.125,
            "rgb(229,245,224)"
           ],
           [
            0.25,
            "rgb(199,233,192)"
           ],
           [
            0.375,
            "rgb(161,217,155)"
           ],
           [
            0.5,
            "rgb(116,196,118)"
           ],
           [
            0.625,
            "rgb(65,171,93)"
           ],
           [
            0.75,
            "rgb(35,139,69)"
           ],
           [
            0.875,
            "rgb(0,109,44)"
           ],
           [
            1,
            "rgb(0,68,27)"
           ]
          ]
         },
         "name": "Day 60",
         "orientation": "h",
         "showlegend": false,
         "text": [
          122.39,
          95.24,
          95.62,
          99.46,
          99.22,
          88.95
         ],
         "textfont": {
          "color": "white"
         },
         "textposition": "inside",
         "type": "bar",
         "x": [
          122.39,
          95.24,
          95.62,
          99.46,
          99.22,
          88.95
         ],
         "xaxis": "x3",
         "y": [
          "Jul 25, 2022",
          "Aug 01, 2022",
          "Aug 08, 2022",
          "Aug 15, 2022",
          "Aug 22, 2022",
          "Aug 29, 2022"
         ],
         "yaxis": "y3"
        }
       ],
       "layout": {
        "annotations": [
         {
          "font": {
           "size": 16
          },
          "showarrow": false,
          "text": "ARPPU at Day 0 of Cohort Life",
          "x": 0.15666666666666665,
          "xanchor": "center",
          "xref": "paper",
          "y": 1,
          "yanchor": "bottom",
          "yref": "paper"
         },
         {
          "font": {
           "size": 16
          },
          "showarrow": false,
          "text": "ARPPU at Day 30 of Cohort Life",
          "x": 0.4999999999999999,
          "xanchor": "center",
          "xref": "paper",
          "y": 1,
          "yanchor": "bottom",
          "yref": "paper"
         },
         {
          "font": {
           "size": 16
          },
          "showarrow": false,
          "text": "ARPPU at Day 60 of Cohort Life",
          "x": 0.8433333333333332,
          "xanchor": "center",
          "xref": "paper",
          "y": 1,
          "yanchor": "bottom",
          "yref": "paper"
         }
        ],
        "bargap": 0.1,
        "coloraxis": {
         "showscale": false
        },
        "height": 450,
        "template": {
         "data": {
          "bar": [
           {
            "error_x": {
             "color": "#2a3f5f"
            },
            "error_y": {
             "color": "#2a3f5f"
            },
            "marker": {
             "line": {
              "color": "#E5ECF6",
              "width": 0.5
             },
             "pattern": {
              "fillmode": "overlay",
              "size": 10,
              "solidity": 0.2
             }
            },
            "type": "bar"
           }
          ],
          "barpolar": [
           {
            "marker": {
             "line": {
              "color": "#E5ECF6",
              "width": 0.5
             },
             "pattern": {
              "fillmode": "overlay",
              "size": 10,
              "solidity": 0.2
             }
            },
            "type": "barpolar"
           }
          ],
          "carpet": [
           {
            "aaxis": {
             "endlinecolor": "#2a3f5f",
             "gridcolor": "white",
             "linecolor": "white",
             "minorgridcolor": "white",
             "startlinecolor": "#2a3f5f"
            },
            "baxis": {
             "endlinecolor": "#2a3f5f",
             "gridcolor": "white",
             "linecolor": "white",
             "minorgridcolor": "white",
             "startlinecolor": "#2a3f5f"
            },
            "type": "carpet"
           }
          ],
          "choropleth": [
           {
            "colorbar": {
             "outlinewidth": 0,
             "ticks": ""
            },
            "type": "choropleth"
           }
          ],
          "contour": [
           {
            "colorbar": {
             "outlinewidth": 0,
             "ticks": ""
            },
            "colorscale": [
             [
              0,
              "#0d0887"
             ],
             [
              0.1111111111111111,
              "#46039f"
             ],
             [
              0.2222222222222222,
              "#7201a8"
             ],
             [
              0.3333333333333333,
              "#9c179e"
             ],
             [
              0.4444444444444444,
              "#bd3786"
             ],
             [
              0.5555555555555556,
              "#d8576b"
             ],
             [
              0.6666666666666666,
              "#ed7953"
             ],
             [
              0.7777777777777778,
              "#fb9f3a"
             ],
             [
              0.8888888888888888,
              "#fdca26"
             ],
             [
              1,
              "#f0f921"
             ]
            ],
            "type": "contour"
           }
          ],
          "contourcarpet": [
           {
            "colorbar": {
             "outlinewidth": 0,
             "ticks": ""
            },
            "type": "contourcarpet"
           }
          ],
          "heatmap": [
           {
            "colorbar": {
             "outlinewidth": 0,
             "ticks": ""
            },
            "colorscale": [
             [
              0,
              "#0d0887"
             ],
             [
              0.1111111111111111,
              "#46039f"
             ],
             [
              0.2222222222222222,
              "#7201a8"
             ],
             [
              0.3333333333333333,
              "#9c179e"
             ],
             [
              0.4444444444444444,
              "#bd3786"
             ],
             [
              0.5555555555555556,
              "#d8576b"
             ],
             [
              0.6666666666666666,
              "#ed7953"
             ],
             [
              0.7777777777777778,
              "#fb9f3a"
             ],
             [
              0.8888888888888888,
              "#fdca26"
             ],
             [
              1,
              "#f0f921"
             ]
            ],
            "type": "heatmap"
           }
          ],
          "heatmapgl": [
           {
            "colorbar": {
             "outlinewidth": 0,
             "ticks": ""
            },
            "colorscale": [
             [
              0,
              "#0d0887"
             ],
             [
              0.1111111111111111,
              "#46039f"
             ],
             [
              0.2222222222222222,
              "#7201a8"
             ],
             [
              0.3333333333333333,
              "#9c179e"
             ],
             [
              0.4444444444444444,
              "#bd3786"
             ],
             [
              0.5555555555555556,
              "#d8576b"
             ],
             [
              0.6666666666666666,
              "#ed7953"
             ],
             [
              0.7777777777777778,
              "#fb9f3a"
             ],
             [
              0.8888888888888888,
              "#fdca26"
             ],
             [
              1,
              "#f0f921"
             ]
            ],
            "type": "heatmapgl"
           }
          ],
          "histogram": [
           {
            "marker": {
             "pattern": {
              "fillmode": "overlay",
              "size": 10,
              "solidity": 0.2
             }
            },
            "type": "histogram"
           }
          ],
          "histogram2d": [
           {
            "colorbar": {
             "outlinewidth": 0,
             "ticks": ""
            },
            "colorscale": [
             [
              0,
              "#0d0887"
             ],
             [
              0.1111111111111111,
              "#46039f"
             ],
             [
              0.2222222222222222,
              "#7201a8"
             ],
             [
              0.3333333333333333,
              "#9c179e"
             ],
             [
              0.4444444444444444,
              "#bd3786"
             ],
             [
              0.5555555555555556,
              "#d8576b"
             ],
             [
              0.6666666666666666,
              "#ed7953"
             ],
             [
              0.7777777777777778,
              "#fb9f3a"
             ],
             [
              0.8888888888888888,
              "#fdca26"
             ],
             [
              1,
              "#f0f921"
             ]
            ],
            "type": "histogram2d"
           }
          ],
          "histogram2dcontour": [
           {
            "colorbar": {
             "outlinewidth": 0,
             "ticks": ""
            },
            "colorscale": [
             [
              0,
              "#0d0887"
             ],
             [
              0.1111111111111111,
              "#46039f"
             ],
             [
              0.2222222222222222,
              "#7201a8"
             ],
             [
              0.3333333333333333,
              "#9c179e"
             ],
             [
              0.4444444444444444,
              "#bd3786"
             ],
             [
              0.5555555555555556,
              "#d8576b"
             ],
             [
              0.6666666666666666,
              "#ed7953"
             ],
             [
              0.7777777777777778,
              "#fb9f3a"
             ],
             [
              0.8888888888888888,
              "#fdca26"
             ],
             [
              1,
              "#f0f921"
             ]
            ],
            "type": "histogram2dcontour"
           }
          ],
          "mesh3d": [
           {
            "colorbar": {
             "outlinewidth": 0,
             "ticks": ""
            },
            "type": "mesh3d"
           }
          ],
          "parcoords": [
           {
            "line": {
             "colorbar": {
              "outlinewidth": 0,
              "ticks": ""
             }
            },
            "type": "parcoords"
           }
          ],
          "pie": [
           {
            "automargin": true,
            "type": "pie"
           }
          ],
          "scatter": [
           {
            "fillpattern": {
             "fillmode": "overlay",
             "size": 10,
             "solidity": 0.2
            },
            "type": "scatter"
           }
          ],
          "scatter3d": [
           {
            "line": {
             "colorbar": {
              "outlinewidth": 0,
              "ticks": ""
             }
            },
            "marker": {
             "colorbar": {
              "outlinewidth": 0,
              "ticks": ""
             }
            },
            "type": "scatter3d"
           }
          ],
          "scattercarpet": [
           {
            "marker": {
             "colorbar": {
              "outlinewidth": 0,
              "ticks": ""
             }
            },
            "type": "scattercarpet"
           }
          ],
          "scattergeo": [
           {
            "marker": {
             "colorbar": {
              "outlinewidth": 0,
              "ticks": ""
             }
            },
            "type": "scattergeo"
           }
          ],
          "scattergl": [
           {
            "marker": {
             "colorbar": {
              "outlinewidth": 0,
              "ticks": ""
             }
            },
            "type": "scattergl"
           }
          ],
          "scattermapbox": [
           {
            "marker": {
             "colorbar": {
              "outlinewidth": 0,
              "ticks": ""
             }
            },
            "type": "scattermapbox"
           }
          ],
          "scatterpolar": [
           {
            "marker": {
             "colorbar": {
              "outlinewidth": 0,
              "ticks": ""
             }
            },
            "type": "scatterpolar"
           }
          ],
          "scatterpolargl": [
           {
            "marker": {
             "colorbar": {
              "outlinewidth": 0,
              "ticks": ""
             }
            },
            "type": "scatterpolargl"
           }
          ],
          "scatterternary": [
           {
            "marker": {
             "colorbar": {
              "outlinewidth": 0,
              "ticks": ""
             }
            },
            "type": "scatterternary"
           }
          ],
          "surface": [
           {
            "colorbar": {
             "outlinewidth": 0,
             "ticks": ""
            },
            "colorscale": [
             [
              0,
              "#0d0887"
             ],
             [
              0.1111111111111111,
              "#46039f"
             ],
             [
              0.2222222222222222,
              "#7201a8"
             ],
             [
              0.3333333333333333,
              "#9c179e"
             ],
             [
              0.4444444444444444,
              "#bd3786"
             ],
             [
              0.5555555555555556,
              "#d8576b"
             ],
             [
              0.6666666666666666,
              "#ed7953"
             ],
             [
              0.7777777777777778,
              "#fb9f3a"
             ],
             [
              0.8888888888888888,
              "#fdca26"
             ],
             [
              1,
              "#f0f921"
             ]
            ],
            "type": "surface"
           }
          ],
          "table": [
           {
            "cells": {
             "fill": {
              "color": "#EBF0F8"
             },
             "line": {
              "color": "white"
             }
            },
            "header": {
             "fill": {
              "color": "#C8D4E3"
             },
             "line": {
              "color": "white"
             }
            },
            "type": "table"
           }
          ]
         },
         "layout": {
          "annotationdefaults": {
           "arrowcolor": "#2a3f5f",
           "arrowhead": 0,
           "arrowwidth": 1
          },
          "autotypenumbers": "strict",
          "coloraxis": {
           "colorbar": {
            "outlinewidth": 0,
            "ticks": ""
           }
          },
          "colorscale": {
           "diverging": [
            [
             0,
             "#8e0152"
            ],
            [
             0.1,
             "#c51b7d"
            ],
            [
             0.2,
             "#de77ae"
            ],
            [
             0.3,
             "#f1b6da"
            ],
            [
             0.4,
             "#fde0ef"
            ],
            [
             0.5,
             "#f7f7f7"
            ],
            [
             0.6,
             "#e6f5d0"
            ],
            [
             0.7,
             "#b8e186"
            ],
            [
             0.8,
             "#7fbc41"
            ],
            [
             0.9,
             "#4d9221"
            ],
            [
             1,
             "#276419"
            ]
           ],
           "sequential": [
            [
             0,
             "#0d0887"
            ],
            [
             0.1111111111111111,
             "#46039f"
            ],
            [
             0.2222222222222222,
             "#7201a8"
            ],
            [
             0.3333333333333333,
             "#9c179e"
            ],
            [
             0.4444444444444444,
             "#bd3786"
            ],
            [
             0.5555555555555556,
             "#d8576b"
            ],
            [
             0.6666666666666666,
             "#ed7953"
            ],
            [
             0.7777777777777778,
             "#fb9f3a"
            ],
            [
             0.8888888888888888,
             "#fdca26"
            ],
            [
             1,
             "#f0f921"
            ]
           ],
           "sequentialminus": [
            [
             0,
             "#0d0887"
            ],
            [
             0.1111111111111111,
             "#46039f"
            ],
            [
             0.2222222222222222,
             "#7201a8"
            ],
            [
             0.3333333333333333,
             "#9c179e"
            ],
            [
             0.4444444444444444,
             "#bd3786"
            ],
            [
             0.5555555555555556,
             "#d8576b"
            ],
            [
             0.6666666666666666,
             "#ed7953"
            ],
            [
             0.7777777777777778,
             "#fb9f3a"
            ],
            [
             0.8888888888888888,
             "#fdca26"
            ],
            [
             1,
             "#f0f921"
            ]
           ]
          },
          "colorway": [
           "#636efa",
           "#EF553B",
           "#00cc96",
           "#ab63fa",
           "#FFA15A",
           "#19d3f3",
           "#FF6692",
           "#B6E880",
           "#FF97FF",
           "#FECB52"
          ],
          "font": {
           "color": "#2a3f5f"
          },
          "geo": {
           "bgcolor": "white",
           "lakecolor": "white",
           "landcolor": "#E5ECF6",
           "showlakes": true,
           "showland": true,
           "subunitcolor": "white"
          },
          "hoverlabel": {
           "align": "left"
          },
          "hovermode": "closest",
          "mapbox": {
           "style": "light"
          },
          "paper_bgcolor": "white",
          "plot_bgcolor": "#E5ECF6",
          "polar": {
           "angularaxis": {
            "gridcolor": "white",
            "linecolor": "white",
            "ticks": ""
           },
           "bgcolor": "#E5ECF6",
           "radialaxis": {
            "gridcolor": "white",
            "linecolor": "white",
            "ticks": ""
           }
          },
          "scene": {
           "xaxis": {
            "backgroundcolor": "#E5ECF6",
            "gridcolor": "white",
            "gridwidth": 2,
            "linecolor": "white",
            "showbackground": true,
            "ticks": "",
            "zerolinecolor": "white"
           },
           "yaxis": {
            "backgroundcolor": "#E5ECF6",
            "gridcolor": "white",
            "gridwidth": 2,
            "linecolor": "white",
            "showbackground": true,
            "ticks": "",
            "zerolinecolor": "white"
           },
           "zaxis": {
            "backgroundcolor": "#E5ECF6",
            "gridcolor": "white",
            "gridwidth": 2,
            "linecolor": "white",
            "showbackground": true,
            "ticks": "",
            "zerolinecolor": "white"
           }
          },
          "shapedefaults": {
           "line": {
            "color": "#2a3f5f"
           }
          },
          "ternary": {
           "aaxis": {
            "gridcolor": "white",
            "linecolor": "white",
            "ticks": ""
           },
           "baxis": {
            "gridcolor": "white",
            "linecolor": "white",
            "ticks": ""
           },
           "bgcolor": "#E5ECF6",
           "caxis": {
            "gridcolor": "white",
            "linecolor": "white",
            "ticks": ""
           }
          },
          "title": {
           "x": 0.05
          },
          "xaxis": {
           "automargin": true,
           "gridcolor": "white",
           "linecolor": "white",
           "ticks": "",
           "title": {
            "standoff": 15
           },
           "zerolinecolor": "white",
           "zerolinewidth": 2
          },
          "yaxis": {
           "automargin": true,
           "gridcolor": "white",
           "linecolor": "white",
           "ticks": "",
           "title": {
            "standoff": 15
           },
           "zerolinecolor": "white",
           "zerolinewidth": 2
          }
         }
        },
        "title": {
         "text": "ARPPU for Day 0, Day 30, and Day 60 with Text Inside Bars"
        },
        "width": 1200,
        "xaxis": {
         "anchor": "y",
         "autorange": true,
         "domain": [
          0,
          0.3133333333333333
         ],
         "range": [
          0,
          103.93684210526315
         ],
         "title": {
          "text": "ARPPU"
         },
         "type": "linear"
        },
        "xaxis2": {
         "anchor": "y2",
         "autorange": true,
         "domain": [
          0.34333333333333327,
          0.6566666666666665
         ],
         "range": [
          0,
          120.11578947368422
         ],
         "title": {
          "text": "ARPPU"
         },
         "type": "linear"
        },
        "xaxis3": {
         "anchor": "y3",
         "autorange": true,
         "domain": [
          0.6866666666666665,
          0.9999999999999998
         ],
         "range": [
          0,
          128.83157894736843
         ],
         "title": {
          "text": "ARPPU"
         },
         "type": "linear"
        },
        "yaxis": {
         "anchor": "x",
         "autorange": true,
         "categoryarray": [
          "Oct 31, 2022",
          "Oct 24, 2022",
          "Oct 17, 2022",
          "Oct 10, 2022",
          "Oct 03, 2022",
          "Sep 26, 2022",
          "Sep 19, 2022",
          "Sep 12, 2022",
          "Sep 05, 2022",
          "Aug 29, 2022",
          "Aug 22, 2022",
          "Aug 15, 2022",
          "Aug 08, 2022",
          "Aug 01, 2022",
          "Jul 25, 2022"
         ],
         "categoryorder": "array",
         "domain": [
          0,
          1
         ],
         "range": [
          -0.5,
          14.5
         ],
         "title": {
          "text": "Cohort Week"
         },
         "type": "category"
        },
        "yaxis2": {
         "anchor": "x2",
         "autorange": true,
         "domain": [
          0,
          1
         ],
         "matches": "y",
         "range": [
          -0.5,
          14.5
         ],
         "showticklabels": false,
         "type": "category"
        },
        "yaxis3": {
         "anchor": "x3",
         "autorange": true,
         "domain": [
          0,
          1
         ],
         "matches": "y",
         "range": [
          -0.5,
          14.5
         ],
         "showticklabels": false,
         "type": "category"
        }
       }
      },
      "image/png": "[encoded data removed]",
      "text/html": [
       "<div>                            <div id=\"4a953c93-2507-4274-9f71-7cb700db8f2e\" class=\"plotly-graph-div\" style=\"height:450px; width:1200px;\"></div>            <script type=\"text/javascript\">                require([\"plotly\"], function(Plotly) {                    window.PLOTLYENV=window.PLOTLYENV || {};                                    if (document.getElementById(\"4a953c93-2507-4274-9f71-7cb700db8f2e\")) {                    Plotly.newPlot(                        \"4a953c93-2507-4274-9f71-7cb700db8f2e\",                        [{\"marker\":{\"cmax\":98.74,\"cmin\":0,\"color\":[73.1,56.96,66.12,63.33,59.08,58.27,66.37,81.92,85.71,81.01,82.18,84.98,90.42,94.47,98.74],\"colorscale\":[[0.0,\"rgb(247,251,255)\"],[0.125,\"rgb(222,235,247)\"],[0.25,\"rgb(198,219,239)\"],[0.375,\"rgb(158,202,225)\"],[0.5,\"rgb(107,174,214)\"],[0.625,\"rgb(66,146,198)\"],[0.75,\"rgb(33,113,181)\"],[0.875,\"rgb(8,81,156)\"],[1.0,\"rgb(8,48,107)\"]]},\"name\":\"Day 0\",\"orientation\":\"h\",\"text\":[73.1,56.96,66.12,63.33,59.08,58.27,66.37,81.92,85.71,81.01,82.18,84.98,90.42,94.47,98.74],\"textfont\":{\"color\":\"white\"},\"textposition\":\"inside\",\"x\":[73.1,56.96,66.12,63.33,59.08,58.27,66.37,81.92,85.71,81.01,82.18,84.98,90.42,94.47,98.74],\"y\":[\"Jul 25, 2022\",\"Aug 01, 2022\",\"Aug 08, 2022\",\"Aug 15, 2022\",\"Aug 22, 2022\",\"Aug 29, 2022\",\"Sep 05, 2022\",\"Sep 12, 2022\",\"Sep 19, 2022\",\"Sep 26, 2022\",\"Oct 03, 2022\",\"Oct 10, 2022\",\"Oct 17, 2022\",\"Oct 24, 2022\",\"Oct 31, 2022\"],\"type\":\"bar\",\"xaxis\":\"x\",\"yaxis\":\"y\"},{\"marker\":{\"cmax\":114.11,\"cmin\":0,\"color\":[111.32,81.03,85.09,87.31,85.75,76.9,114.11,113.63,112.92,107.47],\"colorscale\":[[0.0,\"rgb(255,245,240)\"],[0.125,\"rgb(254,224,210)\"],[0.25,\"rgb(252,187,161)\"],[0.375,\"rgb(252,146,114)\"],[0.5,\"rgb(251,106,74)\"],[0.625,\"rgb(239,59,44)\"],[0.75,\"rgb(203,24,29)\"],[0.875,\"rgb(165,15,21)\"],[1.0,\"rgb(103,0,13)\"]]},\"name\":\"Day 30\",\"orientation\":\"h\",\"showlegend\":false,\"text\":[111.32,81.03,85.09,87.31,85.75,76.9,114.11,113.63,112.92,107.47],\"textfont\":{\"color\":\"white\"},\"textposition\":\"inside\",\"x\":[111.32,81.03,85.09,87.31,85.75,76.9,114.11,113.63,112.92,107.47],\"y\":[\"Jul 25, 2022\",\"Aug 01, 2022\",\"Aug 08, 2022\",\"Aug 15, 2022\",\"Aug 22, 2022\",\"Aug 29, 2022\",\"Sep 05, 2022\",\"Sep 12, 2022\",\"Sep 19, 2022\",\"Sep 26, 2022\"],\"type\":\"bar\",\"xaxis\":\"x2\",\"yaxis\":\"y2\"},{\"marker\":{\"cmax\":122.39,\"cmin\":0,\"color\":[122.39,95.24,95.62,99.46,99.22,88.95],\"colorscale\":[[0.0,\"rgb(247,252,245)\"],[0.125,\"rgb(229,245,224)\"],[0.25,\"rgb(199,233,192)\"],[0.375,\"rgb(161,217,155)\"],[0.5,\"rgb(116,196,118)\"],[0.625,\"rgb(65,171,93)\"],[0.75,\"rgb(35,139,69)\"],[0.875,\"rgb(0,109,44)\"],[1.0,\"rgb(0,68,27)\"]]},\"name\":\"Day 60\",\"orientation\":\"h\",\"showlegend\":false,\"text\":[122.39,95.24,95.62,99.46,99.22,88.95],\"textfont\":{\"color\":\"white\"},\"textposition\":\"inside\",\"x\":[122.39,95.24,95.62,99.46,99.22,88.95],\"y\":[\"Jul 25, 2022\",\"Aug 01, 2022\",\"Aug 08, 2022\",\"Aug 15, 2022\",\"Aug 22, 2022\",\"Aug 29, 2022\"],\"type\":\"bar\",\"xaxis\":\"x3\",\"yaxis\":\"y3\"}],                        {\"template\":{\"data\":{\"histogram2dcontour\":[{\"type\":\"histogram2dcontour\",\"colorbar\":{\"outlinewidth\":0,\"ticks\":\"\"},\"colorscale\":[[0.0,\"#0d0887\"],[0.1111111111111111,\"#46039f\"],[0.2222222222222222,\"#7201a8\"],[0.3333333333333333,\"#9c179e\"],[0.4444444444444444,\"#bd3786\"],[0.5555555555555556,\"#d8576b\"],[0.6666666666666666,\"#ed7953\"],[0.7777777777777778,\"#fb9f3a\"],[0.8888888888888888,\"#fdca26\"],[1.0,\"#f0f921\"]]}],\"choropleth\":[{\"type\":\"choropleth\",\"colorbar\":{\"outlinewidth\":0,\"ticks\":\"\"}}],\"histogram2d\":[{\"type\":\"histogram2d\",\"colorbar\":{\"outlinewidth\":0,\"ticks\":\"\"},\"colorscale\":[[0.0,\"#0d0887\"],[0.1111111111111111,\"#46039f\"],[0.2222222222222222,\"#7201a8\"],[0.3333333333333333,\"#9c179e\"],[0.4444444444444444,\"#bd3786\"],[0.5555555555555556,\"#d8576b\"],[0.6666666666666666,\"#ed7953\"],[0.7777777777777778,\"#fb9f3a\"],[0.8888888888888888,\"#fdca26\"],[1.0,\"#f0f921\"]]}],\"heatmap\":[{\"type\":\"heatmap\",\"colorbar\":{\"outlinewidth\":0,\"ticks\":\"\"},\"colorscale\":[[0.0,\"#0d0887\"],[0.1111111111111111,\"#46039f\"],[0.2222222222222222,\"#7201a8\"],[0.3333333333333333,\"#9c179e\"],[0.4444444444444444,\"#bd3786\"],[0.5555555555555556,\"#d8576b\"],[0.6666666666666666,\"#ed7953\"],[0.7777777777777778,\"#fb9f3a\"],[0.8888888888888888,\"#fdca26\"],[1.0,\"#f0f921\"]]}],\"heatmapgl\":[{\"type\":\"heatmapgl\",\"colorbar\":{\"outlinewidth\":0,\"ticks\":\"\"},\"colorscale\":[[0.0,\"#0d0887\"],[0.1111111111111111,\"#46039f\"],[0.2222222222222222,\"#7201a8\"],[0.3333333333333333,\"#9c179e\"],[0.4444444444444444,\"#bd3786\"],[0.5555555555555556,\"#d8576b\"],[0.6666666666666666,\"#ed7953\"],[0.7777777777777778,\"#fb9f3a\"],[0.8888888888888888,\"#fdca26\"],[1.0,\"#f0f921\"]]}],\"contourcarpet\":[{\"type\":\"contourcarpet\",\"colorbar\":{\"outlinewidth\":0,\"ticks\":\"\"}}],\"contour\":[{\"type\":\"contour\",\"colorbar\":{\"outlinewidth\":0,\"ticks\":\"\"},\"colorscale\":[[0.0,\"#0d0887\"],[0.1111111111111111,\"#46039f\"],[0.2222222222222222,\"#7201a8\"],[0.3333333333333333,\"#9c179e\"],[0.4444444444444444,\"#bd3786\"],[0.5555555555555556,\"#d8576b\"],[0.6666666666666666,\"#ed7953\"],[0.7777777777777778,\"#fb9f3a\"],[0.8888888888888888,\"#fdca26\"],[1.0,\"#f0f921\"]]}],\"surface\":[{\"type\":\"surface\",\"colorbar\":{\"outlinewidth\":0,\"ticks\":\"\"},\"colorscale\":[[0.0,\"#0d0887\"],[0.1111111111111111,\"#46039f\"],[0.2222222222222222,\"#7201a8\"],[0.3333333333333333,\"#9c179e\"],[0.4444444444444444,\"#bd3786\"],[0.5555555555555556,\"#d8576b\"],[0.6666666666666666,\"#ed7953\"],[0.7777777777777778,\"#fb9f3a\"],[0.8888888888888888,\"#fdca26\"],[1.0,\"#f0f921\"]]}],\"mesh3d\":[{\"type\":\"mesh3d\",\"colorbar\":{\"outlinewidth\":0,\"ticks\":\"\"}}],\"scatter\":[{\"fillpattern\":{\"fillmode\":\"overlay\",\"size\":10,\"solidity\":0.2},\"type\":\"scatter\"}],\"parcoords\":[{\"type\":\"parcoords\",\"line\":{\"colorbar\":{\"outlinewidth\":0,\"ticks\":\"\"}}}],\"scatterpolargl\":[{\"type\":\"scatterpolargl\",\"marker\":{\"colorbar\":{\"outlinewidth\":0,\"ticks\":\"\"}}}],\"bar\":[{\"error_x\":{\"color\":\"#2a3f5f\"},\"error_y\":{\"color\":\"#2a3f5f\"},\"marker\":{\"line\":{\"color\":\"#E5ECF6\",\"width\":0.5},\"pattern\":{\"fillmode\":\"overlay\",\"size\":10,\"solidity\":0.2}},\"type\":\"bar\"}],\"scattergeo\":[{\"type\":\"scattergeo\",\"marker\":{\"colorbar\":{\"outlinewidth\":0,\"ticks\":\"\"}}}],\"scatterpolar\":[{\"type\":\"scatterpolar\",\"marker\":{\"colorbar\":{\"outlinewidth\":0,\"ticks\":\"\"}}}],\"histogram\":[{\"marker\":{\"pattern\":{\"fillmode\":\"overlay\",\"size\":10,\"solidity\":0.2}},\"type\":\"histogram\"}],\"scattergl\":[{\"type\":\"scattergl\",\"marker\":{\"colorbar\":{\"outlinewidth\":0,\"ticks\":\"\"}}}],\"scatter3d\":[{\"type\":\"scatter3d\",\"line\":{\"colorbar\":{\"outlinewidth\":0,\"ticks\":\"\"}},\"marker\":{\"colorbar\":{\"outlinewidth\":0,\"ticks\":\"\"}}}],\"scattermapbox\":[{\"type\":\"scattermapbox\",\"marker\":{\"colorbar\":{\"outlinewidth\":0,\"ticks\":\"\"}}}],\"scatterternary\":[{\"type\":\"scatterternary\",\"marker\":{\"colorbar\":{\"outlinewidth\":0,\"ticks\":\"\"}}}],\"scattercarpet\":[{\"type\":\"scattercarpet\",\"marker\":{\"colorbar\":{\"outlinewidth\":0,\"ticks\":\"\"}}}],\"carpet\":[{\"aaxis\":{\"endlinecolor\":\"#2a3f5f\",\"gridcolor\":\"white\",\"linecolor\":\"white\",\"minorgridcolor\":\"white\",\"startlinecolor\":\"#2a3f5f\"},\"baxis\":{\"endlinecolor\":\"#2a3f5f\",\"gridcolor\":\"white\",\"linecolor\":\"white\",\"minorgridcolor\":\"white\",\"startlinecolor\":\"#2a3f5f\"},\"type\":\"carpet\"}],\"table\":[{\"cells\":{\"fill\":{\"color\":\"#EBF0F8\"},\"line\":{\"color\":\"white\"}},\"header\":{\"fill\":{\"color\":\"#C8D4E3\"},\"line\":{\"color\":\"white\"}},\"type\":\"table\"}],\"barpolar\":[{\"marker\":{\"line\":{\"color\":\"#E5ECF6\",\"width\":0.5},\"pattern\":{\"fillmode\":\"overlay\",\"size\":10,\"solidity\":0.2}},\"type\":\"barpolar\"}],\"pie\":[{\"automargin\":true,\"type\":\"pie\"}]},\"layout\":{\"autotypenumbers\":\"strict\",\"colorway\":[\"#636efa\",\"#EF553B\",\"#00cc96\",\"#ab63fa\",\"#FFA15A\",\"#19d3f3\",\"#FF6692\",\"#B6E880\",\"#FF97FF\",\"#FECB52\"],\"font\":{\"color\":\"#2a3f5f\"},\"hovermode\":\"closest\",\"hoverlabel\":{\"align\":\"left\"},\"paper_bgcolor\":\"white\",\"plot_bgcolor\":\"#E5ECF6\",\"polar\":{\"bgcolor\":\"#E5ECF6\",\"angularaxis\":{\"gridcolor\":\"white\",\"linecolor\":\"white\",\"ticks\":\"\"},\"radialaxis\":{\"gridcolor\":\"white\",\"linecolor\":\"white\",\"ticks\":\"\"}},\"ternary\":{\"bgcolor\":\"#E5ECF6\",\"aaxis\":{\"gridcolor\":\"white\",\"linecolor\":\"white\",\"ticks\":\"\"},\"baxis\":{\"gridcolor\":\"white\",\"linecolor\":\"white\",\"ticks\":\"\"},\"caxis\":{\"gridcolor\":\"white\",\"linecolor\":\"white\",\"ticks\":\"\"}},\"coloraxis\":{\"colorbar\":{\"outlinewidth\":0,\"ticks\":\"\"}},\"colorscale\":{\"sequential\":[[0.0,\"#0d0887\"],[0.1111111111111111,\"#46039f\"],[0.2222222222222222,\"#7201a8\"],[0.3333333333333333,\"#9c179e\"],[0.4444444444444444,\"#bd3786\"],[0.5555555555555556,\"#d8576b\"],[0.6666666666666666,\"#ed7953\"],[0.7777777777777778,\"#fb9f3a\"],[0.8888888888888888,\"#fdca26\"],[1.0,\"#f0f921\"]],\"sequentialminus\":[[0.0,\"#0d0887\"],[0.1111111111111111,\"#46039f\"],[0.2222222222222222,\"#7201a8\"],[0.3333333333333333,\"#9c179e\"],[0.4444444444444444,\"#bd3786\"],[0.5555555555555556,\"#d8576b\"],[0.6666666666666666,\"#ed7953\"],[0.7777777777777778,\"#fb9f3a\"],[0.8888888888888888,\"#fdca26\"],[1.0,\"#f0f921\"]],\"diverging\":[[0,\"#8e0152\"],[0.1,\"#c51b7d\"],[0.2,\"#de77ae\"],[0.3,\"#f1b6da\"],[0.4,\"#fde0ef\"],[0.5,\"#f7f7f7\"],[0.6,\"#e6f5d0\"],[0.7,\"#b8e186\"],[0.8,\"#7fbc41\"],[0.9,\"#4d9221\"],[1,\"#276419\"]]},\"xaxis\":{\"gridcolor\":\"white\",\"linecolor\":\"white\",\"ticks\":\"\",\"title\":{\"standoff\":15},\"zerolinecolor\":\"white\",\"automargin\":true,\"zerolinewidth\":2},\"yaxis\":{\"gridcolor\":\"white\",\"linecolor\":\"white\",\"ticks\":\"\",\"title\":{\"standoff\":15},\"zerolinecolor\":\"white\",\"automargin\":true,\"zerolinewidth\":2},\"scene\":{\"xaxis\":{\"backgroundcolor\":\"#E5ECF6\",\"gridcolor\":\"white\",\"linecolor\":\"white\",\"showbackground\":true,\"ticks\":\"\",\"zerolinecolor\":\"white\",\"gridwidth\":2},\"yaxis\":{\"backgroundcolor\":\"#E5ECF6\",\"gridcolor\":\"white\",\"linecolor\":\"white\",\"showbackground\":true,\"ticks\":\"\",\"zerolinecolor\":\"white\",\"gridwidth\":2},\"zaxis\":{\"backgroundcolor\":\"#E5ECF6\",\"gridcolor\":\"white\",\"linecolor\":\"white\",\"showbackground\":true,\"ticks\":\"\",\"zerolinecolor\":\"white\",\"gridwidth\":2}},\"shapedefaults\":{\"line\":{\"color\":\"#2a3f5f\"}},\"annotationdefaults\":{\"arrowcolor\":\"#2a3f5f\",\"arrowhead\":0,\"arrowwidth\":1},\"geo\":{\"bgcolor\":\"white\",\"landcolor\":\"#E5ECF6\",\"subunitcolor\":\"white\",\"showland\":true,\"showlakes\":true,\"lakecolor\":\"white\"},\"title\":{\"x\":0.05},\"mapbox\":{\"style\":\"light\"}}},\"xaxis\":{\"anchor\":\"y\",\"domain\":[0.0,0.3133333333333333],\"title\":{\"text\":\"ARPPU\"}},\"yaxis\":{\"anchor\":\"x\",\"domain\":[0.0,1.0],\"title\":{\"text\":\"Cohort Week\"},\"categoryorder\":\"array\",\"categoryarray\":[\"Oct 31, 2022\",\"Oct 24, 2022\",\"Oct 17, 2022\",\"Oct 10, 2022\",\"Oct 03, 2022\",\"Sep 26, 2022\",\"Sep 19, 2022\",\"Sep 12, 2022\",\"Sep 05, 2022\",\"Aug 29, 2022\",\"Aug 22, 2022\",\"Aug 15, 2022\",\"Aug 08, 2022\",\"Aug 01, 2022\",\"Jul 25, 2022\"]},\"xaxis2\":{\"anchor\":\"y2\",\"domain\":[0.34333333333333327,0.6566666666666665],\"title\":{\"text\":\"ARPPU\"}},\"yaxis2\":{\"anchor\":\"x2\",\"domain\":[0.0,1.0],\"matches\":\"y\",\"showticklabels\":false},\"xaxis3\":{\"anchor\":\"y3\",\"domain\":[0.6866666666666665,0.9999999999999998],\"title\":{\"text\":\"ARPPU\"}},\"yaxis3\":{\"anchor\":\"x3\",\"domain\":[0.0,1.0],\"matches\":\"y\",\"showticklabels\":false},\"annotations\":[{\"font\":{\"size\":16},\"showarrow\":false,\"text\":\"ARPPU at Day 0 of Cohort Life\",\"x\":0.15666666666666665,\"xanchor\":\"center\",\"xref\":\"paper\",\"y\":1.0,\"yanchor\":\"bottom\",\"yref\":\"paper\"},{\"font\":{\"size\":16},\"showarrow\":false,\"text\":\"ARPPU at Day 30 of Cohort Life\",\"x\":0.4999999999999999,\"xanchor\":\"center\",\"xref\":\"paper\",\"y\":1.0,\"yanchor\":\"bottom\",\"yref\":\"paper\"},{\"font\":{\"size\":16},\"showarrow\":false,\"text\":\"ARPPU at Day 60 of Cohort Life\",\"x\":0.8433333333333332,\"xanchor\":\"center\",\"xref\":\"paper\",\"y\":1.0,\"yanchor\":\"bottom\",\"yref\":\"paper\"}],\"title\":{\"text\":\"ARPPU for Day 0, Day 30, and Day 60 with Text Inside Bars\"},\"coloraxis\":{\"showscale\":false},\"height\":450,\"width\":1200,\"bargap\":0.1},                        {\"responsive\": true}                    ).then(function(){\n",
       "                            \n",
       "var gd = document.getElementById('4a953c93-2507-4274-9f71-7cb700db8f2e');\n",
       "var x = new MutationObserver(function (mutations, observer) {{\n",
       "        var display = window.getComputedStyle(gd).display;\n",
       "        if (!display || display === 'none') {{\n",
       "            console.log([gd, 'removed!']);\n",
       "            Plotly.purge(gd);\n",
       "            observer.disconnect();\n",
       "        }}\n",
       "}});\n",
       "\n",
       "// Listen for the removal of the full notebook cells\n",
       "var notebookContainer = gd.closest('#notebook-container');\n",
       "if (notebookContainer) {{\n",
       "    x.observe(notebookContainer, {childList: true});\n",
       "}}\n",
       "\n",
       "// Listen for the clearing of the current output cell\n",
       "var outputEl = gd.closest('.output');\n",
       "if (outputEl) {{\n",
       "    x.observe(outputEl, {childList: true});\n",
       "}}\n",
       "\n",
       "                        })                };                });            </script>        </div>"
      ]
     },
     "metadata": {},
     "output_type": "display_data"
    }
   ],
   "source": [
    "temp = temp.merge(temp1.groupby('cohort_week').agg(max_value_live_all_buyer_in_cohort=('days_leaving','min')).reset_index(), how='inner', on='cohort_week')\n",
    "\n",
    "temp = temp.merge(temp.groupby('user_id').agg(date_of_fisrt_transaction=('data_chunk_date','min')).reset_index(), how='inner', on='user_id')\n",
    "\n",
    "temp['diff_between_first_and_exect_trans'] = (pd.to_datetime(temp.data_chunk_date) - pd.to_datetime(temp.date_of_fisrt_transaction)).dt.days\n",
    "\n",
    "result = pd.DataFrame()\n",
    "for i in [0,30,60]:\n",
    "    temporary = temp.copy()\n",
    "    temporary = temporary.merge(temporary.groupby('cohort_week').agg(\n",
    "            max_days_for_this_cohort=('max_value_live_all_buyer_in_cohort','min')).reset_index(),\n",
    "            how='inner', on='cohort_week')\n",
    "    temporary = temporary[temporary.max_days_for_this_cohort>= i]\n",
    "    temporary = temporary[temporary['diff_between_first_and_exect_trans'] <=i].groupby('cohort_week').agg(buyers=('user_id','nunique'),\n",
    "                                                                               revenue=('amount', 'sum')).reset_index()\n",
    "\n",
    "\n",
    "    temporary['ARPPU'] = round(temporary.revenue/temporary.buyers,2)\n",
    "\n",
    "    temporary['day'] = i\n",
    "\n",
    "    \n",
    "    result = pd.concat([result, temporary])\n",
    "\n",
    "import plotly.graph_objects as go\n",
    "from plotly.subplots import make_subplots\n",
    "\n",
    "# Фільтрація для day = 0, day = 30 і day = 60\n",
    "temp_day_0 = result[result['day'] == 0][['cohort_week', 'buyers', 'ARPPU']].copy()\n",
    "temp_day_30 = result[result['day'] == 30][['cohort_week', 'buyers', 'ARPPU']].copy()\n",
    "temp_day_60 = result[result['day'] == 60][['cohort_week', 'buyers', 'ARPPU']].copy()\n",
    "\n",
    "# Максимальні значення ARPPU для кожного дня\n",
    "max_arppu_0 = temp_day_0[\"ARPPU\"].max()\n",
    "max_arppu_30 = temp_day_30[\"ARPPU\"].max()\n",
    "max_arppu_60 = temp_day_60[\"ARPPU\"].max()\n",
    "\n",
    "# Перетворення cohort_week на текст із бажаним форматом\n",
    "temp_day_0[\"cohort_week\"] = temp_day_0[\"cohort_week\"].dt.strftime('%b %d, %Y')\n",
    "temp_day_30[\"cohort_week\"] = temp_day_30[\"cohort_week\"].dt.strftime('%b %d, %Y')\n",
    "temp_day_60[\"cohort_week\"] = temp_day_60[\"cohort_week\"].dt.strftime('%b %d, %Y')\n",
    "\n",
    "# Сортування cohort_week у порядку зверху вниз (хронологічно від найстарішого)\n",
    "sorted_weeks = temp_day_0[\"cohort_week\"].unique()[::-1]\n",
    "\n",
    "# Створення subplot для трьох графіків\n",
    "fig = make_subplots(\n",
    "    rows=1, cols=3, \n",
    "    subplot_titles=(\"ARPPU at Day 0 of Cohort Life\", \"ARPPU at Day 30 of Cohort Life\", \"ARPPU at Day 60 of Cohort Life\"), \n",
    "    shared_yaxes=True, horizontal_spacing=0.03\n",
    ")\n",
    "\n",
    "# Додавання графіка для day = 0\n",
    "fig.add_trace(\n",
    "    go.Bar(\n",
    "        x=temp_day_0[\"ARPPU\"],\n",
    "        y=temp_day_0[\"cohort_week\"],\n",
    "        orientation=\"h\",\n",
    "        marker=dict(color=temp_day_0[\"ARPPU\"], colorscale=\"Blues\", cmin=0, cmax=max_arppu_0),\n",
    "        name=\"Day 0\",\n",
    "        text=temp_day_0[\"ARPPU\"],\n",
    "        textposition=\"inside\",  # Текст всередині стовпця\n",
    "        textfont=dict(color=\"white\")  # Білий колір тексту\n",
    "    ),\n",
    "    row=1, col=1\n",
    ")\n",
    "\n",
    "# Додавання графіка для day = 30\n",
    "fig.add_trace(\n",
    "    go.Bar(\n",
    "        x=temp_day_30[\"ARPPU\"],\n",
    "        y=temp_day_30[\"cohort_week\"],\n",
    "        orientation=\"h\",\n",
    "        marker=dict(color=temp_day_30[\"ARPPU\"], colorscale=\"Reds\", cmin=0, cmax=max_arppu_30),\n",
    "        name=\"Day 30\",\n",
    "        text=temp_day_30[\"ARPPU\"],\n",
    "        textposition=\"inside\",  # Текст всередині стовпця\n",
    "        textfont=dict(color=\"white\"),  # Білий колір тексту\n",
    "        showlegend=False\n",
    "    ),\n",
    "    row=1, col=2\n",
    ")\n",
    "\n",
    "# Додавання графіка для day = 60\n",
    "fig.add_trace(\n",
    "    go.Bar(\n",
    "        x=temp_day_60[\"ARPPU\"],\n",
    "        y=temp_day_60[\"cohort_week\"],\n",
    "        orientation=\"h\",\n",
    "        marker=dict(color=temp_day_60[\"ARPPU\"], colorscale=\"Greens\", cmin=0, cmax=max_arppu_60),\n",
    "        name=\"Day 60\",\n",
    "        text=temp_day_60[\"ARPPU\"],\n",
    "        textposition=\"inside\",  # Текст всередині стовпця\n",
    "        textfont=dict(color=\"white\"),  # Білий колір тексту\n",
    "        showlegend=False\n",
    "    ),\n",
    "    row=1, col=3\n",
    ")\n",
    "\n",
    "# Налаштування осей і підплотів\n",
    "fig.update_layout(\n",
    "    height=450, \n",
    "    width=1200, \n",
    "    bargap=0.1,\n",
    "    title_text=\"ARPPU for Day 0, Day 30, and Day 60 with Text Inside Bars\",\n",
    "    coloraxis_showscale=False,  # Вимкнення спільної шкали кольорів\n",
    "    xaxis_title=\"ARPPU\",  # Загальний підпис осі X\n",
    "    xaxis2_title=\"ARPPU\",  # Підпис для другого графіка\n",
    "    xaxis3_title=\"ARPPU\"   # Підпис для третього графіка\n",
    ")\n",
    "\n",
    "# Сортування осі y\n",
    "fig.update_yaxes(\n",
    "    categoryorder=\"array\",\n",
    "    categoryarray=sorted_weeks,\n",
    "    title_text=\"Cohort Week\",\n",
    "    row=1, col=1\n",
    ")\n",
    "\n",
    "# Видалення назви осі Y і тікетів для інших графіків\n",
    "fig.update_yaxes(showticklabels=False, row=1, col=2)\n",
    "fig.update_yaxes(showticklabels=False, row=1, col=3)\n",
    "\n",
    "fig.show()"
   ]
  },
  {
   "cell_type": "markdown",
   "id": "017eba12-9b51-42a6-b5b4-7793619ca72c",
   "metadata": {},
   "source": [
    "## **2. Визначення прохідності платежів на покупку підписки**\n",
    "\n",
    "### **Як ми це зробимо:**\n",
    "\n",
    "1. **Додавання маркеру прохідності платежів:**\n",
    "   - Додаємо новий стовпець `payment_passed`, який позначає, чи пройшла оплата.\n",
    "   - Вважаємо, що оплата пройшла, якщо статус транзакції — `success` або `refunded`.\n",
    "\n",
    "2. **Агрегація даних за методом оплати:**\n",
    "   - Для кожного методу оплати обчислюємо:\n",
    "     - Загальну кількість транзакцій (`total_number_of_transactions`).\n",
    "     - Кількість успішних транзакцій (`number_of_passed`).\n",
    "   - Розраховуємо відсоток успішних транзакцій (`payment_success_rate`), який показує, наскільки ефективно проходять платежі для кожного методу.\n",
    "\n",
    "3. **Агрегація даних за методом оплати та валютою:**\n",
    "   - Аналогічно до попереднього кроку, але додаємо розподіл за валютою (`currency`).\n",
    "   - Це дозволяє оцінити, чи є відмінності в прохідності платежів між валютами (наприклад, USD і CAD) для одного й того ж методу оплати."
   ]
  },
  {
   "cell_type": "code",
   "execution_count": 509,
   "id": "41ab6af8-2d1f-4f84-8169-9a5db835ac9c",
   "metadata": {
    "jupyter": {
     "source_hidden": true
    }
   },
   "outputs": [],
   "source": [
    "temp = df.copy()\n",
    "temp['payment_passed'] = temp.status.isin(['success', 'refunded'])\n",
    "temp.head()\n",
    "\n",
    "temp1 = temp.groupby('payment_method').agg(total_number_of_transactions=('user_id','count'),\n",
    "                                   number_of_passed = ('payment_passed', 'sum')).reset_index()\n",
    "temp1['payment_success_rate'] = round(temp1.number_of_passed/temp1.total_number_of_transactions*100,2)\n",
    "\n",
    "\n",
    "temp2 = temp.groupby(['payment_method', 'currency']).agg(total_number_of_transactions=('user_id','count'),\n",
    "                                   number_of_passed = ('payment_passed', 'sum')).reset_index()\n",
    "temp2['payment_success_rate'] = round(temp2.number_of_passed/temp2.total_number_of_transactions*100,2)\n"
   ]
  },
  {
   "cell_type": "code",
   "execution_count": 510,
   "id": "0c36d628-a651-4464-b4c7-349232428964",
   "metadata": {
    "jupyter": {
     "source_hidden": true
    }
   },
   "outputs": [
    {
     "data": {
      "text/html": [
       "<div>\n",
       "<style scoped>\n",
       "    .dataframe tbody tr th:only-of-type {\n",
       "        vertical-align: middle;\n",
       "    }\n",
       "\n",
       "    .dataframe tbody tr th {\n",
       "        vertical-align: top;\n",
       "    }\n",
       "\n",
       "    .dataframe thead th {\n",
       "        text-align: right;\n",
       "    }\n",
       "</style>\n",
       "<table border=\"1\" class=\"dataframe\">\n",
       "  <thead>\n",
       "    <tr style=\"text-align: right;\">\n",
       "      <th></th>\n",
       "      <th>payment_method</th>\n",
       "      <th>total_number_of_transactions</th>\n",
       "      <th>number_of_passed</th>\n",
       "      <th>payment_success_rate</th>\n",
       "    </tr>\n",
       "  </thead>\n",
       "  <tbody>\n",
       "    <tr>\n",
       "      <th>0</th>\n",
       "      <td>Apple Pay</td>\n",
       "      <td>1459</td>\n",
       "      <td>671</td>\n",
       "      <td>45.99</td>\n",
       "    </tr>\n",
       "    <tr>\n",
       "      <th>1</th>\n",
       "      <td>Card</td>\n",
       "      <td>5050</td>\n",
       "      <td>2373</td>\n",
       "      <td>46.99</td>\n",
       "    </tr>\n",
       "  </tbody>\n",
       "</table>\n",
       "</div>"
      ],
      "text/plain": [
       "  payment_method  total_number_of_transactions  number_of_passed  \\\n",
       "0      Apple Pay                          1459               671   \n",
       "1           Card                          5050              2373   \n",
       "\n",
       "   payment_success_rate  \n",
       "0                 45.99  \n",
       "1                 46.99  "
      ]
     },
     "execution_count": 510,
     "metadata": {},
     "output_type": "execute_result"
    }
   ],
   "source": [
    "temp1"
   ]
  },
  {
   "cell_type": "code",
   "execution_count": 511,
   "id": "ecbedd5c-a97c-45b7-a017-f8a19a8272da",
   "metadata": {
    "jupyter": {
     "source_hidden": true
    }
   },
   "outputs": [
    {
     "data": {
      "text/html": [
       "<div>\n",
       "<style scoped>\n",
       "    .dataframe tbody tr th:only-of-type {\n",
       "        vertical-align: middle;\n",
       "    }\n",
       "\n",
       "    .dataframe tbody tr th {\n",
       "        vertical-align: top;\n",
       "    }\n",
       "\n",
       "    .dataframe thead th {\n",
       "        text-align: right;\n",
       "    }\n",
       "</style>\n",
       "<table border=\"1\" class=\"dataframe\">\n",
       "  <thead>\n",
       "    <tr style=\"text-align: right;\">\n",
       "      <th></th>\n",
       "      <th>payment_method</th>\n",
       "      <th>currency</th>\n",
       "      <th>total_number_of_transactions</th>\n",
       "      <th>number_of_passed</th>\n",
       "      <th>payment_success_rate</th>\n",
       "    </tr>\n",
       "  </thead>\n",
       "  <tbody>\n",
       "    <tr>\n",
       "      <th>0</th>\n",
       "      <td>Apple Pay</td>\n",
       "      <td>CAD</td>\n",
       "      <td>22</td>\n",
       "      <td>19</td>\n",
       "      <td>86.36</td>\n",
       "    </tr>\n",
       "    <tr>\n",
       "      <th>1</th>\n",
       "      <td>Apple Pay</td>\n",
       "      <td>USD</td>\n",
       "      <td>1437</td>\n",
       "      <td>652</td>\n",
       "      <td>45.37</td>\n",
       "    </tr>\n",
       "    <tr>\n",
       "      <th>2</th>\n",
       "      <td>Card</td>\n",
       "      <td>CAD</td>\n",
       "      <td>153</td>\n",
       "      <td>114</td>\n",
       "      <td>74.51</td>\n",
       "    </tr>\n",
       "    <tr>\n",
       "      <th>3</th>\n",
       "      <td>Card</td>\n",
       "      <td>USD</td>\n",
       "      <td>4897</td>\n",
       "      <td>2259</td>\n",
       "      <td>46.13</td>\n",
       "    </tr>\n",
       "  </tbody>\n",
       "</table>\n",
       "</div>"
      ],
      "text/plain": [
       "  payment_method currency  total_number_of_transactions  number_of_passed  \\\n",
       "0      Apple Pay      CAD                            22                19   \n",
       "1      Apple Pay      USD                          1437               652   \n",
       "2           Card      CAD                           153               114   \n",
       "3           Card      USD                          4897              2259   \n",
       "\n",
       "   payment_success_rate  \n",
       "0                 86.36  \n",
       "1                 45.37  \n",
       "2                 74.51  \n",
       "3                 46.13  "
      ]
     },
     "execution_count": 511,
     "metadata": {},
     "output_type": "execute_result"
    }
   ],
   "source": [
    "temp2"
   ]
  },
  {
   "cell_type": "markdown",
   "id": "8526ee96-55b3-496b-baed-e3033388a324",
   "metadata": {},
   "source": [
    "### **Висновки по Payment Success Rate**\n",
    "\n",
    "- **Apple Pay**:\n",
    "  - Успішність платежів — **45.99%**.\n",
    "  - У валюті **CAD** — **86.36%** (22 транзакції).\n",
    "  - У валюті **USD** — **45.37%**.\n",
    "\n",
    "- **Card**:\n",
    "  - Успішність платежів — **46.99%**.\n",
    "  - У валюті **CAD** — **74.51%**.\n",
    "  - У валюті **USD** — **46.13%**."
   ]
  },
  {
   "cell_type": "markdown",
   "id": "906cc81d-0bf6-45c0-8749-882f513fac84",
   "metadata": {},
   "source": [
    "## **3. Обчислення Churn Rate на чарджах у перший місяць підписки**\n",
    "\n",
    "### **Основна логіка:**\n",
    "1. **Підготовка даних:**\n",
    "   - Виділяємо перше слово з опису транзакції (`description`) для класифікації типів транзакцій.\n",
    "   - Сортуємо транзакції за користувачами та часом їх створення.\n",
    "\n",
    "2. **Фільтрація користувачів:**\n",
    "   - Вибираємо лише тих користувачів, у яких перша транзакція була `Subscription` (успішна, але не `refunded`).\n",
    "   - Видаляємо всіх інших користувачів.\n",
    "\n",
    "3. **Робота із транзакціями:**\n",
    "   - Фільтруємо дані, залишаючи лише транзакції типу `Subscription` та `Renew`.\n",
    "   - Обчислюємо час від першої транзакції для кожного користувача.\n",
    "\n",
    "4. **Аналіз за перший місяць:**\n",
    "   - Вибираємо лише транзакції, які відбулися протягом перших 30 днів з моменту першої підписки.\n",
    "   - Підраховуємо кількість користувачів, які зробили транзакцію типу `Renew`.\n",
    "\n",
    "5. **Розрахунок Churn Rate:**\n",
    "   - Розраховуємо відсоток користувачів, які не зробили `Renew` у перший місяць:"
   ]
  },
  {
   "cell_type": "code",
   "execution_count": 512,
   "id": "8b676d9c-bde8-4681-8efe-e58f36903a6b",
   "metadata": {
    "jupyter": {
     "source_hidden": true
    }
   },
   "outputs": [
    {
     "name": "stdout",
     "output_type": "stream",
     "text": [
      "Churn Rate в Renew підписки який відбувається на 30 день = 75.14 %\n"
     ]
    }
   ],
   "source": [
    "temp = df.copy()\n",
    "\n",
    "# Додавання нового стовпця з першим словом із description\n",
    "temp['first_word'] = temp['description'].apply(lambda x: x.split()[0] if isinstance(x, str) else None)\n",
    "\n",
    "temp = temp.sort_values(by=['user_id','created_at'])\n",
    "\n",
    "temp = temp[temp.status.isin(['success','refunded'])]\n",
    "\n",
    "# Ранжування транзакцій кожного користувача\n",
    "temp['rank'] = temp.groupby('user_id')['created_at'].rank(\n",
    "    method='dense',  # Однаковий час отримує однаковий ранг\n",
    "    ascending=True   # Ранжування за зростанням\n",
    ").astype(int)\n",
    "\n",
    "t1 = temp[temp['rank'] == 1]\n",
    "lst_of_users_only_first_success_sub = t1[(t1.first_word == 'Subscription') & (t1.status != 'refunded')].user_id.unique()\n",
    "\n",
    "temp = temp[temp.user_id.isin(lst_of_users_only_first_success_sub)]\n",
    "\n",
    "# Фільтрація лише транзакцій із first_word == 'Subscription' та 'Renew'\n",
    "subscription_types = ['Subscription', 'Renew']\n",
    "temp_filtered = temp[temp['first_word'].isin(subscription_types)].copy()\n",
    "\n",
    "temp_filtered = temp_filtered.merge(temp_filtered.groupby('user_id').agg(date_of_first_transaction = ('created_at','min')).reset_index(),\n",
    "                    on='user_id', how='inner')\n",
    "\n",
    "temp_filtered['time_from_first_transaction'] = (temp_filtered.created_at - temp_filtered.date_of_first_transaction).dt.days\n",
    "\n",
    "temp_filtered = temp_filtered[temp_filtered.time_from_first_transaction <= 30]\n",
    "\n",
    "users_w_renew = temp_filtered[temp_filtered.first_word == 'Renew'].user_id.nunique()\n",
    "\n",
    "total_user_w_first_sub = temp_filtered.user_id.nunique()\n",
    "\n",
    "print(f'Churn Rate в Renew підписки який відбувається на 30 день = {round((total_user_w_first_sub-users_w_renew)/total_user_w_first_sub*100,2)} %')"
   ]
  },
  {
   "cell_type": "markdown",
   "id": "7347e87d-8fc8-4f9e-afa4-0fe4ba952544",
   "metadata": {},
   "source": [
    "### **Висновки:**\n",
    "1. **Churn Rate на чарджах у перший місяць підписки становить 75.14%.**\n",
    "2. Є користувачі, у яких перша підписка була успішною, але вони зробили `refunded` для неї і навіть мали успішний `Renew`. Таких користувачів ми не враховуємо.\n",
    "3. **Поведінка транзакцій:**\n",
    "   - `Renew` завжди відбувається на 30-й день.\n",
    "   - `Retry` трапляється завжди на 31-й день або пізніше.\n",
    "4. **Статистика статусів транзакцій:**\n",
    "   - `Subscription`: 3204\n",
    "   - `Retry`: 1297\n",
    "   - `Renew`: 1240\n",
    "   - `Upsell`: 632\n",
    "   - `Upgrade`: 136\n",
    "5. Інколи в один і той же момент часу (до мілісекунди) трапляються кілька транзакцій, наприклад, `Subscription` разом із `Upsell` чи `Upgrade`, що додає певної плутанини у дані."
   ]
  },
  {
   "cell_type": "markdown",
   "id": "c051f609-3ba5-4e1b-bcfe-e19d7a3cd55c",
   "metadata": {},
   "source": [
    "## **4. Логіка підрахунків**\n",
    "\n",
    "**Логіка розрахунків була детально описана на кожному етапі, вище.**"
   ]
  },
  {
   "cell_type": "markdown",
   "id": "8954876e-94da-44bb-ad63-575f950127d7",
   "metadata": {},
   "source": [
    "## **5. Яку додаткову інформацію можна отримати з цих даних?**\n",
    "\n",
    "З аналізованих даних можна отримати наступну додаткову інформацію, яка стосується різних аспектів бізнесу:\n",
    "\n",
    "---\n",
    "\n",
    "### **1. ARPPU (Average Revenue Per Paying User):**\n",
    "- **Аналіз динаміки ARPPU:**\n",
    "  - Порівняння ARPPU між когортами (денна, тижнева, місячна).\n",
    "  - Порівняння ARPPU за часом життя (0, 30, 60 днів).\n",
    "  - Порівняння ARPPU між когортами (по різних екшенах: Retry, Upgrade, Renew тощо).\n",
    "  - Визначення найбільш \"прибуткових\" когорт для таргетування.\n",
    "- **Вплив змін цін:**\n",
    "  - Як зміна ціни підписки з $49 до $69 вплинула на ARPPU.\n",
    "  - Вплив Premium-підписок на ARPPU.\n",
    "\n",
    "---\n",
    "\n",
    "### **2. Churn Rate:**\n",
    "- **Сегментація Churn Rate:**\n",
    "  - Порівняння Churn Rate між когортами (денна, тижнева, місячна).\n",
    "  - Порівняння Churn Rate між когортами (по різних екшенах: Retry, Upgrade, Renew тощо).\n",
    "  - Аналіз Churn Rate для різних когорт за часом (0, 30, 60 днів).\n",
    "- **Визначення ключових факторів:**\n",
    "  - Оцінка ролі `Retry` у зменшенні Churn Rate.\n",
    "\n",
    "---\n",
    "\n",
    "### **3. Payment Success Rate:**\n",
    "- **Прохідність платежів:**\n",
    "  - Які методи оплати мають найкращий Payment Success Rate.\n",
    "  - Вплив валюти (CAD vs USD) на успішність платежів.\n",
    "\n",
    "---\n",
    "\n",
    "### **4. Поведінковий аналіз користувачів:**\n",
    "- **Аналіз Upsell/Upgrade:**\n",
    "  - Чи впливають `Upsell` або `Upgrade` на ARPPU та утримання.\n",
    "- **Поведінка користувачів із Refund:**\n",
    "  - Аналіз користувачів, які зробили `refunded` після першої успішної транзакції, та їх подальша активність (є ті, хто потім мав успішний Renew).\n",
    "\n",
    "---\n",
    "\n",
    "### **5. Аналіз за ринками (США та Канада):**\n",
    "- **Частка Premium-підписок:**\n",
    "  - Аналіз, чи є ринок, на якому Premium підписки мають більшу популярність.\n",
    "\n",
    "---\n",
    "\n",
    "### **6. Динаміка повторних транзакцій:**\n",
    "- **Часові патерни:**\n",
    "  - Як часто користувачі здійснюють `Retry` або `Renew`.\n",
    "  - Середній час до `Retry` для користувачів із невдалими платежами.\n",
    "- **Відсоток успіху Retry:**\n",
    "  - Який відсоток `Retry` завершується успішно.\n",
    "\n",
    "---\n",
    "\n",
    "### **7. Retention Rate:**\n",
    "- **Когортний аналіз Retention Rate:**\n",
    "  - Визначення, який відсоток користувачів залишається активним через 30, 60, 90 днів після першої транзакції.\n",
    "- **Retention у розрізі продуктів:**\n",
    "  - Оцінка, чи утримуються користувачі, які купують Premium-підписки, краще, ніж базові підписники.\n",
    "- **Retention для різних ринків:**\n",
    "  - Порівняння Retention Rate між США та Канадою.\n",
    "\n",
    "---\n",
    "\n",
    "### **8. Revenue Retention (Gross Revenue Retention):**\n",
    "- **Аналіз Revenue Retention:**\n",
    "  - Як зміни в доході зберігаються з часом у різних когорт.\n",
    "  - Чи зростає дохід від когорт із Upsell або Premium.\n",
    "- **Вплив Churn на Revenue Retention:**\n",
    "  - Які когорти генерують найбільше повторних платежів.\n",
    "\n",
    "---\n",
    "\n",
    "### **9. Lifetime Value (LTV):**\n",
    "- **Когортний аналіз LTV:**\n",
    "  - Оцінка довгострокової вартості користувачів, які здійснюють повторні покупки (Renew, Upsell).\n",
    "- **Сегментація LTV:**\n",
    "  - Розрахунок LTV для різних сегментів (Premium-підписки, Retry, різні ринки).\n",
    "- **Вплив Churn на LTV:**\n",
    "  - Як Churn Rate впливає на LTV для різних когорт.\n",
    "\n",
    "---\n",
    "\n",
    "### **10. Прогнозування (Forecasting):**\n",
    "- **Прогноз доходу:**\n",
    "  - Використання трендів ARPPU, Retention та Churn для прогнозування доходів у майбутніх періодах.\n",
    "- **Оцінка впливу змін:**\n",
    "  - Як нові пропозиції або ціни можуть вплинути на показники когорт.\n",
    "\n",
    "---\n",
    "\n",
    "### **11. Оцінка сезонності:**\n",
    "- **Визначення трендів:**\n",
    "  - Чи є сезонні впливи на підписки або транзакції."
   ]
  },
  {
   "cell_type": "markdown",
   "id": "609a61ba-dee9-4279-a9cd-33b6b177c0ba",
   "metadata": {},
   "source": [
    "## **6. Які інші метрики можуть бути корисними для аналізу бізнесу на основі наданих даних?**\n",
    "\n",
    "### **1. Метрики користувачів**\n",
    "- **Retention Rate:** Відсоток користувачів, які залишаються активними через 30, 60 днів.\n",
    "- **Cohort Retention:** Утримання користувачів за когортами.\n",
    "\n",
    "---\n",
    "\n",
    "### **2. Метрики доходу**\n",
    "- **ARPPU (Average Revenue Per Paying User):** Порівняння за когортами та часом (0, 30, 60 днів).\n",
    "- **Revenue Churn Rate:** Втрата доходу через відмову від підписок.\n",
    "\n",
    "---\n",
    "\n",
    "### **3. Метрики платежів**\n",
    "- **Payment Success Rate:** Успішність транзакцій для методів оплати та валют.\n",
    "- **Retry Success Rate:** Успішність платежів після `Retry`.\n",
    "\n",
    "---\n",
    "\n",
    "### **4. Поведінковий аналіз**\n",
    "- **Upsell/Upgrade Rate:** Частка користувачів, які здійснили Upsell або Upgrade.\n",
    "- **Retry Patterns:** Середній час до першого `Retry` та його ефективність.\n",
    "\n",
    "---\n",
    "\n",
    "### **5. Метрики ринку**\n",
    "- **Revenue per Region:** Порівняння доходів між ринками (США та Канада).\n",
    "- **Market Share per Region:** Частка користувачів між ринками.\n",
    "\n",
    "---\n",
    "\n",
    "### **6. Метрики продукту**\n",
    "- **Lifetime Value (LTV):** Довгострокова вартість користувача.\n",
    "- **Refund Rate:** Частка транзакцій, які були повернуті.\n",
    "\n",
    "---\n",
    "\n",
    "### **7. Прогнозування та сезонність**\n",
    "- **Seasonality Analysis:** Визначення сезонних трендів у підписках.\n",
    "- **Revenue Forecasting:** Прогноз доходів на основі Retention Rate та ARPPU.\n",
    "\n",
    "---\n",
    "\n",
    "### **Додаткові пропозиції**\n",
    "- Виконати когортний аналіз для ARPPU, Churn Rate, Retention.\n",
    "- Вивчити вплив Upsell/Upgrade на Retention та ARPPU."
   ]
  },
  {
   "cell_type": "markdown",
   "id": "af5e7b91-d205-44e4-9fef-0d56f9145b5f",
   "metadata": {},
   "source": [
    "## **7. Рекомендації щодо автоматизації звітності для бізнесу**\n",
    "\n",
    "### **1. Збір та зберігання даних**\n",
    "- **Джерело даних:** \n",
    "  - Якщо дані з Amplitude, налаштуйте їх експорт до бази даних.\n",
    "  - Якщо дані вже в базі даних, переходьте до інтеграції.\n",
    "  - Наситити базу даних додатково клієнтськими даними і маркетинговими.\n",
    "- **Зберігання:** Використовуйте централізовану базу даних (SQL чи хмарну платформу) для забезпечення доступності даних.\n",
    "\n",
    "---\n",
    "\n",
    "### **2. Інтеграція з Tableau**\n",
    "- Підключити Tableau безпосередньо до бази даних або іншого джерела даних.\n",
    "\n",
    "---\n",
    "\n",
    "### **3. Розробка дашборду**\n",
    "- Створити дашборди з основними метриками.\n",
    "\n",
    "---\n",
    "\n",
    "### **4. Автоматизація оновлення**\n",
    "- Поставити на щоденне оновлення даних дашборд.\n",
    "\n",
    "---\n",
    "\n",
    "### **5. Виставлення Трешхолдів, GOAL**\n",
    "- Позначити для Service Level метрик, показники, яких намагаємось досягти, або за які не повинні вирости впасти.\n",
    "\n",
    "---"
   ]
  },
  {
   "cell_type": "markdown",
   "id": "b69d973a-7a53-431b-92e1-f33cbc4e577d",
   "metadata": {},
   "source": [
    "## **8. Як побудувати звітність і які інструменти використовувати**\n",
    "\n",
    "### **1. Архітектура звітності**\n",
    "1. **Джерело даних:**\n",
    "   - Якщо дані в Amplitude:\n",
    "     - Перелив би дані в базу даних, бо наскільки знаю напряму з amplitude не можна тягнути дані в Табло.\n",
    "\n",
    "2. **Сховище:**\n",
    "   - Використовуйте хмарну платформу (BigQuery) або локальну базу даних (PostgreSQL, MySQL, Clickhouse) для централізації даних.\n",
    "\n",
    "3. **ETL-процес:**\n",
    "   - Інструменти для екстракції, трансформації та завантаження (ETL), наприклад:\n",
    "     - **Airflow**, **dbt** — для автоматизації обробки даних.\n",
    "   - Перевіряйте якість даних перед завантаженням у сховище.\n",
    "\n",
    "4. **Візуалізація:**\n",
    "   - Інструмент: **Tableau** (або альтернативи, superset - але він менш гнучкий).\n"
   ]
  }
 ],
 "metadata": {
  "kernelspec": {
   "display_name": "Python 3 (ipykernel)",
   "language": "python",
   "name": "python3"
  },
  "language_info": {
   "codemirror_mode": {
    "name": "ipython",
    "version": 3
   },
   "file_extension": ".py",
   "mimetype": "text/x-python",
   "name": "python",
   "nbconvert_exporter": "python",
   "pygments_lexer": "ipython3",
   "version": "3.12.5"
  }
 },
 "nbformat": 4,
 "nbformat_minor": 5
}
